{
 "cells": [
  {
   "cell_type": "markdown",
   "id": "d9f29857",
   "metadata": {},
   "source": [
    "# .......................................Used Car Price Prediction..................................."
   ]
  },
  {
   "cell_type": "markdown",
   "id": "9750552f",
   "metadata": {},
   "source": [
    "# 1. Reading the dataset"
   ]
  },
  {
   "cell_type": "code",
   "execution_count": 83,
   "id": "2c1bbeb4",
   "metadata": {},
   "outputs": [
    {
     "name": "stdout",
     "output_type": "stream",
     "text": [
      "Car_Name   Year       Car_age         Selling_Price   Present_Price Kms_Driven Owner      Fuel_Type  Seller_type Transmission\n",
      "-------------------------  ----  --  -----  ------  ------  -  ------  ----------  ---------\n",
      "ritz                       2014   7   3.35   5.59    27000  0  Petrol  Dealer      Manual\n",
      "sx4                        2013   8   4.75   9.54    43000  0  Diesel  Dealer      Manual\n",
      "ciaz                       2017   4   7.25   9.85     6900  0  Petrol  Dealer      Manual\n",
      "wagon r                    2011  10   2.85   4.15     5200  0  Petrol  Dealer      Manual\n",
      "swift                      2014   7   4.6    6.87    42450  0  Diesel  Dealer      Manual\n",
      "vitara brezza              2018   3   9.25   9.83     2071  0  Diesel  Dealer      Manual\n",
      "ciaz                       2015   6   6.75   8.12    18796  0  Petrol  Dealer      Manual\n",
      "s cross                    2015   6   6.5    8.61    33429  0  Diesel  Dealer      Manual\n",
      "ciaz                       2016   5   8.75   8.89    20273  0  Diesel  Dealer      Manual\n",
      "ciaz                       2015   6   7.45   8.92    42367  0  Diesel  Dealer      Manual\n",
      "alto 800                   2017   4   2.85   3.6      2135  0  Petrol  Dealer      Manual\n",
      "ciaz                       2015   6   6.85  10.38    51000  0  Diesel  Dealer      Manual\n",
      "ciaz                       2015   6   7.5    9.94    15000  0  Petrol  Dealer      Automatic\n",
      "ertiga                     2015   6   6.1    7.71    26000  0  Petrol  Dealer      Manual\n",
      "dzire                      2009  12   2.25   7.21    77427  0  Petrol  Dealer      Manual\n",
      "ertiga                     2016   5   7.75  10.79    43000  0  Diesel  Dealer      Manual\n",
      "ertiga                     2015   6   7.25  10.79    41678  0  Diesel  Dealer      Manual\n",
      "ertiga                     2016   5   7.75  10.79    43000  0  Diesel  Dealer      Manual\n",
      "wagon r                    2015   6   3.25   5.09    35500  0  CNG     Dealer      Manual\n",
      "sx4                        2010  11   2.65   7.98    41442  0  Petrol  Dealer      Manual\n",
      "alto k10                   2016   5   2.85   3.95    25000  0  Petrol  Dealer      Manual\n",
      "ignis                      2017   4   4.9    5.71     2400  0  Petrol  Dealer      Manual\n",
      "sx4                        2011  10   4.4    8.01    50000  0  Petrol  Dealer      Automatic\n",
      "alto k10                   2014   7   2.5    3.46    45280  0  Petrol  Dealer      Manual\n",
      "wagon r                    2013   8   2.9    4.41    56879  0  Petrol  Dealer      Manual\n",
      "swift                      2011  10   3      4.99    20000  0  Petrol  Dealer      Manual\n",
      "swift                      2013   8   4.15   5.87    55138  0  Petrol  Dealer      Manual\n",
      "swift                      2017   4   6      6.49    16200  0  Petrol  Individual  Manual\n",
      "alto k10                   2010  11   1.95   3.95    44542  0  Petrol  Dealer      Manual\n",
      "ciaz                       2015   6   7.45  10.38    45000  0  Diesel  Dealer      Manual\n",
      "ritz                       2012   9   3.1    5.98    51439  0  Diesel  Dealer      Manual\n",
      "ritz                       2011  10   2.35   4.89    54200  0  Petrol  Dealer      Manual\n",
      "swift                      2014   7   4.95   7.49    39000  0  Diesel  Dealer      Manual\n",
      "ertiga                     2014   7   6      9.95    45000  0  Diesel  Dealer      Manual\n",
      "dzire                      2014   7   5.5    8.06    45000  0  Diesel  Dealer      Manual\n",
      "sx4                        2011  10   2.95   7.74    49998  0  CNG     Dealer      Manual\n",
      "dzire                      2015   6   4.65   7.2     48767  0  Petrol  Dealer      Manual\n",
      "800                        2003  18   0.35   2.28   127000  0  Petrol  Individual  Manual\n",
      "alto k10                   2016   5   3      3.76    10079  0  Petrol  Dealer      Manual\n",
      "sx4                        2003  18   2.25   7.98    62000  0  Petrol  Dealer      Manual\n",
      "baleno                     2016   5   5.85   7.87    24524  0  Petrol  Dealer      Automatic\n",
      "alto k10                   2014   7   2.55   3.98    46706  0  Petrol  Dealer      Manual\n",
      "sx4                        2008  13   1.95   7.15    58000  0  Petrol  Dealer      Manual\n",
      "dzire                      2014   7   5.5    8.06    45780  0  Diesel  Dealer      Manual\n",
      "omni                       2012   9   1.25   2.69    50000  0  Petrol  Dealer      Manual\n",
      "ciaz                       2014   7   7.5   12.04    15000  0  Petrol  Dealer      Automatic\n",
      "ritz                       2013   8   2.65   4.89    64532  0  Petrol  Dealer      Manual\n",
      "wagon r                    2006  15   1.05   4.15    65000  0  Petrol  Dealer      Manual\n",
      "ertiga                     2015   6   5.8    7.71    25870  0  Petrol  Dealer      Manual\n",
      "ciaz                       2017   4   7.75   9.29    37000  0  Petrol  Dealer      Automatic\n",
      "fortuner                   2012   9  14.9   30.61   104707  0  Diesel  Dealer      Automatic\n",
      "fortuner                   2015   6  23     30.61    40000  0  Diesel  Dealer      Automatic\n",
      "innova                     2017   4  18     19.77    15000  0  Diesel  Dealer      Automatic\n",
      "fortuner                   2013   8  16     30.61   135000  0  Diesel  Individual  Automatic\n",
      "innova                     2005  16   2.75  10.21    90000  0  Petrol  Individual  Manual\n",
      "corolla altis              2009  12   3.6   15.04    70000  0  Petrol  Dealer      Automatic\n",
      "etios cross                2015   6   4.5    7.27    40534  0  Petrol  Dealer      Manual\n",
      "corolla altis              2010  11   4.75  18.54    50000  0  Petrol  Dealer      Manual\n",
      "etios g                    2014   7   4.1    6.8     39485  1  Petrol  Dealer      Manual\n",
      "fortuner                   2014   7  19.99  35.96    41000  0  Diesel  Dealer      Automatic\n",
      "corolla altis              2013   8   6.95  18.61    40001  0  Petrol  Dealer      Manual\n",
      "etios cross                2015   6   4.5    7.7     40588  0  Petrol  Dealer      Manual\n",
      "fortuner                   2014   7  18.75  35.96    78000  0  Diesel  Dealer      Automatic\n",
      "fortuner                   2015   6  23.5   35.96    47000  0  Diesel  Dealer      Automatic\n",
      "fortuner                   2017   4  33     36.23     6000  0  Diesel  Dealer      Automatic\n",
      "etios liva                 2014   7   4.75   6.95    45000  0  Diesel  Dealer      Manual\n",
      "innova                     2017   4  19.75  23.15    11000  0  Petrol  Dealer      Automatic\n",
      "fortuner                   2010  11   9.25  20.45    59000  0  Diesel  Dealer      Manual\n",
      "corolla altis              2011  10   4.35  13.74    88000  0  Petrol  Dealer      Manual\n",
      "corolla altis              2016   5  14.25  20.91    12000  0  Petrol  Dealer      Manual\n",
      "etios liva                 2014   7   3.95   6.76    71000  0  Diesel  Dealer      Manual\n",
      "corolla altis              2011  10   4.5   12.48    45000  0  Diesel  Dealer      Manual\n",
      "corolla altis              2013   8   7.45  18.61    56001  0  Petrol  Dealer      Manual\n",
      "etios liva                 2011  10   2.65   5.71    43000  0  Petrol  Dealer      Manual\n",
      "etios cross                2014   7   4.9    8.93    83000  0  Diesel  Dealer      Manual\n",
      "etios g                    2015   6   3.95   6.8     36000  0  Petrol  Dealer      Manual\n",
      "corolla altis              2013   8   5.5   14.68    72000  0  Petrol  Dealer      Manual\n",
      "corolla                    2004  17   1.5   12.35   135154  0  Petrol  Dealer      Automatic\n",
      "corolla altis              2010  11   5.25  22.83    80000  0  Petrol  Dealer      Automatic\n",
      "fortuner                   2012   9  14.5   30.61    89000  0  Diesel  Dealer      Automatic\n",
      "corolla altis              2016   5  14.73  14.89    23000  0  Diesel  Dealer      Manual\n",
      "etios gd                   2015   6   4.75   7.85    40000  0  Diesel  Dealer      Manual\n",
      "innova                     2017   4  23     25.39    15000  0  Diesel  Dealer      Automatic\n",
      "innova                     2015   6  12.5   13.46    38000  0  Diesel  Dealer      Manual\n",
      "innova                     2005  16   3.49  13.46   197176  0  Diesel  Dealer      Manual\n",
      "camry                      2006  15   2.5   23.73   142000  3  Petrol  Individual  Automatic\n",
      "land cruiser               2010  11  35     92.6     78000  0  Diesel  Dealer      Manual\n",
      "corolla altis              2012   9   5.9   13.74    56000  0  Petrol  Dealer      Manual\n",
      "etios liva                 2013   8   3.45   6.05    47000  0  Petrol  Dealer      Manual\n",
      "etios g                    2014   7   4.75   6.76    40000  0  Petrol  Dealer      Manual\n",
      "corolla altis              2009  12   3.8   18.61    62000  0  Petrol  Dealer      Manual\n",
      "innova                     2014   7  11.25  16.09    58242  0  Diesel  Dealer      Manual\n",
      "innova                     2005  16   3.51  13.7     75000  0  Petrol  Dealer      Manual\n",
      "fortuner                   2015   6  23     30.61    40000  0  Diesel  Dealer      Automatic\n",
      "corolla altis              2008  13   4     22.78    89000  0  Petrol  Dealer      Automatic\n",
      "corolla altis              2012   9   5.85  18.61    72000  0  Petrol  Dealer      Manual\n",
      "innova                     2016   5  20.75  25.39    29000  0  Diesel  Dealer      Automatic\n",
      "corolla altis              2017   4  17     18.64     8700  0  Petrol  Dealer      Manual\n",
      "corolla altis              2013   8   7.05  18.61    45000  0  Petrol  Dealer      Manual\n",
      "fortuner                   2010  11   9.65  20.45    50024  0  Diesel  Dealer      Manual\n",
      "Royal Enfield Thunder 500  2016   5   1.75   1.9      3000  0  Petrol  Individual  Manual\n",
      "UM Renegade Mojave         2017   4   1.7    1.82     1400  0  Petrol  Individual  Manual\n",
      "KTM RC200                  2017   4   1.65   1.78     4000  0  Petrol  Individual  Manual\n",
      "Bajaj Dominar 400          2017   4   1.45   1.6      1200  0  Petrol  Individual  Manual\n",
      "Royal Enfield Classic 350  2017   4   1.35   1.47     4100  0  Petrol  Individual  Manual\n",
      "KTM RC390                  2015   6   1.35   2.37    21700  0  Petrol  Individual  Manual\n",
      "Hyosung GT250R             2014   7   1.35   3.45    16500  1  Petrol  Individual  Manual\n",
      "Royal Enfield Thunder 350  2013   8   1.25   1.5     15000  0  Petrol  Individual  Manual\n",
      "Royal Enfield Thunder 350  2016   5   1.2    1.5     18000  0  Petrol  Individual  Manual\n",
      "Royal Enfield Classic 350  2017   4   1.2    1.47    11000  0  Petrol  Individual  Manual\n",
      "KTM RC200                  2016   5   1.2    1.78     6000  0  Petrol  Individual  Manual\n",
      "Royal Enfield Thunder 350  2016   5   1.15   1.5      8700  0  Petrol  Individual  Manual\n",
      "KTM 390 Duke               2014   7   1.15   2.4      7000  0  Petrol  Individual  Manual\n",
      "Mahindra Mojo XT300        2016   5   1.15   1.4     35000  0  Petrol  Individual  Manual\n",
      "Royal Enfield Classic 350  2015   6   1.15   1.47    17000  0  Petrol  Individual  Manual\n",
      "Royal Enfield Classic 350  2015   6   1.11   1.47    17500  0  Petrol  Individual  Manual\n",
      "Royal Enfield Classic 350  2013   8   1.1    1.47    33000  0  Petrol  Individual  Manual\n",
      "Royal Enfield Thunder 500  2015   6   1.1    1.9     14000  0  Petrol  Individual  Manual\n",
      "Royal Enfield Classic 350  2015   6   1.1    1.47    26000  0  Petrol  Individual  Manual\n",
      "Royal Enfield Thunder 500  2013   8   1.05   1.9      5400  0  Petrol  Individual  Manual\n",
      "Bajaj Pulsar RS200         2016   5   1.05   1.26     5700  0  Petrol  Individual  Manual\n",
      "Royal Enfield Thunder 350  2011  10   1.05   1.5      6900  0  Petrol  Individual  Manual\n",
      "Royal Enfield Bullet 350   2016   5   1.05   1.17     6000  0  Petrol  Individual  Manual\n",
      "Royal Enfield Classic 350  2013   8   1      1.47    46500  0  Petrol  Individual  Manual\n",
      "Royal Enfield Classic 500  2012   9   0.95   1.75    11500  0  Petrol  Individual  Manual\n",
      "Royal Enfield Classic 500  2009  12   0.9    1.75    40000  0  Petrol  Individual  Manual\n",
      "Bajaj Avenger 220          2017   4   0.9    0.95     1300  0  Petrol  Individual  Manual\n",
      "Bajaj Avenger 150          2016   5   0.75   0.8      7000  0  Petrol  Individual  Manual\n",
      "Honda CB Hornet 160R       2017   4   0.8    0.87     3000  0  Petrol  Individual  Manual\n",
      "Yamaha FZ S V 2.0          2017   4   0.78   0.84     5000  0  Petrol  Individual  Manual\n",
      "Honda CB Hornet 160R       2017   4   0.75   0.87    11000  0  Petrol  Individual  Manual\n",
      "Yamaha FZ 16               2015   6   0.75   0.82    18000  0  Petrol  Individual  Manual\n",
      "Bajaj Avenger 220          2017   4   0.75   0.95     3500  0  Petrol  Individual  Manual\n",
      "Bajaj Avenger 220          2016   5   0.72   0.95      500  0  Petrol  Individual  Manual\n",
      "TVS Apache RTR 160         2017   4   0.65   0.81    11800  0  Petrol  Individual  Manual\n",
      "Bajaj Pulsar 150           2015   6   0.65   0.74     5000  0  Petrol  Individual  Manual\n",
      "Honda CBR 150              2014   7   0.65   1.2     23500  0  Petrol  Individual  Manual\n",
      "Hero Extreme               2013   8   0.65   0.787   16000  0  Petrol  Individual  Manual\n",
      "Honda CB Hornet 160R       2016   5   0.6    0.87    15000  0  Petrol  Individual  Manual\n",
      "Bajaj Avenger 220 dtsi     2015   6   0.6    0.95    16600  0  Petrol  Individual  Manual\n",
      "Honda CBR 150              2013   8   0.6    1.2     32000  0  Petrol  Individual  Manual\n",
      "Bajaj Avenger 150 street   2016   5   0.6    0.8     20000  0  Petrol  Individual  Manual\n",
      "Yamaha FZ  v 2.0           2015   6   0.6    0.84    29000  0  Petrol  Individual  Manual\n",
      "Yamaha FZ  v 2.0           2016   5   0.6    0.84    25000  0  Petrol  Individual  Manual\n",
      "Bajaj Pulsar  NS 200       2014   7   0.6    0.99    25000  0  Petrol  Individual  Manual\n",
      "TVS Apache RTR 160         2012   9   0.6    0.81    19000  0  Petrol  Individual  Manual\n",
      "Hero Extreme               2014   7   0.55   0.787   15000  0  Petrol  Individual  Manual\n",
      "Yamaha FZ S V 2.0          2015   6   0.55   0.84    58000  0  Petrol  Individual  Manual\n",
      "Bajaj Pulsar 220 F         2010  11   0.52   0.94    45000  0  Petrol  Individual  Manual\n",
      "Bajaj Pulsar 220 F         2016   5   0.51   0.94    24000  0  Petrol  Individual  Manual\n",
      "TVS Apache RTR 180         2011  10   0.5    0.826    6000  0  Petrol  Individual  Manual\n",
      "Hero Passion X pro         2016   5   0.5    0.55    31000  0  Petrol  Individual  Manual\n",
      "Bajaj Pulsar NS 200        2012   9   0.5    0.99    13000  0  Petrol  Individual  Manual\n",
      "Bajaj Pulsar NS 200        2013   8   0.5    0.99    45000  0  Petrol  Individual  Manual\n",
      "Yamaha Fazer               2014   7   0.5    0.88     8000  0  Petrol  Individual  Manual\n",
      "Honda Activa 4G            2017   4   0.48   0.51     4300  0  Petrol  Individual  Automatic\n",
      "TVS Sport                  2017   4   0.48   0.52    15000  0  Petrol  Individual  Manual\n",
      "Yamaha FZ S V 2.0          2015   6   0.48   0.84    23000  0  Petrol  Individual  Manual\n",
      "Honda Dream Yuga           2017   4   0.48   0.54     8600  0  Petrol  Individual  Manual\n",
      "Honda Activa 4G            2017   4   0.45   0.51     4000  0  Petrol  Individual  Automatic\n",
      "Bajaj Avenger Street 220   2011  10   0.45   0.95    24000  0  Petrol  Individual  Manual\n",
      "TVS Apache RTR 180         2014   7   0.45   0.826   23000  0  Petrol  Individual  Manual\n",
      "Bajaj Pulsar NS 200        2012   9   0.45   0.99    14500  0  Petrol  Individual  Manual\n",
      "Bajaj Avenger 220 dtsi     2010  11   0.45   0.95    27000  0  Petrol  Individual  Manual\n",
      "Hero Splender iSmart       2016   5   0.45   0.54    14000  0  Petrol  Individual  Manual\n",
      "Activa 3g                  2016   5   0.45   0.54      500  0  Petrol  Individual  Automatic\n",
      "Hero Passion Pro           2016   5   0.45   0.55     1000  0  Petrol  Individual  Manual\n",
      "TVS Apache RTR 160         2014   7   0.42   0.81    42000  0  Petrol  Individual  Manual\n",
      "Honda CB Trigger           2013   8   0.42   0.73    12000  0  Petrol  Individual  Manual\n",
      "Hero Splender iSmart       2015   6   0.4    0.54    14000  0  Petrol  Individual  Manual\n",
      "Yamaha FZ S                2012   9   0.4    0.83     5500  0  Petrol  Individual  Manual\n",
      "Hero Passion Pro           2015   6   0.4    0.55     6700  0  Petrol  Individual  Manual\n",
      "Bajaj Pulsar 135 LS        2014   7   0.4    0.64    13700  0  Petrol  Individual  Manual\n",
      "Activa 4g                  2017   4   0.4    0.51     1300  0  Petrol  Individual  Automatic\n",
      "Honda CB Unicorn           2015   6   0.38   0.72    38600  0  Petrol  Individual  Manual\n",
      "Hero Honda CBZ extreme     2011  10   0.38   0.787   75000  0  Petrol  Individual  Manual\n",
      "Honda Karizma              2011  10   0.35   1.05    30000  0  Petrol  Individual  Manual\n",
      "Honda Activa 125           2016   5   0.35   0.57    24000  0  Petrol  Individual  Automatic\n",
      "TVS Jupyter                2014   7   0.35   0.52    19000  0  Petrol  Individual  Automatic\n",
      "Honda Karizma              2010  11   0.31   1.05   213000  0  Petrol  Individual  Manual\n",
      "Hero Honda Passion Pro     2012   9   0.3    0.51    60000  0  Petrol  Individual  Manual\n",
      "Hero Splender Plus         2016   5   0.3    0.48    50000  0  Petrol  Individual  Manual\n",
      "Honda CB Shine             2013   8   0.3    0.58    30000  0  Petrol  Individual  Manual\n",
      "Bajaj Discover 100         2013   8   0.27   0.47    21000  0  Petrol  Individual  Manual\n",
      "Bajaj Pulsar 150           2008  13   0.25   0.75    26000  1  Petrol  Individual  Manual\n",
      "Suzuki Access 125          2008  13   0.25   0.58     1900  0  Petrol  Individual  Automatic\n",
      "TVS Wego                   2010  11   0.25   0.52    22000  0  Petrol  Individual  Automatic\n",
      "Honda CB twister           2013   8   0.25   0.51    32000  0  Petrol  Individual  Manual\n",
      "Hero Glamour               2013   8   0.25   0.57    18000  0  Petrol  Individual  Manual\n",
      "Hero Super Splendor        2005  16   0.2    0.57    55000  0  Petrol  Individual  Manual\n",
      "Bajaj Pulsar 150           2008  13   0.2    0.75    60000  0  Petrol  Individual  Manual\n",
      "Bajaj Discover 125         2012   9   0.2    0.57    25000  1  Petrol  Individual  Manual\n",
      "Hero Hunk                  2007  14   0.2    0.75    49000  1  Petrol  Individual  Manual\n",
      "Hero  Ignitor Disc         2013   8   0.2    0.65    24000  1  Petrol  Individual  Manual\n",
      "Hero  CBZ Xtreme           2008  13   0.2    0.787   50000  0  Petrol  Individual  Manual\n",
      "Bajaj  ct 100              2015   6   0.18   0.32    35000  0  Petrol  Individual  Manual\n",
      "Activa 3g                  2008  13   0.17   0.52   500000  0  Petrol  Individual  Automatic\n",
      "Honda CB twister           2010  11   0.16   0.51    33000  0  Petrol  Individual  Manual\n",
      "Bajaj Discover 125         2011  10   0.15   0.57    35000  1  Petrol  Individual  Manual\n",
      "Honda CB Shine             2007  14   0.12   0.58    53000  0  Petrol  Individual  Manual\n",
      "Bajaj Pulsar 150           2006  15   0.1    0.75    92233  0  Petrol  Individual  Manual\n",
      "i20                        2010  11   3.25   6.79    58000  1  Diesel  Dealer      Manual\n",
      "grand i10                  2015   6   4.4    5.7     28200  0  Petrol  Dealer      Manual\n",
      "i10                        2011  10   2.95   4.6     53460  0  Petrol  Dealer      Manual\n",
      "eon                        2015   6   2.75   4.43    28282  0  Petrol  Dealer      Manual\n",
      "grand i10                  2016   5   5.25   5.7      3493  1  Petrol  Dealer      Manual\n",
      "xcent                      2017   4   5.75   7.13    12479  0  Petrol  Dealer      Manual\n",
      "grand i10                  2015   6   5.15   5.7     34797  0  Petrol  Dealer      Automatic\n",
      "i20                        2017   4   7.9    8.1      3435  0  Petrol  Dealer      Manual\n",
      "grand i10                  2015   6   4.85   5.7     21125  0  Diesel  Dealer      Manual\n",
      "i10                        2012   9   3.1    4.6     35775  0  Petrol  Dealer      Manual\n",
      "elantra                    2015   6  11.75  14.79    43535  0  Diesel  Dealer      Manual\n",
      "creta                      2016   5  11.25  13.6     22671  0  Petrol  Dealer      Manual\n",
      "i20                        2011  10   2.9    6.79    31604  0  Petrol  Dealer      Manual\n",
      "grand i10                  2017   4   5.25   5.7     20114  0  Petrol  Dealer      Manual\n",
      "verna                      2012   9   4.5    9.4     36100  0  Petrol  Dealer      Manual\n",
      "eon                        2016   5   2.9    4.43    12500  0  Petrol  Dealer      Manual\n",
      "eon                        2016   5   3.15   4.43    15000  0  Petrol  Dealer      Manual\n",
      "verna                      2014   7   6.45   8.4     45078  0  Petrol  Dealer      Manual\n",
      "verna                      2012   9   4.5    9.4     36000  0  Petrol  Dealer      Manual\n",
      "eon                        2017   4   3.5    5.43    38488  0  Petrol  Dealer      Manual\n",
      "i20                        2013   8   4.5    6.79    32000  0  Petrol  Dealer      Automatic\n",
      "i20                        2014   7   6      7.6     77632  0  Diesel  Dealer      Manual\n",
      "verna                      2015   6   8.25   9.4     61381  0  Diesel  Dealer      Manual\n",
      "verna                      2013   8   5.11   9.4     36198  0  Petrol  Dealer      Automatic\n",
      "i10                        2011  10   2.7    4.6     22517  0  Petrol  Dealer      Manual\n",
      "grand i10                  2015   6   5.25   5.7     24678  0  Petrol  Dealer      Manual\n",
      "i10                        2011  10   2.55   4.43    57000  0  Petrol  Dealer      Manual\n",
      "verna                      2012   9   4.95   9.4     60000  0  Diesel  Dealer      Manual\n",
      "i20                        2012   9   3.1    6.79    52132  0  Diesel  Dealer      Manual\n",
      "verna                      2013   8   6.15   9.4     45000  0  Diesel  Dealer      Manual\n",
      "verna                      2017   4   9.25   9.4     15001  0  Petrol  Dealer      Manual\n",
      "elantra                    2015   6  11.45  14.79    12900  0  Petrol  Dealer      Automatic\n",
      "grand i10                  2013   8   3.9    5.7     53000  0  Diesel  Dealer      Manual\n",
      "grand i10                  2015   6   5.5    5.7      4492  0  Petrol  Dealer      Manual\n",
      "verna                      2017   4   9.1    9.4     15141  0  Petrol  Dealer      Manual\n",
      "eon                        2016   5   3.1    4.43    11849  0  Petrol  Dealer      Manual\n",
      "creta                      2015   6  11.25  13.6     68000  0  Diesel  Dealer      Manual\n",
      "verna                      2013   8   4.8    9.4     60241  0  Petrol  Dealer      Manual\n",
      "eon                        2012   9   2      4.43    23709  0  Petrol  Dealer      Manual\n",
      "verna                      2012   9   5.35   9.4     32322  0  Diesel  Dealer      Manual\n",
      "xcent                      2015   6   4.75   7.13    35866  1  Petrol  Dealer      Manual\n",
      "xcent                      2014   7   4.4    7.13    34000  0  Petrol  Dealer      Manual\n",
      "i20                        2016   5   6.25   7.6      7000  0  Petrol  Dealer      Manual\n",
      "verna                      2013   8   5.95   9.4     49000  0  Diesel  Dealer      Manual\n",
      "verna                      2012   9   5.2    9.4     71000  0  Diesel  Dealer      Manual\n",
      "i20                        2012   9   3.75   6.79    35000  0  Petrol  Dealer      Manual\n",
      "verna                      2015   6   5.95   9.4     36000  0  Petrol  Dealer      Manual\n",
      "i10                        2013   8   4      4.6     30000  0  Petrol  Dealer      Manual\n",
      "i20                        2016   5   5.25   7.6     17000  0  Petrol  Dealer      Manual\n",
      "creta                      2016   5  12.9   13.6     35934  0  Diesel  Dealer      Manual\n",
      "city                       2013   8   5      9.9     56701  0  Petrol  Dealer      Manual\n",
      "brio                       2015   6   5.4    6.82    31427  0  Petrol  Dealer      Automatic\n",
      "city                       2014   7   7.2    9.9     48000  0  Diesel  Dealer      Manual\n",
      "city                       2013   8   5.25   9.9     54242  0  Petrol  Dealer      Manual\n",
      "brio                       2012   9   3      5.35    53675  0  Petrol  Dealer      Manual\n",
      "city                       2016   5  10.25  13.6     49562  0  Petrol  Dealer      Manual\n",
      "city                       2015   6   8.5   13.6     40324  0  Petrol  Dealer      Manual\n",
      "city                       2015   6   8.4   13.6     25000  0  Petrol  Dealer      Manual\n",
      "amaze                      2014   7   3.9    7       36054  0  Petrol  Dealer      Manual\n",
      "city                       2016   5   9.15  13.6     29223  0  Petrol  Dealer      Manual\n",
      "brio                       2016   5   5.5    5.97     5600  0  Petrol  Dealer      Manual\n",
      "amaze                      2015   6   4      5.8     40023  0  Petrol  Dealer      Manual\n",
      "jazz                       2016   5   6.6    7.7     16002  0  Petrol  Dealer      Manual\n",
      "amaze                      2015   6   4      7       40026  0  Petrol  Dealer      Manual\n",
      "jazz                       2017   4   6.5    8.7     21200  0  Petrol  Dealer      Manual\n",
      "amaze                      2014   7   3.65   7       35000  0  Petrol  Dealer      Manual\n",
      "city                       2016   5   8.35   9.4     19434  0  Diesel  Dealer      Manual\n",
      "brio                       2017   4   4.8    5.8     19000  0  Petrol  Dealer      Manual\n",
      "city                       2015   6   6.7   10       18828  0  Petrol  Dealer      Manual\n",
      "city                       2011  10   4.1   10       69341  0  Petrol  Dealer      Manual\n",
      "city                       2009  12   3     10       69562  0  Petrol  Dealer      Manual\n",
      "city                       2015   6   7.5   10       27600  0  Petrol  Dealer      Manual\n",
      "jazz                       2010  11   2.25   7.5     61203  0  Petrol  Dealer      Manual\n",
      "brio                       2014   7   5.3    6.8     16500  0  Petrol  Dealer      Manual\n",
      "city                       2016   5  10.9   13.6     30753  0  Petrol  Dealer      Automatic\n",
      "city                       2015   6   8.65  13.6     24800  0  Petrol  Dealer      Manual\n",
      "city                       2015   6   9.7   13.6     21780  0  Petrol  Dealer      Manual\n",
      "jazz                       2016   5   6      8.4      4000  0  Petrol  Dealer      Manual\n",
      "city                       2014   7   6.25  13.6     40126  0  Petrol  Dealer      Manual\n",
      "brio                       2015   6   5.25   5.9     14465  0  Petrol  Dealer      Manual\n",
      "city                       2006  15   2.1    7.6     50456  0  Petrol  Dealer      Manual\n",
      "city                       2014   7   8.25  14       63000  0  Diesel  Dealer      Manual\n",
      "city                       2016   5   8.99  11.8      9010  0  Petrol  Dealer      Manual\n",
      "brio                       2013   8   3.5    5.9      9800  0  Petrol  Dealer      Manual\n",
      "jazz                       2016   5   7.4    8.5     15059  0  Petrol  Dealer      Automatic\n",
      "jazz                       2016   5   5.65   7.9     28569  0  Petrol  Dealer      Manual\n",
      "amaze                      2015   6   5.75   7.5     44000  0  Petrol  Dealer      Automatic\n",
      "city                       2015   6   8.4   13.6     34000  0  Petrol  Dealer      Manual\n",
      "city                       2016   5  10.11  13.6     10980  0  Petrol  Dealer      Manual\n",
      "amaze                      2014   7   4.5    6.4     19000  0  Petrol  Dealer      Manual\n",
      "brio                       2015   6   5.4    6.1     31427  0  Petrol  Dealer      Manual\n",
      "jazz                       2016   5   6.4    8.4     12000  0  Petrol  Dealer      Manual\n",
      "city                       2010  11   3.25   9.9     38000  0  Petrol  Dealer      Manual\n",
      "amaze                      2014   7   3.75   6.8     33019  0  Petrol  Dealer      Manual\n",
      "city                       2015   6   8.55  13.09    60076  0  Diesel  Dealer      Manual\n",
      "city                       2016   5   9.5   11.6     33988  0  Diesel  Dealer      Manual\n",
      "brio                       2015   6   4      5.9     60000  0  Petrol  Dealer      Manual\n",
      "city                       2009  12   3.35  11       87934  0  Petrol  Dealer      Manual\n",
      "city                       2017   4  11.5   12.5      9000  0  Diesel  Dealer      Manual\n",
      "brio                       2016   5   5.3    5.9      5464  0  Petrol  Dealer      Manual\n",
      "-------------------------  ----  --  -----  ------  ------  -  ------  ----------  ---------\n"
     ]
    }
   ],
   "source": [
    "# Load the dataset using the open function\n",
    "import csv\n",
    "from tabulate import tabulate\n",
    "\n",
    "with open('car data1.csv', 'r') as file:\n",
    "    reader = csv.reader(file)\n",
    "    headers = next(reader)\n",
    "    dataset = [row for row in reader]\n",
    "\n",
    "\n",
    "print('{:<10} {:<10} {:<15} {:<15} {:<10} {:<10} {:<10} {:<10} {:<10} {:<10}'.format(*headers))\n",
    "print(tabulate(dataset))\n",
    "\n",
    "\n",
    "    "
   ]
  },
  {
   "cell_type": "markdown",
   "id": "771ff6a3",
   "metadata": {},
   "source": [
    "# 2. Display Head of The Dataset"
   ]
  },
  {
   "cell_type": "code",
   "execution_count": 84,
   "id": "2fd9fd1f",
   "metadata": {},
   "outputs": [
    {
     "name": "stdout",
     "output_type": "stream",
     "text": [
      "Car_Name   Year       Car_age         Selling_Price   Present_Price Kms_Driven Owner      Fuel_Type  Seller_type Transmission\n",
      "ritz       2014       7               3.35            5.59            27000      0               Petrol     Dealer     Manual     \n",
      "sx4        2013       8               4.75            9.54            43000      0               Diesel     Dealer     Manual     \n",
      "ciaz       2017       4               7.25            9.85            6900       0               Petrol     Dealer     Manual     \n",
      "wagon r    2011       10              2.85            4.15            5200       0               Petrol     Dealer     Manual     \n",
      "swift      2014       7               4.6             6.87            42450      0               Diesel     Dealer     Manual     \n"
     ]
    }
   ],
   "source": [
    "import csv\n",
    "\n",
    "# open the CSV file and read the header row\n",
    "with open('car data1.csv') as file:\n",
    "    reader = csv.reader(file)\n",
    "    header = next(reader)\n",
    "    \n",
    "\n",
    "    # print the header row\n",
    "    print('{:<10} {:<10} {:<15} {:<15} {:<10} {:<10} {:<10} {:<10} {:<10} {:<10}'.format(*header))\n",
    "    \n",
    "\n",
    "    # read and print the first few rows of data\n",
    "    for i in range(5):\n",
    "        row = next(reader, None)\n",
    "        if row is not None:\n",
    "            print('{:<10} {:<10} {:<15} {:<15} {:<15} {:<10} {:<15} {:<10} {:<10} {:<10} '.format(*row))\n",
    "        else:\n",
    "            break\n",
    "            "
   ]
  },
  {
   "cell_type": "raw",
   "id": "40906e14",
   "metadata": {},
   "source": [
    "The for loop iterates over a range of five values using the range() function.\n",
    "\n",
    "inside the loop, the next() function is called to get the next row from the CSV file"
   ]
  },
  {
   "cell_type": "markdown",
   "id": "1d91a7b2",
   "metadata": {},
   "source": [
    "# 3. Display Tail of the dataset"
   ]
  },
  {
   "cell_type": "code",
   "execution_count": 85,
   "id": "1a0322f5",
   "metadata": {},
   "outputs": [
    {
     "name": "stdout",
     "output_type": "stream",
     "text": [
      "Car_Name   Year       Car_age         Selling_Price   Present_Price Kms_Driven Owner      Fuel_Type  Seller_type Transmission\n",
      "city       2016       5               9.5             11.6            33988      0               Diesel     Dealer     Manual    \n",
      "brio       2015       6               4               5.9             60000      0               Petrol     Dealer     Manual    \n",
      "city       2009       12              3.35            11              87934      0               Petrol     Dealer     Manual    \n",
      "city       2017       4               11.5            12.5            9000       0               Diesel     Dealer     Manual    \n",
      "brio       2016       5               5.3             5.9             5464       0               Petrol     Dealer     Manual    \n"
     ]
    }
   ],
   "source": [
    "# Open the CSV file in read mode\n",
    "with open('car data1.csv', 'r') as file:\n",
    "    # Read the contents of the file into a list of strings\n",
    "    lines = file.readlines()\n",
    "\n",
    "# Get the header row and the last 5 rows\n",
    "header = lines[0]\n",
    "last_five_lines = lines[-5:]\n",
    "\n",
    "# Split the header row into a list of column names\n",
    "columns = header.strip().split(',')\n",
    "##############################################################################################################################\n",
    "# In oder to print in the proper form we use this code\n",
    "\n",
    "# Print the header row with proper alignment\n",
    "print('{:<10} {:<10} {:<15} {:<15} {:<10} {:<10} {:<10} {:<10} {:<10} {:<10}'.format(*columns))\n",
    "\n",
    "# Print the last 5 rows with proper alignment\n",
    "for line in last_five_lines:\n",
    "    # Split the line into a list of values\n",
    "    values = line.strip().split(',')\n",
    "    \n",
    "    # Print the values with proper alignment\n",
    "    print('{:<10} {:<10} {:<15} {:<15} {:<15} {:<10} {:<15} {:<10} {:<10} {:<10}'.format(*values))"
   ]
  },
  {
   "cell_type": "markdown",
   "id": "77c698ad",
   "metadata": {},
   "source": [
    "# 4. Display Dtypes of the dataset"
   ]
  },
  {
   "cell_type": "code",
   "execution_count": 86,
   "id": "29114923",
   "metadata": {},
   "outputs": [
    {
     "name": "stdout",
     "output_type": "stream",
     "text": [
      "Car_Name: Mixed datatypes\n",
      "Year: float\n",
      "Car_age: float\n",
      "Selling_Price: float\n",
      "Present_Price: float\n",
      "Kms_Driven: float\n",
      "Owner: float\n",
      "Fuel_Type: str\n",
      "Seller_type: str\n",
      "Transmission: str\n"
     ]
    }
   ],
   "source": [
    "# Step 1: Load the dataset into a Python environment\n",
    "with open('car data1.csv', 'r') as f:\n",
    "    reader = csv.reader(f)\n",
    "    data = list(reader)\n",
    "\n",
    "rows = data\n",
    "header_row = rows[0]  # Get the first row as the header\n",
    "data_rows = rows[1:]  # Get the remaining rows as the data\n",
    "\n",
    "header_columns = header_row\n",
    "num_columns = len(header_columns)\n",
    "\n",
    "column_datatypes = [set() for i in range(num_columns)]\n",
    "\n",
    "for row in data_rows:\n",
    "    columns = row\n",
    "    for i, column in enumerate(columns):\n",
    "        try:\n",
    "            float(column)\n",
    "            column_datatypes[i].add(float)\n",
    "        except ValueError:\n",
    "            column_datatypes[i].add(str)\n",
    "\n",
    "for i, datatype_set in enumerate(column_datatypes):\n",
    "    column_name = header_columns[i]\n",
    "    if len(datatype_set) == 1:\n",
    "        datatype = datatype_set.pop()\n",
    "        print(f\"{column_name}: {datatype.__name__}\")\n",
    "    else:\n",
    "        print(f\"{column_name}: Mixed datatypes\")"
   ]
  },
  {
   "cell_type": "markdown",
   "id": "df1b0b45",
   "metadata": {},
   "source": [
    "## 5. Find Shape of Our Dataset (Number of Rows And Number of Columns)"
   ]
  },
  {
   "cell_type": "code",
   "execution_count": 87,
   "id": "0f2ecad1",
   "metadata": {},
   "outputs": [
    {
     "name": "stdout",
     "output_type": "stream",
     "text": [
      "Number of Rows: 302\n",
      "Number of Columns: 10\n"
     ]
    }
   ],
   "source": [
    "# Open the CSV file\n",
    "with open('car data1.csv', 'r') as file:\n",
    "\n",
    "    # Initialize the row and column counts\n",
    "    num_rows = 0\n",
    "    num_cols = 0\n",
    "\n",
    "    # Loop through each line in the file\n",
    "    for line in file:\n",
    "\n",
    "        # Increment the row count\n",
    "        num_rows += 1\n",
    "\n",
    "        # Split the line into fields and count the number of fields\n",
    "        fields = line.split(',')\n",
    "        curr_num_cols = len(fields)\n",
    "\n",
    "        # Update the column count if this is the largest number of fields seen so far\n",
    "        if curr_num_cols > num_cols:\n",
    "            num_cols = curr_num_cols\n",
    "\n",
    "# Print the shape of the dataset\n",
    "print(\"Number of Rows:\", num_rows)\n",
    "print(\"Number of Columns:\", num_cols)"
   ]
  },
  {
   "cell_type": "markdown",
   "id": "b2082279",
   "metadata": {},
   "source": [
    "# 6. Get Overall Statistics About The Dataset "
   ]
  },
  {
   "cell_type": "code",
   "execution_count": 88,
   "id": "3c811aec",
   "metadata": {},
   "outputs": [
    {
     "name": "stdout",
     "output_type": "stream",
     "text": [
      "Car_Name: count=1, min=800.0, max=800.0, mean=800.0, std=0.0\n",
      "Year: count=301, min=2003.0, max=2018.0, mean=2013.6279069767443, std=2.886746885230243\n",
      "Car_age: count=301, min=3.0, max=18.0, mean=7.372093023255814, std=2.886746885230246\n",
      "Selling_Price: count=301, min=0.1, max=35.0, mean=4.661295681063127, std=5.074361323307891\n",
      "Present_Price: count=301, min=0.32, max=92.6, mean=7.628471760797344, std=8.62821596358823\n",
      "Kms_Driven: count=301, min=500.0, max=500000.0, mean=36947.20598006644, std=38822.23398884308\n",
      "Owner: count=301, min=0.0, max=3.0, mean=0.04318936877076412, std=0.24750273132477418\n"
     ]
    }
   ],
   "source": [
    "# to print the description of data set\n",
    "# Read the CSV file and calculate the summary statistics for each column\n",
    "with open('car data1.csv', 'r') as f:\n",
    "    reader = csv.reader(f)\n",
    "    header = next(reader)  # Get the header row\n",
    "    data = [[] for _ in range(len(header))]\n",
    "    for row in reader:\n",
    "        for i in range(len(row)):#index i used to access the corresponding list in data.\n",
    "            try:\n",
    "                data[i].append(float(row[i]))\n",
    "            except ValueError:\n",
    "                pass  # placeholder to indicate that no action should be taken\n",
    "\n",
    "# Print the summary statistics for each column\n",
    "for i in range(len(header)):\n",
    "    column_data = data[i]\n",
    "    count = len(column_data)\n",
    "    if count == 0:\n",
    "        continue\n",
    "    minimum = min(column_data)\n",
    "    maximum = max(column_data)\n",
    "    mean = sum(column_data) / count\n",
    "    variance = sum((x - mean) ** 2 for x in column_data) / count\n",
    "    std_dev = variance ** 0.5\n",
    "    print(f\"{header[i]}: count={count}, min={minimum}, max={maximum}, mean={mean}, std={std_dev}\")"
   ]
  },
  {
   "cell_type": "markdown",
   "id": "dcf6b002",
   "metadata": {},
   "source": [
    "## 7.Check Null Values In The Dataset"
   ]
  },
  {
   "cell_type": "code",
   "execution_count": 89,
   "id": "59baee13",
   "metadata": {},
   "outputs": [
    {
     "name": "stdout",
     "output_type": "stream",
     "text": [
      "Car_Name: 0\n",
      "Year: 0\n",
      "Car_age: 0\n",
      "Selling_Price: 0\n",
      "Present_Price: 0\n",
      "Kms_Driven: 0\n",
      "Owner: 0\n",
      "Fuel_Type: 0\n",
      "Seller_type: 0\n",
      "Transmission: 0\n"
     ]
    }
   ],
   "source": [
    "# Open the CSV file in read mode\n",
    "with open('car data1.csv', 'r') as file:\n",
    "\n",
    "    # Read the first line of the file\n",
    "    header = file.readline().rstrip().split(',')\n",
    "\n",
    "    # Initialize a dictionary to count null values for each column\n",
    "    null_counts = {col: 0 for col in header}\n",
    "\n",
    "    # Iterate over each subsequent line in the file\n",
    "    for line in file:\n",
    "        # Split the line into its values\n",
    "        values = line.rstrip().split(',')\n",
    "\n",
    "        # Increment the null count for each null value in the line\n",
    "        for col_num, value in enumerate(values):\n",
    "            if not value:\n",
    "                null_counts[header[col_num]] += 1\n",
    "\n",
    "    # Print the null counts for each column\n",
    "    for col, count in null_counts.items():\n",
    "        print(f'{col}: {count}')"
   ]
  },
  {
   "cell_type": "markdown",
   "id": "a3e5bd5a",
   "metadata": {},
   "source": [
    "# Data Preprocessing"
   ]
  },
  {
   "cell_type": "markdown",
   "id": "c6efb3b4",
   "metadata": {},
   "source": [
    "#### Dealing With Categorical Variables"
   ]
  },
  {
   "cell_type": "code",
   "execution_count": 90,
   "id": "a577ce47",
   "metadata": {
    "scrolled": false
   },
   "outputs": [
    {
     "name": "stdout",
     "output_type": "stream",
     "text": [
      "Column Name    Unique Values\n",
      "-------------  ------------------------------------------------------------------------------------------------------------------------------------------------------------------------------------------------------------------------------------------------------------------------------------------------------------------------------------------------------------------------------------------------------------------------------------------------------------------------------------------------------------------------------------------------------------------------------------------------------------------------------------------------------------------------------------------------------------------------------------------------------------------------------------------------------------------------------------------------------------------------------------------------------------------------------------------------------------------------------------------------------------------------------------------------------------------------------------------------------------------------------------------------------------------------------------------------------------------------------------------------------------------------------------------------------------------------------------------------------------------------------------------------------------------------------------------------------------------------------------------------\n",
      "Fuel_Type      Diesel, Petrol, CNG\n",
      "Seller_Type    Individual, Dealer\n",
      "Transmission   Manual, Automatic\n",
      "Car_Name       Bajaj Discover 125, sx4, alto k10, Honda CB Hornet 160R, Hero Splender iSmart, Hero Hunk, swift, omni, camry, etios g, Honda Dream Yuga , brio, Bajaj Avenger 150 street, Honda CBR 150, Bajaj Avenger Street 220, Hero Passion X pro, Hero Splender Plus, city, jazz, TVS Wego, Hero Honda CBZ extreme, xcent, etios liva, Bajaj Discover 100, ignis, Bajaj Pulsar 135 LS, 800, Bajaj Pulsar  NS 200, Bajaj Pulsar 150, Honda CB Trigger, alto 800, Bajaj  ct 100, s cross, KTM RC200, etios gd, Royal Enfield Bullet 350, TVS Sport , ciaz, UM Renegade Mojave, Honda Activa 4G, Hyosung GT250R, Activa 3g, corolla altis, vitara brezza, Royal Enfield Classic 350, corolla, i10, Yamaha FZ  v 2.0, Bajaj Pulsar RS200, Honda CB Unicorn, ritz, Hero  Ignitor Disc, Royal Enfield Thunder 500, TVS Apache RTR 160, creta, eon, Bajaj Pulsar NS 200, Yamaha Fazer , Hero Super Splendor, grand i10, Hero Honda Passion Pro, Yamaha FZ S , i20, ertiga, KTM 390 Duke , amaze, Yamaha FZ 16, Bajaj Dominar 400, innova, Honda Karizma, Hero  CBZ Xtreme, Bajaj Avenger 150, verna, Honda CB twister, Yamaha FZ S V 2.0, Bajaj Pulsar 220 F, TVS Jupyter, Bajaj Avenger 220, elantra, dzire, land cruiser, Activa 4g, baleno, fortuner, Royal Enfield Classic 500, Hero Glamour, wagon r, Honda Activa 125, TVS Apache RTR 180, Honda CB Shine, Mahindra Mojo XT300, Hero Extreme, Royal Enfield Thunder 350, Suzuki Access 125, Bajaj Avenger 220 dtsi, Hero Passion Pro, KTM RC390, etios cross\n"
     ]
    }
   ],
   "source": [
    "import csv\n",
    "from tabulate import tabulate\n",
    "\n",
    "# Open the CSV file and read it into a list of dictionaries\n",
    "with open('car data1.csv') as f:\n",
    "    reader = csv.DictReader(f)\n",
    "    data = [row for row in reader]\n",
    "\n",
    "# Get the unique values for each categorical column\n",
    "fuel_types = set(row['Fuel_Type'] for row in data)\n",
    "seller_types = set(row['Seller_type'] for row in data)\n",
    "transmissions = set(row['Transmission'] for row in data)\n",
    "car_names = set(row['Car_Name'] for row in data)\n",
    "\n",
    "# Create a table format output using the tabulate module\n",
    "print(tabulate([\n",
    "    ['Fuel_Type', ', '.join(fuel_types)],\n",
    "    ['Seller_Type', ', '.join(seller_types)],\n",
    "    ['Transmission', ', '.join(transmissions)],\n",
    "    ['Car_Name', ', '.join(car_names)]\n",
    "], headers=['Column Name', 'Unique Values']))"
   ]
  },
  {
   "cell_type": "code",
   "execution_count": 91,
   "id": "3ad8443e",
   "metadata": {},
   "outputs": [
    {
     "name": "stdout",
     "output_type": "stream",
     "text": [
      "['Year', 'Car_age', 'Selling_Price', 'Present_Price', 'Kms_Driven', 'Owner', 'Fuel_Type', 'Seller_type', 'Transmission']\n",
      "['2014', '7', '3.35', '5.59', '27000', '0', 'Petrol', 'Dealer', 'Manual']\n",
      "['2013', '8', '4.75', '9.54', '43000', '0', 'Diesel', 'Dealer', 'Manual']\n",
      "['2017', '4', '7.25', '9.85', '6900', '0', 'Petrol', 'Dealer', 'Manual']\n",
      "['2011', '10', '2.85', '4.15', '5200', '0', 'Petrol', 'Dealer', 'Manual']\n",
      "['2014', '7', '4.6', '6.87', '42450', '0', 'Diesel', 'Dealer', 'Manual']\n",
      "['2018', '3', '9.25', '9.83', '2071', '0', 'Diesel', 'Dealer', 'Manual']\n",
      "['2015', '6', '6.75', '8.12', '18796', '0', 'Petrol', 'Dealer', 'Manual']\n",
      "['2015', '6', '6.5', '8.61', '33429', '0', 'Diesel', 'Dealer', 'Manual']\n",
      "['2016', '5', '8.75', '8.89', '20273', '0', 'Diesel', 'Dealer', 'Manual']\n",
      "['2015', '6', '7.45', '8.92', '42367', '0', 'Diesel', 'Dealer', 'Manual']\n",
      "['2017', '4', '2.85', '3.6', '2135', '0', 'Petrol', 'Dealer', 'Manual']\n",
      "['2015', '6', '6.85', '10.38', '51000', '0', 'Diesel', 'Dealer', 'Manual']\n",
      "['2015', '6', '7.5', '9.94', '15000', '0', 'Petrol', 'Dealer', 'Automatic']\n",
      "['2015', '6', '6.1', '7.71', '26000', '0', 'Petrol', 'Dealer', 'Manual']\n",
      "['2009', '12', '2.25', '7.21', '77427', '0', 'Petrol', 'Dealer', 'Manual']\n",
      "['2016', '5', '7.75', '10.79', '43000', '0', 'Diesel', 'Dealer', 'Manual']\n",
      "['2015', '6', '7.25', '10.79', '41678', '0', 'Diesel', 'Dealer', 'Manual']\n",
      "['2016', '5', '7.75', '10.79', '43000', '0', 'Diesel', 'Dealer', 'Manual']\n",
      "['2015', '6', '3.25', '5.09', '35500', '0', 'CNG', 'Dealer', 'Manual']\n",
      "['2010', '11', '2.65', '7.98', '41442', '0', 'Petrol', 'Dealer', 'Manual']\n",
      "['2016', '5', '2.85', '3.95', '25000', '0', 'Petrol', 'Dealer', 'Manual']\n",
      "['2017', '4', '4.9', '5.71', '2400', '0', 'Petrol', 'Dealer', 'Manual']\n",
      "['2011', '10', '4.4', '8.01', '50000', '0', 'Petrol', 'Dealer', 'Automatic']\n",
      "['2014', '7', '2.5', '3.46', '45280', '0', 'Petrol', 'Dealer', 'Manual']\n",
      "['2013', '8', '2.9', '4.41', '56879', '0', 'Petrol', 'Dealer', 'Manual']\n",
      "['2011', '10', '3', '4.99', '20000', '0', 'Petrol', 'Dealer', 'Manual']\n",
      "['2013', '8', '4.15', '5.87', '55138', '0', 'Petrol', 'Dealer', 'Manual']\n",
      "['2017', '4', '6', '6.49', '16200', '0', 'Petrol', 'Individual', 'Manual']\n",
      "['2010', '11', '1.95', '3.95', '44542', '0', 'Petrol', 'Dealer', 'Manual']\n",
      "['2015', '6', '7.45', '10.38', '45000', '0', 'Diesel', 'Dealer', 'Manual']\n",
      "['2012', '9', '3.1', '5.98', '51439', '0', 'Diesel', 'Dealer', 'Manual']\n",
      "['2011', '10', '2.35', '4.89', '54200', '0', 'Petrol', 'Dealer', 'Manual']\n",
      "['2014', '7', '4.95', '7.49', '39000', '0', 'Diesel', 'Dealer', 'Manual']\n",
      "['2014', '7', '6', '9.95', '45000', '0', 'Diesel', 'Dealer', 'Manual']\n",
      "['2014', '7', '5.5', '8.06', '45000', '0', 'Diesel', 'Dealer', 'Manual']\n",
      "['2011', '10', '2.95', '7.74', '49998', '0', 'CNG', 'Dealer', 'Manual']\n",
      "['2015', '6', '4.65', '7.2', '48767', '0', 'Petrol', 'Dealer', 'Manual']\n",
      "['2003', '18', '0.35', '2.28', '127000', '0', 'Petrol', 'Individual', 'Manual']\n",
      "['2016', '5', '3', '3.76', '10079', '0', 'Petrol', 'Dealer', 'Manual']\n",
      "['2003', '18', '2.25', '7.98', '62000', '0', 'Petrol', 'Dealer', 'Manual']\n",
      "['2016', '5', '5.85', '7.87', '24524', '0', 'Petrol', 'Dealer', 'Automatic']\n",
      "['2014', '7', '2.55', '3.98', '46706', '0', 'Petrol', 'Dealer', 'Manual']\n",
      "['2008', '13', '1.95', '7.15', '58000', '0', 'Petrol', 'Dealer', 'Manual']\n",
      "['2014', '7', '5.5', '8.06', '45780', '0', 'Diesel', 'Dealer', 'Manual']\n",
      "['2012', '9', '1.25', '2.69', '50000', '0', 'Petrol', 'Dealer', 'Manual']\n",
      "['2014', '7', '7.5', '12.04', '15000', '0', 'Petrol', 'Dealer', 'Automatic']\n",
      "['2013', '8', '2.65', '4.89', '64532', '0', 'Petrol', 'Dealer', 'Manual']\n",
      "['2006', '15', '1.05', '4.15', '65000', '0', 'Petrol', 'Dealer', 'Manual']\n",
      "['2015', '6', '5.8', '7.71', '25870', '0', 'Petrol', 'Dealer', 'Manual']\n",
      "['2017', '4', '7.75', '9.29', '37000', '0', 'Petrol', 'Dealer', 'Automatic']\n",
      "['2012', '9', '14.9', '30.61', '104707', '0', 'Diesel', 'Dealer', 'Automatic']\n",
      "['2015', '6', '23', '30.61', '40000', '0', 'Diesel', 'Dealer', 'Automatic']\n",
      "['2017', '4', '18', '19.77', '15000', '0', 'Diesel', 'Dealer', 'Automatic']\n",
      "['2013', '8', '16', '30.61', '135000', '0', 'Diesel', 'Individual', 'Automatic']\n",
      "['2005', '16', '2.75', '10.21', '90000', '0', 'Petrol', 'Individual', 'Manual']\n",
      "['2009', '12', '3.6', '15.04', '70000', '0', 'Petrol', 'Dealer', 'Automatic']\n",
      "['2015', '6', '4.5', '7.27', '40534', '0', 'Petrol', 'Dealer', 'Manual']\n",
      "['2010', '11', '4.75', '18.54', '50000', '0', 'Petrol', 'Dealer', 'Manual']\n",
      "['2014', '7', '4.1', '6.8', '39485', '1', 'Petrol', 'Dealer', 'Manual']\n",
      "['2014', '7', '19.99', '35.96', '41000', '0', 'Diesel', 'Dealer', 'Automatic']\n",
      "['2013', '8', '6.95', '18.61', '40001', '0', 'Petrol', 'Dealer', 'Manual']\n",
      "['2015', '6', '4.5', '7.7', '40588', '0', 'Petrol', 'Dealer', 'Manual']\n",
      "['2014', '7', '18.75', '35.96', '78000', '0', 'Diesel', 'Dealer', 'Automatic']\n",
      "['2015', '6', '23.5', '35.96', '47000', '0', 'Diesel', 'Dealer', 'Automatic']\n",
      "['2017', '4', '33', '36.23', '6000', '0', 'Diesel', 'Dealer', 'Automatic']\n",
      "['2014', '7', '4.75', '6.95', '45000', '0', 'Diesel', 'Dealer', 'Manual']\n",
      "['2017', '4', '19.75', '23.15', '11000', '0', 'Petrol', 'Dealer', 'Automatic']\n",
      "['2010', '11', '9.25', '20.45', '59000', '0', 'Diesel', 'Dealer', 'Manual']\n",
      "['2011', '10', '4.35', '13.74', '88000', '0', 'Petrol', 'Dealer', 'Manual']\n",
      "['2016', '5', '14.25', '20.91', '12000', '0', 'Petrol', 'Dealer', 'Manual']\n",
      "['2014', '7', '3.95', '6.76', '71000', '0', 'Diesel', 'Dealer', 'Manual']\n",
      "['2011', '10', '4.5', '12.48', '45000', '0', 'Diesel', 'Dealer', 'Manual']\n",
      "['2013', '8', '7.45', '18.61', '56001', '0', 'Petrol', 'Dealer', 'Manual']\n",
      "['2011', '10', '2.65', '5.71', '43000', '0', 'Petrol', 'Dealer', 'Manual']\n",
      "['2014', '7', '4.9', '8.93', '83000', '0', 'Diesel', 'Dealer', 'Manual']\n",
      "['2015', '6', '3.95', '6.8', '36000', '0', 'Petrol', 'Dealer', 'Manual']\n",
      "['2013', '8', '5.5', '14.68', '72000', '0', 'Petrol', 'Dealer', 'Manual']\n",
      "['2004', '17', '1.5', '12.35', '135154', '0', 'Petrol', 'Dealer', 'Automatic']\n",
      "['2010', '11', '5.25', '22.83', '80000', '0', 'Petrol', 'Dealer', 'Automatic']\n",
      "['2012', '9', '14.5', '30.61', '89000', '0', 'Diesel', 'Dealer', 'Automatic']\n",
      "['2016', '5', '14.73', '14.89', '23000', '0', 'Diesel', 'Dealer', 'Manual']\n",
      "['2015', '6', '4.75', '7.85', '40000', '0', 'Diesel', 'Dealer', 'Manual']\n",
      "['2017', '4', '23', '25.39', '15000', '0', 'Diesel', 'Dealer', 'Automatic']\n",
      "['2015', '6', '12.5', '13.46', '38000', '0', 'Diesel', 'Dealer', 'Manual']\n",
      "['2005', '16', '3.49', '13.46', '197176', '0', 'Diesel', 'Dealer', 'Manual']\n",
      "['2006', '15', '2.5', '23.73', '142000', '3', 'Petrol', 'Individual', 'Automatic']\n",
      "['2010', '11', '35', '92.6', '78000', '0', 'Diesel', 'Dealer', 'Manual']\n",
      "['2012', '9', '5.9', '13.74', '56000', '0', 'Petrol', 'Dealer', 'Manual']\n",
      "['2013', '8', '3.45', '6.05', '47000', '0', 'Petrol', 'Dealer', 'Manual']\n",
      "['2014', '7', '4.75', '6.76', '40000', '0', 'Petrol', 'Dealer', 'Manual']\n",
      "['2009', '12', '3.8', '18.61', '62000', '0', 'Petrol', 'Dealer', 'Manual']\n",
      "['2014', '7', '11.25', '16.09', '58242', '0', 'Diesel', 'Dealer', 'Manual']\n",
      "['2005', '16', '3.51', '13.7', '75000', '0', 'Petrol', 'Dealer', 'Manual']\n",
      "['2015', '6', '23', '30.61', '40000', '0', 'Diesel', 'Dealer', 'Automatic']\n",
      "['2008', '13', '4', '22.78', '89000', '0', 'Petrol', 'Dealer', 'Automatic']\n",
      "['2012', '9', '5.85', '18.61', '72000', '0', 'Petrol', 'Dealer', 'Manual']\n",
      "['2016', '5', '20.75', '25.39', '29000', '0', 'Diesel', 'Dealer', 'Automatic']\n",
      "['2017', '4', '17', '18.64', '8700', '0', 'Petrol', 'Dealer', 'Manual']\n",
      "['2013', '8', '7.05', '18.61', '45000', '0', 'Petrol', 'Dealer', 'Manual']\n",
      "['2010', '11', '9.65', '20.45', '50024', '0', 'Diesel', 'Dealer', 'Manual']\n",
      "['2016', '5', '1.75', '1.9', '3000', '0', 'Petrol', 'Individual', 'Manual']\n",
      "['2017', '4', '1.7', '1.82', '1400', '0', 'Petrol', 'Individual', 'Manual']\n",
      "['2017', '4', '1.65', '1.78', '4000', '0', 'Petrol', 'Individual', 'Manual']\n",
      "['2017', '4', '1.45', '1.6', '1200', '0', 'Petrol', 'Individual', 'Manual']\n",
      "['2017', '4', '1.35', '1.47', '4100', '0', 'Petrol', 'Individual', 'Manual']\n",
      "['2015', '6', '1.35', '2.37', '21700', '0', 'Petrol', 'Individual', 'Manual']\n",
      "['2014', '7', '1.35', '3.45', '16500', '1', 'Petrol', 'Individual', 'Manual']\n",
      "['2013', '8', '1.25', '1.5', '15000', '0', 'Petrol', 'Individual', 'Manual']\n",
      "['2016', '5', '1.2', '1.5', '18000', '0', 'Petrol', 'Individual', 'Manual']\n",
      "['2017', '4', '1.2', '1.47', '11000', '0', 'Petrol', 'Individual', 'Manual']\n",
      "['2016', '5', '1.2', '1.78', '6000', '0', 'Petrol', 'Individual', 'Manual']\n",
      "['2016', '5', '1.15', '1.5', '8700', '0', 'Petrol', 'Individual', 'Manual']\n",
      "['2014', '7', '1.15', '2.4', '7000', '0', 'Petrol', 'Individual', 'Manual']\n",
      "['2016', '5', '1.15', '1.4', '35000', '0', 'Petrol', 'Individual', 'Manual']\n",
      "['2015', '6', '1.15', '1.47', '17000', '0', 'Petrol', 'Individual', 'Manual']\n",
      "['2015', '6', '1.11', '1.47', '17500', '0', 'Petrol', 'Individual', 'Manual']\n",
      "['2013', '8', '1.1', '1.47', '33000', '0', 'Petrol', 'Individual', 'Manual']\n",
      "['2015', '6', '1.1', '1.9', '14000', '0', 'Petrol', 'Individual', 'Manual']\n",
      "['2015', '6', '1.1', '1.47', '26000', '0', 'Petrol', 'Individual', 'Manual']\n",
      "['2013', '8', '1.05', '1.9', '5400', '0', 'Petrol', 'Individual', 'Manual']\n",
      "['2016', '5', '1.05', '1.26', '5700', '0', 'Petrol', 'Individual', 'Manual']\n",
      "['2011', '10', '1.05', '1.5', '6900', '0', 'Petrol', 'Individual', 'Manual']\n",
      "['2016', '5', '1.05', '1.17', '6000', '0', 'Petrol', 'Individual', 'Manual']\n",
      "['2013', '8', '1', '1.47', '46500', '0', 'Petrol', 'Individual', 'Manual']\n",
      "['2012', '9', '0.95', '1.75', '11500', '0', 'Petrol', 'Individual', 'Manual']\n",
      "['2009', '12', '0.9', '1.75', '40000', '0', 'Petrol', 'Individual', 'Manual']\n",
      "['2017', '4', '0.9', '0.95', '1300', '0', 'Petrol', 'Individual', 'Manual']\n",
      "['2016', '5', '0.75', '0.8', '7000', '0', 'Petrol', 'Individual', 'Manual']\n",
      "['2017', '4', '0.8', '0.87', '3000', '0', 'Petrol', 'Individual', 'Manual']\n",
      "['2017', '4', '0.78', '0.84', '5000', '0', 'Petrol', 'Individual', 'Manual']\n",
      "['2017', '4', '0.75', '0.87', '11000', '0', 'Petrol', 'Individual', 'Manual']\n",
      "['2015', '6', '0.75', '0.82', '18000', '0', 'Petrol', 'Individual', 'Manual']\n",
      "['2017', '4', '0.75', '0.95', '3500', '0', 'Petrol', 'Individual', 'Manual']\n",
      "['2016', '5', '0.72', '0.95', '500', '0', 'Petrol', 'Individual', 'Manual']\n",
      "['2017', '4', '0.65', '0.81', '11800', '0', 'Petrol', 'Individual', 'Manual']\n",
      "['2015', '6', '0.65', '0.74', '5000', '0', 'Petrol', 'Individual', 'Manual']\n",
      "['2014', '7', '0.65', '1.2', '23500', '0', 'Petrol', 'Individual', 'Manual']\n",
      "['2013', '8', '0.65', '0.787', '16000', '0', 'Petrol', 'Individual', 'Manual']\n",
      "['2016', '5', '0.6', '0.87', '15000', '0', 'Petrol', 'Individual', 'Manual']\n",
      "['2015', '6', '0.6', '0.95', '16600', '0', 'Petrol', 'Individual', 'Manual']\n",
      "['2013', '8', '0.6', '1.2', '32000', '0', 'Petrol', 'Individual', 'Manual']\n",
      "['2016', '5', '0.6', '0.8', '20000', '0', 'Petrol', 'Individual', 'Manual']\n",
      "['2015', '6', '0.6', '0.84', '29000', '0', 'Petrol', 'Individual', 'Manual']\n",
      "['2016', '5', '0.6', '0.84', '25000', '0', 'Petrol', 'Individual', 'Manual']\n",
      "['2014', '7', '0.6', '0.99', '25000', '0', 'Petrol', 'Individual', 'Manual']\n",
      "['2012', '9', '0.6', '0.81', '19000', '0', 'Petrol', 'Individual', 'Manual']\n",
      "['2014', '7', '0.55', '0.787', '15000', '0', 'Petrol', 'Individual', 'Manual']\n",
      "['2015', '6', '0.55', '0.84', '58000', '0', 'Petrol', 'Individual', 'Manual']\n",
      "['2010', '11', '0.52', '0.94', '45000', '0', 'Petrol', 'Individual', 'Manual']\n",
      "['2016', '5', '0.51', '0.94', '24000', '0', 'Petrol', 'Individual', 'Manual']\n",
      "['2011', '10', '0.5', '0.826', '6000', '0', 'Petrol', 'Individual', 'Manual']\n",
      "['2016', '5', '0.5', '0.55', '31000', '0', 'Petrol', 'Individual', 'Manual']\n",
      "['2012', '9', '0.5', '0.99', '13000', '0', 'Petrol', 'Individual', 'Manual']\n",
      "['2013', '8', '0.5', '0.99', '45000', '0', 'Petrol', 'Individual', 'Manual']\n",
      "['2014', '7', '0.5', '0.88', '8000', '0', 'Petrol', 'Individual', 'Manual']\n",
      "['2017', '4', '0.48', '0.51', '4300', '0', 'Petrol', 'Individual', 'Automatic']\n",
      "['2017', '4', '0.48', '0.52', '15000', '0', 'Petrol', 'Individual', 'Manual']\n",
      "['2015', '6', '0.48', '0.84', '23000', '0', 'Petrol', 'Individual', 'Manual']\n",
      "['2017', '4', '0.48', '0.54', '8600', '0', 'Petrol', 'Individual', 'Manual']\n",
      "['2017', '4', '0.45', '0.51', '4000', '0', 'Petrol', 'Individual', 'Automatic']\n",
      "['2011', '10', '0.45', '0.95', '24000', '0', 'Petrol', 'Individual', 'Manual']\n",
      "['2014', '7', '0.45', '0.826', '23000', '0', 'Petrol', 'Individual', 'Manual']\n",
      "['2012', '9', '0.45', '0.99', '14500', '0', 'Petrol', 'Individual', 'Manual']\n",
      "['2010', '11', '0.45', '0.95', '27000', '0', 'Petrol', 'Individual', 'Manual']\n",
      "['2016', '5', '0.45', '0.54', '14000', '0', 'Petrol', 'Individual', 'Manual']\n",
      "['2016', '5', '0.45', '0.54', '500', '0', 'Petrol', 'Individual', 'Automatic']\n",
      "['2016', '5', '0.45', '0.55', '1000', '0', 'Petrol', 'Individual', 'Manual']\n",
      "['2014', '7', '0.42', '0.81', '42000', '0', 'Petrol', 'Individual', 'Manual']\n",
      "['2013', '8', '0.42', '0.73', '12000', '0', 'Petrol', 'Individual', 'Manual']\n",
      "['2015', '6', '0.4', '0.54', '14000', '0', 'Petrol', 'Individual', 'Manual']\n",
      "['2012', '9', '0.4', '0.83', '5500', '0', 'Petrol', 'Individual', 'Manual']\n",
      "['2015', '6', '0.4', '0.55', '6700', '0', 'Petrol', 'Individual', 'Manual']\n",
      "['2014', '7', '0.4', '0.64', '13700', '0', 'Petrol', 'Individual', 'Manual']\n",
      "['2017', '4', '0.4', '0.51', '1300', '0', 'Petrol', 'Individual', 'Automatic']\n",
      "['2015', '6', '0.38', '0.72', '38600', '0', 'Petrol', 'Individual', 'Manual']\n",
      "['2011', '10', '0.38', '0.787', '75000', '0', 'Petrol', 'Individual', 'Manual']\n",
      "['2011', '10', '0.35', '1.05', '30000', '0', 'Petrol', 'Individual', 'Manual']\n",
      "['2016', '5', '0.35', '0.57', '24000', '0', 'Petrol', 'Individual', 'Automatic']\n",
      "['2014', '7', '0.35', '0.52', '19000', '0', 'Petrol', 'Individual', 'Automatic']\n",
      "['2010', '11', '0.31', '1.05', '213000', '0', 'Petrol', 'Individual', 'Manual']\n",
      "['2012', '9', '0.3', '0.51', '60000', '0', 'Petrol', 'Individual', 'Manual']\n",
      "['2016', '5', '0.3', '0.48', '50000', '0', 'Petrol', 'Individual', 'Manual']\n",
      "['2013', '8', '0.3', '0.58', '30000', '0', 'Petrol', 'Individual', 'Manual']\n",
      "['2013', '8', '0.27', '0.47', '21000', '0', 'Petrol', 'Individual', 'Manual']\n",
      "['2008', '13', '0.25', '0.75', '26000', '1', 'Petrol', 'Individual', 'Manual']\n",
      "['2008', '13', '0.25', '0.58', '1900', '0', 'Petrol', 'Individual', 'Automatic']\n",
      "['2010', '11', '0.25', '0.52', '22000', '0', 'Petrol', 'Individual', 'Automatic']\n",
      "['2013', '8', '0.25', '0.51', '32000', '0', 'Petrol', 'Individual', 'Manual']\n",
      "['2013', '8', '0.25', '0.57', '18000', '0', 'Petrol', 'Individual', 'Manual']\n",
      "['2005', '16', '0.2', '0.57', '55000', '0', 'Petrol', 'Individual', 'Manual']\n",
      "['2008', '13', '0.2', '0.75', '60000', '0', 'Petrol', 'Individual', 'Manual']\n",
      "['2012', '9', '0.2', '0.57', '25000', '1', 'Petrol', 'Individual', 'Manual']\n",
      "['2007', '14', '0.2', '0.75', '49000', '1', 'Petrol', 'Individual', 'Manual']\n",
      "['2013', '8', '0.2', '0.65', '24000', '1', 'Petrol', 'Individual', 'Manual']\n",
      "['2008', '13', '0.2', '0.787', '50000', '0', 'Petrol', 'Individual', 'Manual']\n",
      "['2015', '6', '0.18', '0.32', '35000', '0', 'Petrol', 'Individual', 'Manual']\n",
      "['2008', '13', '0.17', '0.52', '500000', '0', 'Petrol', 'Individual', 'Automatic']\n",
      "['2010', '11', '0.16', '0.51', '33000', '0', 'Petrol', 'Individual', 'Manual']\n",
      "['2011', '10', '0.15', '0.57', '35000', '1', 'Petrol', 'Individual', 'Manual']\n",
      "['2007', '14', '0.12', '0.58', '53000', '0', 'Petrol', 'Individual', 'Manual']\n",
      "['2006', '15', '0.1', '0.75', '92233', '0', 'Petrol', 'Individual', 'Manual']\n",
      "['2010', '11', '3.25', '6.79', '58000', '1', 'Diesel', 'Dealer', 'Manual']\n",
      "['2015', '6', '4.4', '5.7', '28200', '0', 'Petrol', 'Dealer', 'Manual']\n",
      "['2011', '10', '2.95', '4.6', '53460', '0', 'Petrol', 'Dealer', 'Manual']\n",
      "['2015', '6', '2.75', '4.43', '28282', '0', 'Petrol', 'Dealer', 'Manual']\n",
      "['2016', '5', '5.25', '5.7', '3493', '1', 'Petrol', 'Dealer', 'Manual']\n",
      "['2017', '4', '5.75', '7.13', '12479', '0', 'Petrol', 'Dealer', 'Manual']\n",
      "['2015', '6', '5.15', '5.7', '34797', '0', 'Petrol', 'Dealer', 'Automatic']\n",
      "['2017', '4', '7.9', '8.1', '3435', '0', 'Petrol', 'Dealer', 'Manual']\n",
      "['2015', '6', '4.85', '5.7', '21125', '0', 'Diesel', 'Dealer', 'Manual']\n",
      "['2012', '9', '3.1', '4.6', '35775', '0', 'Petrol', 'Dealer', 'Manual']\n",
      "['2015', '6', '11.75', '14.79', '43535', '0', 'Diesel', 'Dealer', 'Manual']\n",
      "['2016', '5', '11.25', '13.6', '22671', '0', 'Petrol', 'Dealer', 'Manual']\n",
      "['2011', '10', '2.9', '6.79', '31604', '0', 'Petrol', 'Dealer', 'Manual']\n",
      "['2017', '4', '5.25', '5.7', '20114', '0', 'Petrol', 'Dealer', 'Manual']\n",
      "['2012', '9', '4.5', '9.4', '36100', '0', 'Petrol', 'Dealer', 'Manual']\n",
      "['2016', '5', '2.9', '4.43', '12500', '0', 'Petrol', 'Dealer', 'Manual']\n",
      "['2016', '5', '3.15', '4.43', '15000', '0', 'Petrol', 'Dealer', 'Manual']\n",
      "['2014', '7', '6.45', '8.4', '45078', '0', 'Petrol', 'Dealer', 'Manual']\n",
      "['2012', '9', '4.5', '9.4', '36000', '0', 'Petrol', 'Dealer', 'Manual']\n",
      "['2017', '4', '3.5', '5.43', '38488', '0', 'Petrol', 'Dealer', 'Manual']\n",
      "['2013', '8', '4.5', '6.79', '32000', '0', 'Petrol', 'Dealer', 'Automatic']\n",
      "['2014', '7', '6', '7.6', '77632', '0', 'Diesel', 'Dealer', 'Manual']\n",
      "['2015', '6', '8.25', '9.4', '61381', '0', 'Diesel', 'Dealer', 'Manual']\n",
      "['2013', '8', '5.11', '9.4', '36198', '0', 'Petrol', 'Dealer', 'Automatic']\n",
      "['2011', '10', '2.7', '4.6', '22517', '0', 'Petrol', 'Dealer', 'Manual']\n",
      "['2015', '6', '5.25', '5.7', '24678', '0', 'Petrol', 'Dealer', 'Manual']\n",
      "['2011', '10', '2.55', '4.43', '57000', '0', 'Petrol', 'Dealer', 'Manual']\n",
      "['2012', '9', '4.95', '9.4', '60000', '0', 'Diesel', 'Dealer', 'Manual']\n",
      "['2012', '9', '3.1', '6.79', '52132', '0', 'Diesel', 'Dealer', 'Manual']\n",
      "['2013', '8', '6.15', '9.4', '45000', '0', 'Diesel', 'Dealer', 'Manual']\n",
      "['2017', '4', '9.25', '9.4', '15001', '0', 'Petrol', 'Dealer', 'Manual']\n",
      "['2015', '6', '11.45', '14.79', '12900', '0', 'Petrol', 'Dealer', 'Automatic']\n",
      "['2013', '8', '3.9', '5.7', '53000', '0', 'Diesel', 'Dealer', 'Manual']\n",
      "['2015', '6', '5.5', '5.7', '4492', '0', 'Petrol', 'Dealer', 'Manual']\n",
      "['2017', '4', '9.1', '9.4', '15141', '0', 'Petrol', 'Dealer', 'Manual']\n",
      "['2016', '5', '3.1', '4.43', '11849', '0', 'Petrol', 'Dealer', 'Manual']\n",
      "['2015', '6', '11.25', '13.6', '68000', '0', 'Diesel', 'Dealer', 'Manual']\n",
      "['2013', '8', '4.8', '9.4', '60241', '0', 'Petrol', 'Dealer', 'Manual']\n",
      "['2012', '9', '2', '4.43', '23709', '0', 'Petrol', 'Dealer', 'Manual']\n",
      "['2012', '9', '5.35', '9.4', '32322', '0', 'Diesel', 'Dealer', 'Manual']\n",
      "['2015', '6', '4.75', '7.13', '35866', '1', 'Petrol', 'Dealer', 'Manual']\n",
      "['2014', '7', '4.4', '7.13', '34000', '0', 'Petrol', 'Dealer', 'Manual']\n",
      "['2016', '5', '6.25', '7.6', '7000', '0', 'Petrol', 'Dealer', 'Manual']\n",
      "['2013', '8', '5.95', '9.4', '49000', '0', 'Diesel', 'Dealer', 'Manual']\n",
      "['2012', '9', '5.2', '9.4', '71000', '0', 'Diesel', 'Dealer', 'Manual']\n",
      "['2012', '9', '3.75', '6.79', '35000', '0', 'Petrol', 'Dealer', 'Manual']\n",
      "['2015', '6', '5.95', '9.4', '36000', '0', 'Petrol', 'Dealer', 'Manual']\n",
      "['2013', '8', '4', '4.6', '30000', '0', 'Petrol', 'Dealer', 'Manual']\n",
      "['2016', '5', '5.25', '7.6', '17000', '0', 'Petrol', 'Dealer', 'Manual']\n",
      "['2016', '5', '12.9', '13.6', '35934', '0', 'Diesel', 'Dealer', 'Manual']\n",
      "['2013', '8', '5', '9.9', '56701', '0', 'Petrol', 'Dealer', 'Manual']\n",
      "['2015', '6', '5.4', '6.82', '31427', '0', 'Petrol', 'Dealer', 'Automatic']\n",
      "['2014', '7', '7.2', '9.9', '48000', '0', 'Diesel', 'Dealer', 'Manual']\n",
      "['2013', '8', '5.25', '9.9', '54242', '0', 'Petrol', 'Dealer', 'Manual']\n",
      "['2012', '9', '3', '5.35', '53675', '0', 'Petrol', 'Dealer', 'Manual']\n",
      "['2016', '5', '10.25', '13.6', '49562', '0', 'Petrol', 'Dealer', 'Manual']\n",
      "['2015', '6', '8.5', '13.6', '40324', '0', 'Petrol', 'Dealer', 'Manual']\n",
      "['2015', '6', '8.4', '13.6', '25000', '0', 'Petrol', 'Dealer', 'Manual']\n",
      "['2014', '7', '3.9', '7', '36054', '0', 'Petrol', 'Dealer', 'Manual']\n",
      "['2016', '5', '9.15', '13.6', '29223', '0', 'Petrol', 'Dealer', 'Manual']\n",
      "['2016', '5', '5.5', '5.97', '5600', '0', 'Petrol', 'Dealer', 'Manual']\n",
      "['2015', '6', '4', '5.8', '40023', '0', 'Petrol', 'Dealer', 'Manual']\n",
      "['2016', '5', '6.6', '7.7', '16002', '0', 'Petrol', 'Dealer', 'Manual']\n",
      "['2015', '6', '4', '7', '40026', '0', 'Petrol', 'Dealer', 'Manual']\n",
      "['2017', '4', '6.5', '8.7', '21200', '0', 'Petrol', 'Dealer', 'Manual']\n",
      "['2014', '7', '3.65', '7', '35000', '0', 'Petrol', 'Dealer', 'Manual']\n",
      "['2016', '5', '8.35', '9.4', '19434', '0', 'Diesel', 'Dealer', 'Manual']\n",
      "['2017', '4', '4.8', '5.8', '19000', '0', 'Petrol', 'Dealer', 'Manual']\n",
      "['2015', '6', '6.7', '10', '18828', '0', 'Petrol', 'Dealer', 'Manual']\n",
      "['2011', '10', '4.1', '10', '69341', '0', 'Petrol', 'Dealer', 'Manual']\n",
      "['2009', '12', '3', '10', '69562', '0', 'Petrol', 'Dealer', 'Manual']\n",
      "['2015', '6', '7.5', '10', '27600', '0', 'Petrol', 'Dealer', 'Manual']\n",
      "['2010', '11', '2.25', '7.5', '61203', '0', 'Petrol', 'Dealer', 'Manual']\n",
      "['2014', '7', '5.3', '6.8', '16500', '0', 'Petrol', 'Dealer', 'Manual']\n",
      "['2016', '5', '10.9', '13.6', '30753', '0', 'Petrol', 'Dealer', 'Automatic']\n",
      "['2015', '6', '8.65', '13.6', '24800', '0', 'Petrol', 'Dealer', 'Manual']\n",
      "['2015', '6', '9.7', '13.6', '21780', '0', 'Petrol', 'Dealer', 'Manual']\n",
      "['2016', '5', '6', '8.4', '4000', '0', 'Petrol', 'Dealer', 'Manual']\n",
      "['2014', '7', '6.25', '13.6', '40126', '0', 'Petrol', 'Dealer', 'Manual']\n",
      "['2015', '6', '5.25', '5.9', '14465', '0', 'Petrol', 'Dealer', 'Manual']\n",
      "['2006', '15', '2.1', '7.6', '50456', '0', 'Petrol', 'Dealer', 'Manual']\n",
      "['2014', '7', '8.25', '14', '63000', '0', 'Diesel', 'Dealer', 'Manual']\n",
      "['2016', '5', '8.99', '11.8', '9010', '0', 'Petrol', 'Dealer', 'Manual']\n",
      "['2013', '8', '3.5', '5.9', '9800', '0', 'Petrol', 'Dealer', 'Manual']\n",
      "['2016', '5', '7.4', '8.5', '15059', '0', 'Petrol', 'Dealer', 'Automatic']\n",
      "['2016', '5', '5.65', '7.9', '28569', '0', 'Petrol', 'Dealer', 'Manual']\n",
      "['2015', '6', '5.75', '7.5', '44000', '0', 'Petrol', 'Dealer', 'Automatic']\n",
      "['2015', '6', '8.4', '13.6', '34000', '0', 'Petrol', 'Dealer', 'Manual']\n",
      "['2016', '5', '10.11', '13.6', '10980', '0', 'Petrol', 'Dealer', 'Manual']\n",
      "['2014', '7', '4.5', '6.4', '19000', '0', 'Petrol', 'Dealer', 'Manual']\n",
      "['2015', '6', '5.4', '6.1', '31427', '0', 'Petrol', 'Dealer', 'Manual']\n",
      "['2016', '5', '6.4', '8.4', '12000', '0', 'Petrol', 'Dealer', 'Manual']\n",
      "['2010', '11', '3.25', '9.9', '38000', '0', 'Petrol', 'Dealer', 'Manual']\n",
      "['2014', '7', '3.75', '6.8', '33019', '0', 'Petrol', 'Dealer', 'Manual']\n",
      "['2015', '6', '8.55', '13.09', '60076', '0', 'Diesel', 'Dealer', 'Manual']\n",
      "['2016', '5', '9.5', '11.6', '33988', '0', 'Diesel', 'Dealer', 'Manual']\n",
      "['2015', '6', '4', '5.9', '60000', '0', 'Petrol', 'Dealer', 'Manual']\n",
      "['2009', '12', '3.35', '11', '87934', '0', 'Petrol', 'Dealer', 'Manual']\n",
      "['2017', '4', '11.5', '12.5', '9000', '0', 'Diesel', 'Dealer', 'Manual']\n",
      "['2016', '5', '5.3', '5.9', '5464', '0', 'Petrol', 'Dealer', 'Manual']\n"
     ]
    }
   ],
   "source": [
    "# In Car Name column There are three hundred and twelve unique name. \n",
    "# That's something really hard to implement and a regression that would mean more than 300 dummies, so we simply drop this column\n",
    "import csv\n",
    "\n",
    "# open the input CSV file\n",
    "with open('car data1.csv', 'r') as infile:\n",
    "    reader = csv.reader(infile)\n",
    "    header = next(reader)  # get the header row\n",
    "\n",
    "    # find the index of the 'Car_Name' column\n",
    "    car_name_idx = header.index('Car_Name')\n",
    "\n",
    "    # use list comprehension to drop the 'Car_Name' column\n",
    "    rows = [row[:car_name_idx] + row[car_name_idx+1:] for row in reader]\n",
    "\n",
    "    # print the modified data to the console\n",
    "    print(header[:car_name_idx] + header[car_name_idx+1:])\n",
    "    for row in rows:\n",
    "        print(row)\n",
    "\n",
    "# open the output CSV file\n",
    "with open('output.csv', 'w', newline='') as outfile:\n",
    "    writer = csv.writer(outfile)\n",
    "\n",
    "    # write the modified data back to the CSV file\n",
    "    writer.writerow(header[:car_name_idx] + header[car_name_idx+1:])\n",
    "    writer.writerows(rows)"
   ]
  },
  {
   "cell_type": "markdown",
   "id": "5b98fbe2",
   "metadata": {},
   "source": [
    "## Converting Categorical column to numerical"
   ]
  },
  {
   "cell_type": "code",
   "execution_count": 92,
   "id": "9259aba2",
   "metadata": {},
   "outputs": [
    {
     "name": "stdout",
     "output_type": "stream",
     "text": [
      "  Car_age    Selling_Price    Present_Price    Kms_Driven    Owner    Fuel_Type    Seller_type    Transmission\n",
      "---------  ---------------  ---------------  ------------  -------  -----------  -------------  --------------\n",
      "        7             3.35            5.59          27000        0            1              1               1\n",
      "        8             4.75            9.54          43000        0            3              1               1\n",
      "        4             7.25            9.85           6900        0            1              1               1\n",
      "       10             2.85            4.15           5200        0            1              1               1\n",
      "        7             4.6             6.87          42450        0            3              1               1\n",
      "        3             9.25            9.83           2071        0            3              1               1\n",
      "        6             6.75            8.12          18796        0            1              1               1\n",
      "        6             6.5             8.61          33429        0            3              1               1\n",
      "        5             8.75            8.89          20273        0            3              1               1\n",
      "        6             7.45            8.92          42367        0            3              1               1\n",
      "        4             2.85            3.6            2135        0            1              1               1\n",
      "        6             6.85           10.38          51000        0            3              1               1\n",
      "        6             7.5             9.94          15000        0            1              1               2\n",
      "        6             6.1             7.71          26000        0            1              1               1\n",
      "       12             2.25            7.21          77427        0            1              1               1\n",
      "        5             7.75           10.79          43000        0            3              1               1\n",
      "        6             7.25           10.79          41678        0            3              1               1\n",
      "        5             7.75           10.79          43000        0            3              1               1\n",
      "        6             3.25            5.09          35500        0            2              1               1\n",
      "       11             2.65            7.98          41442        0            1              1               1\n",
      "        5             2.85            3.95          25000        0            1              1               1\n",
      "        4             4.9             5.71           2400        0            1              1               1\n",
      "       10             4.4             8.01          50000        0            1              1               2\n",
      "        7             2.5             3.46          45280        0            1              1               1\n",
      "        8             2.9             4.41          56879        0            1              1               1\n",
      "       10             3               4.99          20000        0            1              1               1\n",
      "        8             4.15            5.87          55138        0            1              1               1\n",
      "        4             6               6.49          16200        0            1              2               1\n",
      "       11             1.95            3.95          44542        0            1              1               1\n",
      "        6             7.45           10.38          45000        0            3              1               1\n",
      "        9             3.1             5.98          51439        0            3              1               1\n",
      "       10             2.35            4.89          54200        0            1              1               1\n",
      "        7             4.95            7.49          39000        0            3              1               1\n",
      "        7             6               9.95          45000        0            3              1               1\n",
      "        7             5.5             8.06          45000        0            3              1               1\n",
      "       10             2.95            7.74          49998        0            2              1               1\n",
      "        6             4.65            7.2           48767        0            1              1               1\n",
      "       18             0.35            2.28         127000        0            1              2               1\n",
      "        5             3               3.76          10079        0            1              1               1\n",
      "       18             2.25            7.98          62000        0            1              1               1\n",
      "        5             5.85            7.87          24524        0            1              1               2\n",
      "        7             2.55            3.98          46706        0            1              1               1\n",
      "       13             1.95            7.15          58000        0            1              1               1\n",
      "        7             5.5             8.06          45780        0            3              1               1\n",
      "        9             1.25            2.69          50000        0            1              1               1\n",
      "        7             7.5            12.04          15000        0            1              1               2\n",
      "        8             2.65            4.89          64532        0            1              1               1\n",
      "       15             1.05            4.15          65000        0            1              1               1\n",
      "        6             5.8             7.71          25870        0            1              1               1\n",
      "        4             7.75            9.29          37000        0            1              1               2\n",
      "        9            14.9            30.61         104707        0            3              1               2\n",
      "        6            23              30.61          40000        0            3              1               2\n",
      "        4            18              19.77          15000        0            3              1               2\n",
      "        8            16              30.61         135000        0            3              2               2\n",
      "       16             2.75           10.21          90000        0            1              2               1\n",
      "       12             3.6            15.04          70000        0            1              1               2\n",
      "        6             4.5             7.27          40534        0            1              1               1\n",
      "       11             4.75           18.54          50000        0            1              1               1\n",
      "        7             4.1             6.8           39485        1            1              1               1\n",
      "        7            19.99           35.96          41000        0            3              1               2\n",
      "        8             6.95           18.61          40001        0            1              1               1\n",
      "        6             4.5             7.7           40588        0            1              1               1\n",
      "        7            18.75           35.96          78000        0            3              1               2\n",
      "        6            23.5            35.96          47000        0            3              1               2\n",
      "        4            33              36.23           6000        0            3              1               2\n",
      "        7             4.75            6.95          45000        0            3              1               1\n",
      "        4            19.75           23.15          11000        0            1              1               2\n",
      "       11             9.25           20.45          59000        0            3              1               1\n",
      "       10             4.35           13.74          88000        0            1              1               1\n",
      "        5            14.25           20.91          12000        0            1              1               1\n",
      "        7             3.95            6.76          71000        0            3              1               1\n",
      "       10             4.5            12.48          45000        0            3              1               1\n",
      "        8             7.45           18.61          56001        0            1              1               1\n",
      "       10             2.65            5.71          43000        0            1              1               1\n",
      "        7             4.9             8.93          83000        0            3              1               1\n",
      "        6             3.95            6.8           36000        0            1              1               1\n",
      "        8             5.5            14.68          72000        0            1              1               1\n",
      "       17             1.5            12.35         135154        0            1              1               2\n",
      "       11             5.25           22.83          80000        0            1              1               2\n",
      "        9            14.5            30.61          89000        0            3              1               2\n",
      "        5            14.73           14.89          23000        0            3              1               1\n",
      "        6             4.75            7.85          40000        0            3              1               1\n",
      "        4            23              25.39          15000        0            3              1               2\n",
      "        6            12.5            13.46          38000        0            3              1               1\n",
      "       16             3.49           13.46         197176        0            3              1               1\n",
      "       15             2.5            23.73         142000        3            1              2               2\n",
      "       11            35              92.6           78000        0            3              1               1\n",
      "        9             5.9            13.74          56000        0            1              1               1\n",
      "        8             3.45            6.05          47000        0            1              1               1\n",
      "        7             4.75            6.76          40000        0            1              1               1\n",
      "       12             3.8            18.61          62000        0            1              1               1\n",
      "        7            11.25           16.09          58242        0            3              1               1\n",
      "       16             3.51           13.7           75000        0            1              1               1\n",
      "        6            23              30.61          40000        0            3              1               2\n",
      "       13             4              22.78          89000        0            1              1               2\n",
      "        9             5.85           18.61          72000        0            1              1               1\n",
      "        5            20.75           25.39          29000        0            3              1               2\n",
      "        4            17              18.64           8700        0            1              1               1\n",
      "        8             7.05           18.61          45000        0            1              1               1\n",
      "       11             9.65           20.45          50024        0            3              1               1\n",
      "        5             1.75            1.9            3000        0            1              2               1\n",
      "        4             1.7             1.82           1400        0            1              2               1\n",
      "        4             1.65            1.78           4000        0            1              2               1\n",
      "        4             1.45            1.6            1200        0            1              2               1\n",
      "        4             1.35            1.47           4100        0            1              2               1\n",
      "        6             1.35            2.37          21700        0            1              2               1\n",
      "        7             1.35            3.45          16500        1            1              2               1\n",
      "        8             1.25            1.5           15000        0            1              2               1\n",
      "        5             1.2             1.5           18000        0            1              2               1\n",
      "        4             1.2             1.47          11000        0            1              2               1\n",
      "        5             1.2             1.78           6000        0            1              2               1\n",
      "        5             1.15            1.5            8700        0            1              2               1\n",
      "        7             1.15            2.4            7000        0            1              2               1\n",
      "        5             1.15            1.4           35000        0            1              2               1\n",
      "        6             1.15            1.47          17000        0            1              2               1\n",
      "        6             1.11            1.47          17500        0            1              2               1\n",
      "        8             1.1             1.47          33000        0            1              2               1\n",
      "        6             1.1             1.9           14000        0            1              2               1\n",
      "        6             1.1             1.47          26000        0            1              2               1\n",
      "        8             1.05            1.9            5400        0            1              2               1\n",
      "        5             1.05            1.26           5700        0            1              2               1\n",
      "       10             1.05            1.5            6900        0            1              2               1\n",
      "        5             1.05            1.17           6000        0            1              2               1\n",
      "        8             1               1.47          46500        0            1              2               1\n",
      "        9             0.95            1.75          11500        0            1              2               1\n",
      "       12             0.9             1.75          40000        0            1              2               1\n",
      "        4             0.9             0.95           1300        0            1              2               1\n",
      "        5             0.75            0.8            7000        0            1              2               1\n",
      "        4             0.8             0.87           3000        0            1              2               1\n",
      "        4             0.78            0.84           5000        0            1              2               1\n",
      "        4             0.75            0.87          11000        0            1              2               1\n",
      "        6             0.75            0.82          18000        0            1              2               1\n",
      "        4             0.75            0.95           3500        0            1              2               1\n",
      "        5             0.72            0.95            500        0            1              2               1\n",
      "        4             0.65            0.81          11800        0            1              2               1\n",
      "        6             0.65            0.74           5000        0            1              2               1\n",
      "        7             0.65            1.2           23500        0            1              2               1\n",
      "        8             0.65            0.787         16000        0            1              2               1\n",
      "        5             0.6             0.87          15000        0            1              2               1\n",
      "        6             0.6             0.95          16600        0            1              2               1\n",
      "        8             0.6             1.2           32000        0            1              2               1\n",
      "        5             0.6             0.8           20000        0            1              2               1\n",
      "        6             0.6             0.84          29000        0            1              2               1\n",
      "        5             0.6             0.84          25000        0            1              2               1\n",
      "        7             0.6             0.99          25000        0            1              2               1\n",
      "        9             0.6             0.81          19000        0            1              2               1\n",
      "        7             0.55            0.787         15000        0            1              2               1\n",
      "        6             0.55            0.84          58000        0            1              2               1\n",
      "       11             0.52            0.94          45000        0            1              2               1\n",
      "        5             0.51            0.94          24000        0            1              2               1\n",
      "       10             0.5             0.826          6000        0            1              2               1\n",
      "        5             0.5             0.55          31000        0            1              2               1\n",
      "        9             0.5             0.99          13000        0            1              2               1\n",
      "        8             0.5             0.99          45000        0            1              2               1\n",
      "        7             0.5             0.88           8000        0            1              2               1\n",
      "        4             0.48            0.51           4300        0            1              2               2\n",
      "        4             0.48            0.52          15000        0            1              2               1\n",
      "        6             0.48            0.84          23000        0            1              2               1\n",
      "        4             0.48            0.54           8600        0            1              2               1\n",
      "        4             0.45            0.51           4000        0            1              2               2\n",
      "       10             0.45            0.95          24000        0            1              2               1\n",
      "        7             0.45            0.826         23000        0            1              2               1\n",
      "        9             0.45            0.99          14500        0            1              2               1\n",
      "       11             0.45            0.95          27000        0            1              2               1\n",
      "        5             0.45            0.54          14000        0            1              2               1\n",
      "        5             0.45            0.54            500        0            1              2               2\n",
      "        5             0.45            0.55           1000        0            1              2               1\n",
      "        7             0.42            0.81          42000        0            1              2               1\n",
      "        8             0.42            0.73          12000        0            1              2               1\n",
      "        6             0.4             0.54          14000        0            1              2               1\n",
      "        9             0.4             0.83           5500        0            1              2               1\n",
      "        6             0.4             0.55           6700        0            1              2               1\n",
      "        7             0.4             0.64          13700        0            1              2               1\n",
      "        4             0.4             0.51           1300        0            1              2               2\n",
      "        6             0.38            0.72          38600        0            1              2               1\n",
      "       10             0.38            0.787         75000        0            1              2               1\n",
      "       10             0.35            1.05          30000        0            1              2               1\n",
      "        5             0.35            0.57          24000        0            1              2               2\n",
      "        7             0.35            0.52          19000        0            1              2               2\n",
      "       11             0.31            1.05         213000        0            1              2               1\n",
      "        9             0.3             0.51          60000        0            1              2               1\n",
      "        5             0.3             0.48          50000        0            1              2               1\n",
      "        8             0.3             0.58          30000        0            1              2               1\n",
      "        8             0.27            0.47          21000        0            1              2               1\n",
      "       13             0.25            0.75          26000        1            1              2               1\n",
      "       13             0.25            0.58           1900        0            1              2               2\n",
      "       11             0.25            0.52          22000        0            1              2               2\n",
      "        8             0.25            0.51          32000        0            1              2               1\n",
      "        8             0.25            0.57          18000        0            1              2               1\n",
      "       16             0.2             0.57          55000        0            1              2               1\n",
      "       13             0.2             0.75          60000        0            1              2               1\n",
      "        9             0.2             0.57          25000        1            1              2               1\n",
      "       14             0.2             0.75          49000        1            1              2               1\n",
      "        8             0.2             0.65          24000        1            1              2               1\n",
      "       13             0.2             0.787         50000        0            1              2               1\n",
      "        6             0.18            0.32          35000        0            1              2               1\n",
      "       13             0.17            0.52         500000        0            1              2               2\n",
      "       11             0.16            0.51          33000        0            1              2               1\n",
      "       10             0.15            0.57          35000        1            1              2               1\n",
      "       14             0.12            0.58          53000        0            1              2               1\n",
      "       15             0.1             0.75          92233        0            1              2               1\n",
      "       11             3.25            6.79          58000        1            3              1               1\n",
      "        6             4.4             5.7           28200        0            1              1               1\n",
      "       10             2.95            4.6           53460        0            1              1               1\n",
      "        6             2.75            4.43          28282        0            1              1               1\n",
      "        5             5.25            5.7            3493        1            1              1               1\n",
      "        4             5.75            7.13          12479        0            1              1               1\n",
      "        6             5.15            5.7           34797        0            1              1               2\n",
      "        4             7.9             8.1            3435        0            1              1               1\n",
      "        6             4.85            5.7           21125        0            3              1               1\n",
      "        9             3.1             4.6           35775        0            1              1               1\n",
      "        6            11.75           14.79          43535        0            3              1               1\n",
      "        5            11.25           13.6           22671        0            1              1               1\n",
      "       10             2.9             6.79          31604        0            1              1               1\n",
      "        4             5.25            5.7           20114        0            1              1               1\n",
      "        9             4.5             9.4           36100        0            1              1               1\n",
      "        5             2.9             4.43          12500        0            1              1               1\n",
      "        5             3.15            4.43          15000        0            1              1               1\n",
      "        7             6.45            8.4           45078        0            1              1               1\n",
      "        9             4.5             9.4           36000        0            1              1               1\n",
      "        4             3.5             5.43          38488        0            1              1               1\n",
      "        8             4.5             6.79          32000        0            1              1               2\n",
      "        7             6               7.6           77632        0            3              1               1\n",
      "        6             8.25            9.4           61381        0            3              1               1\n",
      "        8             5.11            9.4           36198        0            1              1               2\n",
      "       10             2.7             4.6           22517        0            1              1               1\n",
      "        6             5.25            5.7           24678        0            1              1               1\n",
      "       10             2.55            4.43          57000        0            1              1               1\n",
      "        9             4.95            9.4           60000        0            3              1               1\n",
      "        9             3.1             6.79          52132        0            3              1               1\n",
      "        8             6.15            9.4           45000        0            3              1               1\n",
      "        4             9.25            9.4           15001        0            1              1               1\n",
      "        6            11.45           14.79          12900        0            1              1               2\n",
      "        8             3.9             5.7           53000        0            3              1               1\n",
      "        6             5.5             5.7            4492        0            1              1               1\n",
      "        4             9.1             9.4           15141        0            1              1               1\n",
      "        5             3.1             4.43          11849        0            1              1               1\n",
      "        6            11.25           13.6           68000        0            3              1               1\n",
      "        8             4.8             9.4           60241        0            1              1               1\n",
      "        9             2               4.43          23709        0            1              1               1\n",
      "        9             5.35            9.4           32322        0            3              1               1\n",
      "        6             4.75            7.13          35866        1            1              1               1\n",
      "        7             4.4             7.13          34000        0            1              1               1\n",
      "        5             6.25            7.6            7000        0            1              1               1\n",
      "        8             5.95            9.4           49000        0            3              1               1\n",
      "        9             5.2             9.4           71000        0            3              1               1\n",
      "        9             3.75            6.79          35000        0            1              1               1\n",
      "        6             5.95            9.4           36000        0            1              1               1\n",
      "        8             4               4.6           30000        0            1              1               1\n",
      "        5             5.25            7.6           17000        0            1              1               1\n",
      "        5            12.9            13.6           35934        0            3              1               1\n",
      "        8             5               9.9           56701        0            1              1               1\n",
      "        6             5.4             6.82          31427        0            1              1               2\n",
      "        7             7.2             9.9           48000        0            3              1               1\n",
      "        8             5.25            9.9           54242        0            1              1               1\n",
      "        9             3               5.35          53675        0            1              1               1\n",
      "        5            10.25           13.6           49562        0            1              1               1\n",
      "        6             8.5            13.6           40324        0            1              1               1\n",
      "        6             8.4            13.6           25000        0            1              1               1\n",
      "        7             3.9             7             36054        0            1              1               1\n",
      "        5             9.15           13.6           29223        0            1              1               1\n",
      "        5             5.5             5.97           5600        0            1              1               1\n",
      "        6             4               5.8           40023        0            1              1               1\n",
      "        5             6.6             7.7           16002        0            1              1               1\n",
      "        6             4               7             40026        0            1              1               1\n",
      "        4             6.5             8.7           21200        0            1              1               1\n",
      "        7             3.65            7             35000        0            1              1               1\n",
      "        5             8.35            9.4           19434        0            3              1               1\n",
      "        4             4.8             5.8           19000        0            1              1               1\n",
      "        6             6.7            10             18828        0            1              1               1\n",
      "       10             4.1            10             69341        0            1              1               1\n",
      "       12             3              10             69562        0            1              1               1\n",
      "        6             7.5            10             27600        0            1              1               1\n",
      "       11             2.25            7.5           61203        0            1              1               1\n",
      "        7             5.3             6.8           16500        0            1              1               1\n",
      "        5            10.9            13.6           30753        0            1              1               2\n",
      "        6             8.65           13.6           24800        0            1              1               1\n",
      "        6             9.7            13.6           21780        0            1              1               1\n",
      "        5             6               8.4            4000        0            1              1               1\n",
      "        7             6.25           13.6           40126        0            1              1               1\n",
      "        6             5.25            5.9           14465        0            1              1               1\n",
      "       15             2.1             7.6           50456        0            1              1               1\n",
      "        7             8.25           14             63000        0            3              1               1\n",
      "        5             8.99           11.8            9010        0            1              1               1\n",
      "        8             3.5             5.9            9800        0            1              1               1\n",
      "        5             7.4             8.5           15059        0            1              1               2\n",
      "        5             5.65            7.9           28569        0            1              1               1\n",
      "        6             5.75            7.5           44000        0            1              1               2\n",
      "        6             8.4            13.6           34000        0            1              1               1\n",
      "        5            10.11           13.6           10980        0            1              1               1\n",
      "        7             4.5             6.4           19000        0            1              1               1\n",
      "        6             5.4             6.1           31427        0            1              1               1\n",
      "        5             6.4             8.4           12000        0            1              1               1\n",
      "       11             3.25            9.9           38000        0            1              1               1\n",
      "        7             3.75            6.8           33019        0            1              1               1\n",
      "        6             8.55           13.09          60076        0            3              1               1\n",
      "        5             9.5            11.6           33988        0            3              1               1\n",
      "        6             4               5.9           60000        0            1              1               1\n",
      "       12             3.35           11             87934        0            1              1               1\n",
      "        4            11.5            12.5            9000        0            3              1               1\n",
      "        5             5.3             5.9            5464        0            1              1               1\n"
     ]
    }
   ],
   "source": [
    "import csv\n",
    "from tabulate import tabulate\n",
    "\n",
    "# Define a dictionary called 'mapping' that contains the categorical column names and their respective numerical mappings\n",
    "mapping = {\n",
    "    'Fuel_Type': {\n",
    "        'Petrol': 1,\n",
    "        'CNG': 2,\n",
    "        'Diesel': 3\n",
    "    },\n",
    "    'Seller_type': {\n",
    "        'Dealer': 1,\n",
    "        'Individual': 2\n",
    "    },\n",
    "    'Transmission':{\n",
    "        'Manual':1,\n",
    "        'Automatic':2\n",
    "    }\n",
    "}\n",
    "\n",
    "# Open the 'output.csv' file and read its contents\n",
    "with open('output.csv', 'r') as file:\n",
    "    lines = file.readlines()\n",
    "\n",
    "# Process the header line by splitting it into a list of column names and dropping the 'Year' column\n",
    "header = lines[0].strip().split(',')\n",
    "header.remove('Year')\n",
    "for i, column_name in enumerate(header):\n",
    "    if column_name in mapping:\n",
    "        header[i] = f'{column_name}'\n",
    "\n",
    "# Initialize an empty list called 'data_lines' to store the updated data\n",
    "data_lines = []\n",
    "\n",
    "# Process each data line and update the values for any categorical columns that are being mapped\n",
    "for line in lines[1:]:\n",
    "    row = line.strip().split(',')\n",
    "    row.remove(row[0])  # Remove the 'Year' column from the row\n",
    "    for i, value in enumerate(row):\n",
    "        column_name = header[i].replace('_mapped', '')\n",
    "        if column_name in mapping:\n",
    "            mapping_values = mapping[column_name]\n",
    "            mapped_value = mapping_values[value]\n",
    "            row[i] = str(mapped_value)\n",
    "    data_lines.append(row)\n",
    "\n",
    "# Print the updated data as a table\n",
    "print(tabulate(data_lines, headers=header))\n",
    "\n",
    "# Write the updated data to a new CSV file\n",
    "with open('updated_output.csv', 'w', newline='') as file:\n",
    "    writer = csv.writer(file)\n",
    "    writer.writerow(header)\n",
    "    writer.writerows(data_lines)\n",
    "\n"
   ]
  },
  {
   "cell_type": "markdown",
   "id": "a4b90cba",
   "metadata": {},
   "source": [
    "## Outlier : "
   ]
  },
  {
   "cell_type": "code",
   "execution_count": 93,
   "id": "db0536ad",
   "metadata": {},
   "outputs": [],
   "source": [
    "import pandas as pd \n",
    "import numpy as np"
   ]
  },
  {
   "cell_type": "code",
   "execution_count": 94,
   "id": "859f2c52",
   "metadata": {},
   "outputs": [],
   "source": [
    "df = pd.read_csv('updated_output.csv')"
   ]
  },
  {
   "cell_type": "code",
   "execution_count": 95,
   "id": "6caccdc7",
   "metadata": {},
   "outputs": [
    {
     "data": {
      "text/plain": [
       "(301, 8)"
      ]
     },
     "execution_count": 95,
     "metadata": {},
     "output_type": "execute_result"
    }
   ],
   "source": [
    "df.shape"
   ]
  },
  {
   "cell_type": "code",
   "execution_count": 96,
   "id": "28731320",
   "metadata": {},
   "outputs": [
    {
     "name": "stdout",
     "output_type": "stream",
     "text": [
      "Selling_Price: Lower Bound = -6.75, Upper Bound = 13.65\n"
     ]
    },
    {
     "data": {
      "image/png": "[encoded data removed]",
      "text/plain": [
       "<Figure size 432x288 with 1 Axes>"
      ]
     },
     "metadata": {
      "needs_background": "light"
     },
     "output_type": "display_data"
    },
    {
     "name": "stdout",
     "output_type": "stream",
     "text": [
      "Present_Price: Lower Bound = -11.85, Upper Bound = 22.95\n"
     ]
    },
    {
     "data": {
      "image/png": "[encoded data removed]",
      "text/plain": [
       "<Figure size 432x288 with 1 Axes>"
      ]
     },
     "metadata": {
      "needs_background": "light"
     },
     "output_type": "display_data"
    },
    {
     "name": "stdout",
     "output_type": "stream",
     "text": [
      "Kms_Driven: Lower Bound = -35650.50, Upper Bound = 99417.50\n"
     ]
    },
    {
     "data": {
      "image/png": "[encoded data removed]",
      "text/plain": [
       "<Figure size 432x288 with 1 Axes>"
      ]
     },
     "metadata": {
      "needs_background": "light"
     },
     "output_type": "display_data"
    }
   ],
   "source": [
    "import csv\n",
    "import matplotlib.pyplot as plt\n",
    "\n",
    "# Load the data from the CSV file\n",
    "with open('updated_output.csv', 'r') as f:\n",
    "    reader = csv.reader(f)\n",
    "    header = next(reader)\n",
    "    data = [list(map(float, row)) for row in reader]\n",
    "\n",
    "# Define the columns to plot\n",
    "cols = [ 'Selling_Price','Present_Price','Kms_Driven']\n",
    "\n",
    "\n",
    "# Loop through each column and create a box plot\n",
    "for col in cols:\n",
    "    # Sort the data for the current column\n",
    "    sorted_data = sorted([row[header.index(col)] for row in data])\n",
    "    \n",
    "    # Calculate the median and quartiles for the current column\n",
    "    n = len(sorted_data)\n",
    "    q1 = sorted_data[n//4]\n",
    "    median = sorted_data[n//2]\n",
    "    q3 = sorted_data[n//4*3]\n",
    "    \n",
    "    # Calculate the interquartile range (IQR) for the current column\n",
    "    iqr = q3 - q1\n",
    "    \n",
    "    # Define the lower and upper bounds for outliers\n",
    "    lower_bound = q1 - 1.5 * iqr\n",
    "    upper_bound = q3 + 1.5 * iqr\n",
    "    \n",
    "    # Print the lower and upper bounds for outliers\n",
    "    print('{}: Lower Bound = {:.2f}, Upper Bound = {:.2f}'.format(col, lower_bound, upper_bound))\n",
    "    \n",
    "    # Create a box plot for the current column\n",
    "    fig, ax = plt.subplots()\n",
    "    ax.boxplot(sorted_data)\n",
    "    ax.set_title(col)\n",
    "    ax.set_xticklabels([col])\n",
    "    plt.show()"
   ]
  },
  {
   "cell_type": "code",
   "execution_count": 97,
   "id": "c794ac99",
   "metadata": {},
   "outputs": [
    {
     "name": "stdout",
     "output_type": "stream",
     "text": [
      "Cleaned dataset saved to cleaned_data.csv\n"
     ]
    }
   ],
   "source": [
    "import csv\n",
    "\n",
    "# Load the data from the CSV file\n",
    "with open('updated_output.csv', 'r') as f:\n",
    "    reader = csv.reader(f)\n",
    "    header = next(reader)\n",
    "    data = [list(map(float, row)) for row in reader]\n",
    "\n",
    "# Define the columns to clean\n",
    "cols = [ 'Selling_Price','Present_Price','Kms_Driven']\n",
    "\n",
    "\n",
    "# Loop through each column and remove outliers\n",
    "for col in cols:\n",
    "    # Sort the data for the current column\n",
    "    sorted_data = sorted([row[header.index(col)] for row in data])\n",
    "    \n",
    "    # Calculate the median and quartiles for the current column\n",
    "    n = len(sorted_data)\n",
    "    q1 = sorted_data[n//4]\n",
    "    median = sorted_data[n//2]\n",
    "    q3 = sorted_data[n//4*3]\n",
    "    \n",
    "    # Calculate the interquartile range (IQR) for the current column\n",
    "    iqr = q3 - q1\n",
    "    \n",
    "    # Define the lower and upper bounds for outliers\n",
    "    lower_bound = q1 - 1.5 * iqr\n",
    "    upper_bound = q3 + 1.5 * iqr\n",
    "    \n",
    "    # Remove the outliers for the current column\n",
    "    data = [row for row in data if row[header.index(col)] >= lower_bound and row[header.index(col)] <= upper_bound]\n",
    "\n",
    "# Write the cleaned data to a new CSV file\n",
    "with open('cleaned_data.csv', 'w', newline='') as f:\n",
    "    writer = csv.writer(f)\n",
    "    writer.writerow(header)\n",
    "    writer.writerows(data)\n",
    "\n",
    "print('Cleaned dataset saved to cleaned_data.csv')\n",
    "\n",
    "    \n",
    "    \n",
    "    "
   ]
  },
  {
   "cell_type": "code",
   "execution_count": 98,
   "id": "99c15ae0",
   "metadata": {},
   "outputs": [
    {
     "data": {
      "text/plain": [
       "(276, 8)"
      ]
     },
     "execution_count": 98,
     "metadata": {},
     "output_type": "execute_result"
    }
   ],
   "source": [
    "df2 = pd.read_csv('cleaned_data.csv')\n",
    "df2.shape"
   ]
  },
  {
   "cell_type": "code",
   "execution_count": 99,
   "id": "e7923c37",
   "metadata": {},
   "outputs": [
    {
     "name": "stdout",
     "output_type": "stream",
     "text": [
      "Selling_Price: Lower Bound = -6.75, Upper Bound = 13.25\n"
     ]
    },
    {
     "data": {
      "image/png": "[encoded data removed]",
      "text/plain": [
       "<Figure size 432x288 with 1 Axes>"
      ]
     },
     "metadata": {
      "needs_background": "light"
     },
     "output_type": "display_data"
    },
    {
     "name": "stdout",
     "output_type": "stream",
     "text": [
      "Present_Price: Lower Bound = -11.62, Upper Bound = 22.02\n"
     ]
    },
    {
     "data": {
      "image/png": "[encoded data removed]",
      "text/plain": [
       "<Figure size 432x288 with 1 Axes>"
      ]
     },
     "metadata": {
      "needs_background": "light"
     },
     "output_type": "display_data"
    },
    {
     "name": "stdout",
     "output_type": "stream",
     "text": [
      "Kms_Driven: Lower Bound = -30420.00, Upper Bound = 90700.00\n"
     ]
    },
    {
     "data": {
      "image/png": "[encoded data removed]",
      "text/plain": [
       "<Figure size 432x288 with 1 Axes>"
      ]
     },
     "metadata": {
      "needs_background": "light"
     },
     "output_type": "display_data"
    }
   ],
   "source": [
    "import csv\n",
    "import matplotlib.pyplot as plt\n",
    "\n",
    "# Load the data from the CSV file\n",
    "with open('cleaned_data.csv', 'r') as f:\n",
    "    reader = csv.reader(f)\n",
    "    header = next(reader)\n",
    "    data = [list(map(float, row)) for row in reader]\n",
    "\n",
    "# Define the columns to plot\n",
    "cols = [ 'Selling_Price','Present_Price','Kms_Driven']\n",
    "\n",
    "# Loop through each column and create a box plot\n",
    "for col in cols:\n",
    "    # Sort the data for the current column\n",
    "    sorted_data = sorted([row[header.index(col)] for row in data])\n",
    "    \n",
    "    # Calculate the median and quartiles for the current column\n",
    "    n = len(sorted_data)\n",
    "    q1 = sorted_data[n//4]\n",
    "    median = sorted_data[n//2]\n",
    "    q3 = sorted_data[n//4*3]\n",
    "    \n",
    "    # Calculate the interquartile range (IQR) for the current column\n",
    "    iqr = q3 - q1\n",
    "    \n",
    "    # Define the lower and upper bounds for outliers\n",
    "    lower_bound = q1 - 1.5 * iqr\n",
    "    upper_bound = q3 + 1.5 * iqr\n",
    "    \n",
    "    # Print the lower and upper bounds for outliers\n",
    "    print('{}: Lower Bound = {:.2f}, Upper Bound = {:.2f}'.format(col, lower_bound, upper_bound))\n",
    "    \n",
    "    # Create a box plot for the current column\n",
    "    fig, ax = plt.subplots()\n",
    "    ax.boxplot(sorted_data)\n",
    "    ax.set_title(col)\n",
    "    ax.set_xticklabels([col])\n",
    "    plt.show()"
   ]
  },
  {
   "cell_type": "code",
   "execution_count": 100,
   "id": "c73ef855",
   "metadata": {},
   "outputs": [
    {
     "name": "stdout",
     "output_type": "stream",
     "text": [
      "['Car_age', 'Selling_Price', 'Present_Price', 'Kms_Driven', 'Owner', 'Fuel_Type', 'Seller_type', 'Transmission']\n",
      "['7.0', '3.35', '5.59', '27000.0', '0.0', '1.0', '1.0', '1.0']\n",
      "['8.0', '4.75', '9.54', '43000.0', '0.0', '3.0', '1.0', '1.0']\n",
      "['4.0', '7.25', '9.85', '6900.0', '0.0', '1.0', '1.0', '1.0']\n",
      "['10.0', '2.85', '4.15', '5200.0', '0.0', '1.0', '1.0', '1.0']\n",
      "['7.0', '4.6', '6.87', '42450.0', '0.0', '3.0', '1.0', '1.0']\n",
      "['3.0', '9.25', '9.83', '2071.0', '0.0', '3.0', '1.0', '1.0']\n",
      "['6.0', '6.75', '8.12', '18796.0', '0.0', '1.0', '1.0', '1.0']\n",
      "['6.0', '6.5', '8.61', '33429.0', '0.0', '3.0', '1.0', '1.0']\n",
      "['5.0', '8.75', '8.89', '20273.0', '0.0', '3.0', '1.0', '1.0']\n",
      "['6.0', '7.45', '8.92', '42367.0', '0.0', '3.0', '1.0', '1.0']\n",
      "['4.0', '2.85', '3.6', '2135.0', '0.0', '1.0', '1.0', '1.0']\n",
      "['6.0', '6.85', '10.38', '51000.0', '0.0', '3.0', '1.0', '1.0']\n",
      "['6.0', '7.5', '9.94', '15000.0', '0.0', '1.0', '1.0', '2.0']\n",
      "['6.0', '6.1', '7.71', '26000.0', '0.0', '1.0', '1.0', '1.0']\n",
      "['12.0', '2.25', '7.21', '77427.0', '0.0', '1.0', '1.0', '1.0']\n",
      "['5.0', '7.75', '10.79', '43000.0', '0.0', '3.0', '1.0', '1.0']\n",
      "['6.0', '7.25', '10.79', '41678.0', '0.0', '3.0', '1.0', '1.0']\n",
      "['5.0', '7.75', '10.79', '43000.0', '0.0', '3.0', '1.0', '1.0']\n",
      "['6.0', '3.25', '5.09', '35500.0', '0.0', '2.0', '1.0', '1.0']\n",
      "['11.0', '2.65', '7.98', '41442.0', '0.0', '1.0', '1.0', '1.0']\n",
      "['5.0', '2.85', '3.95', '25000.0', '0.0', '1.0', '1.0', '1.0']\n",
      "['4.0', '4.9', '5.71', '2400.0', '0.0', '1.0', '1.0', '1.0']\n",
      "['10.0', '4.4', '8.01', '50000.0', '0.0', '1.0', '1.0', '2.0']\n",
      "['7.0', '2.5', '3.46', '45280.0', '0.0', '1.0', '1.0', '1.0']\n",
      "['8.0', '2.9', '4.41', '56879.0', '0.0', '1.0', '1.0', '1.0']\n",
      "['10.0', '3.0', '4.99', '20000.0', '0.0', '1.0', '1.0', '1.0']\n",
      "['8.0', '4.15', '5.87', '55138.0', '0.0', '1.0', '1.0', '1.0']\n",
      "['4.0', '6.0', '6.49', '16200.0', '0.0', '1.0', '2.0', '1.0']\n",
      "['11.0', '1.95', '3.95', '44542.0', '0.0', '1.0', '1.0', '1.0']\n",
      "['6.0', '7.45', '10.38', '45000.0', '0.0', '3.0', '1.0', '1.0']\n",
      "['9.0', '3.1', '5.98', '51439.0', '0.0', '3.0', '1.0', '1.0']\n",
      "['10.0', '2.35', '4.89', '54200.0', '0.0', '1.0', '1.0', '1.0']\n",
      "['7.0', '4.95', '7.49', '39000.0', '0.0', '3.0', '1.0', '1.0']\n",
      "['7.0', '6.0', '9.95', '45000.0', '0.0', '3.0', '1.0', '1.0']\n",
      "['7.0', '5.5', '8.06', '45000.0', '0.0', '3.0', '1.0', '1.0']\n",
      "['10.0', '2.95', '7.74', '49998.0', '0.0', '2.0', '1.0', '1.0']\n",
      "['6.0', '4.65', '7.2', '48767.0', '0.0', '1.0', '1.0', '1.0']\n",
      "['5.0', '3.0', '3.76', '10079.0', '0.0', '1.0', '1.0', '1.0']\n",
      "['18.0', '2.25', '7.98', '62000.0', '0.0', '1.0', '1.0', '1.0']\n",
      "['5.0', '5.85', '7.87', '24524.0', '0.0', '1.0', '1.0', '2.0']\n",
      "['7.0', '2.55', '3.98', '46706.0', '0.0', '1.0', '1.0', '1.0']\n",
      "['13.0', '1.95', '7.15', '58000.0', '0.0', '1.0', '1.0', '1.0']\n",
      "['7.0', '5.5', '8.06', '45780.0', '0.0', '3.0', '1.0', '1.0']\n",
      "['9.0', '1.25', '2.69', '50000.0', '0.0', '1.0', '1.0', '1.0']\n",
      "['7.0', '7.5', '12.04', '15000.0', '0.0', '1.0', '1.0', '2.0']\n",
      "['8.0', '2.65', '4.89', '64532.0', '0.0', '1.0', '1.0', '1.0']\n",
      "['15.0', '1.05', '4.15', '65000.0', '0.0', '1.0', '1.0', '1.0']\n",
      "['6.0', '5.8', '7.71', '25870.0', '0.0', '1.0', '1.0', '1.0']\n",
      "['4.0', '7.75', '9.29', '37000.0', '0.0', '1.0', '1.0', '2.0']\n",
      "['16.0', '2.75', '10.21', '90000.0', '0.0', '1.0', '2.0', '1.0']\n",
      "['12.0', '3.6', '15.04', '70000.0', '0.0', '1.0', '1.0', '2.0']\n",
      "['6.0', '4.5', '7.27', '40534.0', '0.0', '1.0', '1.0', '1.0']\n",
      "['11.0', '4.75', '18.54', '50000.0', '0.0', '1.0', '1.0', '1.0']\n",
      "['7.0', '4.1', '6.8', '39485.0', '1.0', '1.0', '1.0', '1.0']\n",
      "['8.0', '6.95', '18.61', '40001.0', '0.0', '1.0', '1.0', '1.0']\n",
      "['6.0', '4.5', '7.7', '40588.0', '0.0', '1.0', '1.0', '1.0']\n",
      "['7.0', '4.75', '6.95', '45000.0', '0.0', '3.0', '1.0', '1.0']\n",
      "['11.0', '9.25', '20.45', '59000.0', '0.0', '3.0', '1.0', '1.0']\n",
      "['10.0', '4.35', '13.74', '88000.0', '0.0', '1.0', '1.0', '1.0']\n",
      "['7.0', '3.95', '6.76', '71000.0', '0.0', '3.0', '1.0', '1.0']\n",
      "['10.0', '4.5', '12.48', '45000.0', '0.0', '3.0', '1.0', '1.0']\n",
      "['8.0', '7.45', '18.61', '56001.0', '0.0', '1.0', '1.0', '1.0']\n",
      "['10.0', '2.65', '5.71', '43000.0', '0.0', '1.0', '1.0', '1.0']\n",
      "['7.0', '4.9', '8.93', '83000.0', '0.0', '3.0', '1.0', '1.0']\n",
      "['6.0', '3.95', '6.8', '36000.0', '0.0', '1.0', '1.0', '1.0']\n",
      "['8.0', '5.5', '14.68', '72000.0', '0.0', '1.0', '1.0', '1.0']\n",
      "['6.0', '4.75', '7.85', '40000.0', '0.0', '3.0', '1.0', '1.0']\n",
      "['6.0', '12.5', '13.46', '38000.0', '0.0', '3.0', '1.0', '1.0']\n",
      "['9.0', '5.9', '13.74', '56000.0', '0.0', '1.0', '1.0', '1.0']\n",
      "['8.0', '3.45', '6.05', '47000.0', '0.0', '1.0', '1.0', '1.0']\n",
      "['7.0', '4.75', '6.76', '40000.0', '0.0', '1.0', '1.0', '1.0']\n",
      "['12.0', '3.8', '18.61', '62000.0', '0.0', '1.0', '1.0', '1.0']\n",
      "['7.0', '11.25', '16.09', '58242.0', '0.0', '3.0', '1.0', '1.0']\n",
      "['16.0', '3.51', '13.7', '75000.0', '0.0', '1.0', '1.0', '1.0']\n",
      "['9.0', '5.85', '18.61', '72000.0', '0.0', '1.0', '1.0', '1.0']\n",
      "['8.0', '7.05', '18.61', '45000.0', '0.0', '1.0', '1.0', '1.0']\n",
      "['11.0', '9.65', '20.45', '50024.0', '0.0', '3.0', '1.0', '1.0']\n",
      "['5.0', '1.75', '1.9', '3000.0', '0.0', '1.0', '2.0', '1.0']\n",
      "['4.0', '1.7', '1.82', '1400.0', '0.0', '1.0', '2.0', '1.0']\n",
      "['4.0', '1.65', '1.78', '4000.0', '0.0', '1.0', '2.0', '1.0']\n",
      "['4.0', '1.45', '1.6', '1200.0', '0.0', '1.0', '2.0', '1.0']\n",
      "['4.0', '1.35', '1.47', '4100.0', '0.0', '1.0', '2.0', '1.0']\n",
      "['6.0', '1.35', '2.37', '21700.0', '0.0', '1.0', '2.0', '1.0']\n",
      "['7.0', '1.35', '3.45', '16500.0', '1.0', '1.0', '2.0', '1.0']\n",
      "['8.0', '1.25', '1.5', '15000.0', '0.0', '1.0', '2.0', '1.0']\n",
      "['5.0', '1.2', '1.5', '18000.0', '0.0', '1.0', '2.0', '1.0']\n",
      "['4.0', '1.2', '1.47', '11000.0', '0.0', '1.0', '2.0', '1.0']\n",
      "['5.0', '1.2', '1.78', '6000.0', '0.0', '1.0', '2.0', '1.0']\n",
      "['5.0', '1.15', '1.5', '8700.0', '0.0', '1.0', '2.0', '1.0']\n",
      "['7.0', '1.15', '2.4', '7000.0', '0.0', '1.0', '2.0', '1.0']\n",
      "['5.0', '1.15', '1.4', '35000.0', '0.0', '1.0', '2.0', '1.0']\n",
      "['6.0', '1.15', '1.47', '17000.0', '0.0', '1.0', '2.0', '1.0']\n",
      "['6.0', '1.11', '1.47', '17500.0', '0.0', '1.0', '2.0', '1.0']\n",
      "['8.0', '1.1', '1.47', '33000.0', '0.0', '1.0', '2.0', '1.0']\n",
      "['6.0', '1.1', '1.9', '14000.0', '0.0', '1.0', '2.0', '1.0']\n",
      "['6.0', '1.1', '1.47', '26000.0', '0.0', '1.0', '2.0', '1.0']\n",
      "['8.0', '1.05', '1.9', '5400.0', '0.0', '1.0', '2.0', '1.0']\n",
      "['5.0', '1.05', '1.26', '5700.0', '0.0', '1.0', '2.0', '1.0']\n",
      "['10.0', '1.05', '1.5', '6900.0', '0.0', '1.0', '2.0', '1.0']\n",
      "['5.0', '1.05', '1.17', '6000.0', '0.0', '1.0', '2.0', '1.0']\n",
      "['8.0', '1.0', '1.47', '46500.0', '0.0', '1.0', '2.0', '1.0']\n",
      "['9.0', '0.95', '1.75', '11500.0', '0.0', '1.0', '2.0', '1.0']\n",
      "['12.0', '0.9', '1.75', '40000.0', '0.0', '1.0', '2.0', '1.0']\n",
      "['4.0', '0.9', '0.95', '1300.0', '0.0', '1.0', '2.0', '1.0']\n",
      "['5.0', '0.75', '0.8', '7000.0', '0.0', '1.0', '2.0', '1.0']\n",
      "['4.0', '0.8', '0.87', '3000.0', '0.0', '1.0', '2.0', '1.0']\n",
      "['4.0', '0.78', '0.84', '5000.0', '0.0', '1.0', '2.0', '1.0']\n",
      "['4.0', '0.75', '0.87', '11000.0', '0.0', '1.0', '2.0', '1.0']\n",
      "['6.0', '0.75', '0.82', '18000.0', '0.0', '1.0', '2.0', '1.0']\n",
      "['4.0', '0.75', '0.95', '3500.0', '0.0', '1.0', '2.0', '1.0']\n",
      "['5.0', '0.72', '0.95', '500.0', '0.0', '1.0', '2.0', '1.0']\n",
      "['4.0', '0.65', '0.81', '11800.0', '0.0', '1.0', '2.0', '1.0']\n",
      "['6.0', '0.65', '0.74', '5000.0', '0.0', '1.0', '2.0', '1.0']\n",
      "['7.0', '0.65', '1.2', '23500.0', '0.0', '1.0', '2.0', '1.0']\n",
      "['8.0', '0.65', '0.787', '16000.0', '0.0', '1.0', '2.0', '1.0']\n",
      "['5.0', '0.6', '0.87', '15000.0', '0.0', '1.0', '2.0', '1.0']\n",
      "['6.0', '0.6', '0.95', '16600.0', '0.0', '1.0', '2.0', '1.0']\n",
      "['8.0', '0.6', '1.2', '32000.0', '0.0', '1.0', '2.0', '1.0']\n",
      "['5.0', '0.6', '0.8', '20000.0', '0.0', '1.0', '2.0', '1.0']\n",
      "['6.0', '0.6', '0.84', '29000.0', '0.0', '1.0', '2.0', '1.0']\n",
      "['5.0', '0.6', '0.84', '25000.0', '0.0', '1.0', '2.0', '1.0']\n",
      "['7.0', '0.6', '0.99', '25000.0', '0.0', '1.0', '2.0', '1.0']\n",
      "['9.0', '0.6', '0.81', '19000.0', '0.0', '1.0', '2.0', '1.0']\n",
      "['7.0', '0.55', '0.787', '15000.0', '0.0', '1.0', '2.0', '1.0']\n",
      "['6.0', '0.55', '0.84', '58000.0', '0.0', '1.0', '2.0', '1.0']\n",
      "['11.0', '0.52', '0.94', '45000.0', '0.0', '1.0', '2.0', '1.0']\n",
      "['5.0', '0.51', '0.94', '24000.0', '0.0', '1.0', '2.0', '1.0']\n",
      "['10.0', '0.5', '0.826', '6000.0', '0.0', '1.0', '2.0', '1.0']\n",
      "['5.0', '0.5', '0.55', '31000.0', '0.0', '1.0', '2.0', '1.0']\n",
      "['9.0', '0.5', '0.99', '13000.0', '0.0', '1.0', '2.0', '1.0']\n",
      "['8.0', '0.5', '0.99', '45000.0', '0.0', '1.0', '2.0', '1.0']\n",
      "['7.0', '0.5', '0.88', '8000.0', '0.0', '1.0', '2.0', '1.0']\n",
      "['4.0', '0.48', '0.51', '4300.0', '0.0', '1.0', '2.0', '2.0']\n",
      "['4.0', '0.48', '0.52', '15000.0', '0.0', '1.0', '2.0', '1.0']\n",
      "['6.0', '0.48', '0.84', '23000.0', '0.0', '1.0', '2.0', '1.0']\n",
      "['4.0', '0.48', '0.54', '8600.0', '0.0', '1.0', '2.0', '1.0']\n",
      "['4.0', '0.45', '0.51', '4000.0', '0.0', '1.0', '2.0', '2.0']\n",
      "['10.0', '0.45', '0.95', '24000.0', '0.0', '1.0', '2.0', '1.0']\n",
      "['7.0', '0.45', '0.826', '23000.0', '0.0', '1.0', '2.0', '1.0']\n",
      "['9.0', '0.45', '0.99', '14500.0', '0.0', '1.0', '2.0', '1.0']\n",
      "['11.0', '0.45', '0.95', '27000.0', '0.0', '1.0', '2.0', '1.0']\n",
      "['5.0', '0.45', '0.54', '14000.0', '0.0', '1.0', '2.0', '1.0']\n",
      "['5.0', '0.45', '0.54', '500.0', '0.0', '1.0', '2.0', '2.0']\n",
      "['5.0', '0.45', '0.55', '1000.0', '0.0', '1.0', '2.0', '1.0']\n",
      "['7.0', '0.42', '0.81', '42000.0', '0.0', '1.0', '2.0', '1.0']\n",
      "['8.0', '0.42', '0.73', '12000.0', '0.0', '1.0', '2.0', '1.0']\n",
      "['6.0', '0.4', '0.54', '14000.0', '0.0', '1.0', '2.0', '1.0']\n",
      "['9.0', '0.4', '0.83', '5500.0', '0.0', '1.0', '2.0', '1.0']\n",
      "['6.0', '0.4', '0.55', '6700.0', '0.0', '1.0', '2.0', '1.0']\n",
      "['7.0', '0.4', '0.64', '13700.0', '0.0', '1.0', '2.0', '1.0']\n",
      "['4.0', '0.4', '0.51', '1300.0', '0.0', '1.0', '2.0', '2.0']\n",
      "['6.0', '0.38', '0.72', '38600.0', '0.0', '1.0', '2.0', '1.0']\n",
      "['10.0', '0.38', '0.787', '75000.0', '0.0', '1.0', '2.0', '1.0']\n",
      "['10.0', '0.35', '1.05', '30000.0', '0.0', '1.0', '2.0', '1.0']\n",
      "['5.0', '0.35', '0.57', '24000.0', '0.0', '1.0', '2.0', '2.0']\n",
      "['7.0', '0.35', '0.52', '19000.0', '0.0', '1.0', '2.0', '2.0']\n",
      "['9.0', '0.3', '0.51', '60000.0', '0.0', '1.0', '2.0', '1.0']\n",
      "['5.0', '0.3', '0.48', '50000.0', '0.0', '1.0', '2.0', '1.0']\n",
      "['8.0', '0.3', '0.58', '30000.0', '0.0', '1.0', '2.0', '1.0']\n",
      "['8.0', '0.27', '0.47', '21000.0', '0.0', '1.0', '2.0', '1.0']\n",
      "['13.0', '0.25', '0.75', '26000.0', '1.0', '1.0', '2.0', '1.0']\n",
      "['13.0', '0.25', '0.58', '1900.0', '0.0', '1.0', '2.0', '2.0']\n",
      "['11.0', '0.25', '0.52', '22000.0', '0.0', '1.0', '2.0', '2.0']\n",
      "['8.0', '0.25', '0.51', '32000.0', '0.0', '1.0', '2.0', '1.0']\n",
      "['8.0', '0.25', '0.57', '18000.0', '0.0', '1.0', '2.0', '1.0']\n",
      "['16.0', '0.2', '0.57', '55000.0', '0.0', '1.0', '2.0', '1.0']\n",
      "['13.0', '0.2', '0.75', '60000.0', '0.0', '1.0', '2.0', '1.0']\n",
      "['9.0', '0.2', '0.57', '25000.0', '1.0', '1.0', '2.0', '1.0']\n",
      "['14.0', '0.2', '0.75', '49000.0', '1.0', '1.0', '2.0', '1.0']\n",
      "['8.0', '0.2', '0.65', '24000.0', '1.0', '1.0', '2.0', '1.0']\n",
      "['13.0', '0.2', '0.787', '50000.0', '0.0', '1.0', '2.0', '1.0']\n",
      "['6.0', '0.18', '0.32', '35000.0', '0.0', '1.0', '2.0', '1.0']\n",
      "['11.0', '0.16', '0.51', '33000.0', '0.0', '1.0', '2.0', '1.0']\n",
      "['10.0', '0.15', '0.57', '35000.0', '1.0', '1.0', '2.0', '1.0']\n",
      "['14.0', '0.12', '0.58', '53000.0', '0.0', '1.0', '2.0', '1.0']\n",
      "['15.0', '0.1', '0.75', '92233.0', '0.0', '1.0', '2.0', '1.0']\n",
      "['11.0', '3.25', '6.79', '58000.0', '1.0', '3.0', '1.0', '1.0']\n",
      "['6.0', '4.4', '5.7', '28200.0', '0.0', '1.0', '1.0', '1.0']\n",
      "['10.0', '2.95', '4.6', '53460.0', '0.0', '1.0', '1.0', '1.0']\n",
      "['6.0', '2.75', '4.43', '28282.0', '0.0', '1.0', '1.0', '1.0']\n",
      "['5.0', '5.25', '5.7', '3493.0', '1.0', '1.0', '1.0', '1.0']\n",
      "['4.0', '5.75', '7.13', '12479.0', '0.0', '1.0', '1.0', '1.0']\n",
      "['6.0', '5.15', '5.7', '34797.0', '0.0', '1.0', '1.0', '2.0']\n",
      "['4.0', '7.9', '8.1', '3435.0', '0.0', '1.0', '1.0', '1.0']\n",
      "['6.0', '4.85', '5.7', '21125.0', '0.0', '3.0', '1.0', '1.0']\n",
      "['9.0', '3.1', '4.6', '35775.0', '0.0', '1.0', '1.0', '1.0']\n",
      "['6.0', '11.75', '14.79', '43535.0', '0.0', '3.0', '1.0', '1.0']\n",
      "['5.0', '11.25', '13.6', '22671.0', '0.0', '1.0', '1.0', '1.0']\n",
      "['10.0', '2.9', '6.79', '31604.0', '0.0', '1.0', '1.0', '1.0']\n",
      "['4.0', '5.25', '5.7', '20114.0', '0.0', '1.0', '1.0', '1.0']\n",
      "['9.0', '4.5', '9.4', '36100.0', '0.0', '1.0', '1.0', '1.0']\n",
      "['5.0', '2.9', '4.43', '12500.0', '0.0', '1.0', '1.0', '1.0']\n",
      "['5.0', '3.15', '4.43', '15000.0', '0.0', '1.0', '1.0', '1.0']\n",
      "['7.0', '6.45', '8.4', '45078.0', '0.0', '1.0', '1.0', '1.0']\n",
      "['9.0', '4.5', '9.4', '36000.0', '0.0', '1.0', '1.0', '1.0']\n",
      "['4.0', '3.5', '5.43', '38488.0', '0.0', '1.0', '1.0', '1.0']\n",
      "['8.0', '4.5', '6.79', '32000.0', '0.0', '1.0', '1.0', '2.0']\n",
      "['7.0', '6.0', '7.6', '77632.0', '0.0', '3.0', '1.0', '1.0']\n",
      "['6.0', '8.25', '9.4', '61381.0', '0.0', '3.0', '1.0', '1.0']\n",
      "['8.0', '5.11', '9.4', '36198.0', '0.0', '1.0', '1.0', '2.0']\n",
      "['10.0', '2.7', '4.6', '22517.0', '0.0', '1.0', '1.0', '1.0']\n",
      "['6.0', '5.25', '5.7', '24678.0', '0.0', '1.0', '1.0', '1.0']\n",
      "['10.0', '2.55', '4.43', '57000.0', '0.0', '1.0', '1.0', '1.0']\n",
      "['9.0', '4.95', '9.4', '60000.0', '0.0', '3.0', '1.0', '1.0']\n",
      "['9.0', '3.1', '6.79', '52132.0', '0.0', '3.0', '1.0', '1.0']\n",
      "['8.0', '6.15', '9.4', '45000.0', '0.0', '3.0', '1.0', '1.0']\n",
      "['4.0', '9.25', '9.4', '15001.0', '0.0', '1.0', '1.0', '1.0']\n",
      "['6.0', '11.45', '14.79', '12900.0', '0.0', '1.0', '1.0', '2.0']\n",
      "['8.0', '3.9', '5.7', '53000.0', '0.0', '3.0', '1.0', '1.0']\n",
      "['6.0', '5.5', '5.7', '4492.0', '0.0', '1.0', '1.0', '1.0']\n",
      "['4.0', '9.1', '9.4', '15141.0', '0.0', '1.0', '1.0', '1.0']\n",
      "['5.0', '3.1', '4.43', '11849.0', '0.0', '1.0', '1.0', '1.0']\n",
      "['6.0', '11.25', '13.6', '68000.0', '0.0', '3.0', '1.0', '1.0']\n",
      "['8.0', '4.8', '9.4', '60241.0', '0.0', '1.0', '1.0', '1.0']\n",
      "['9.0', '2.0', '4.43', '23709.0', '0.0', '1.0', '1.0', '1.0']\n",
      "['9.0', '5.35', '9.4', '32322.0', '0.0', '3.0', '1.0', '1.0']\n",
      "['6.0', '4.75', '7.13', '35866.0', '1.0', '1.0', '1.0', '1.0']\n",
      "['7.0', '4.4', '7.13', '34000.0', '0.0', '1.0', '1.0', '1.0']\n",
      "['5.0', '6.25', '7.6', '7000.0', '0.0', '1.0', '1.0', '1.0']\n",
      "['8.0', '5.95', '9.4', '49000.0', '0.0', '3.0', '1.0', '1.0']\n",
      "['9.0', '5.2', '9.4', '71000.0', '0.0', '3.0', '1.0', '1.0']\n",
      "['9.0', '3.75', '6.79', '35000.0', '0.0', '1.0', '1.0', '1.0']\n",
      "['6.0', '5.95', '9.4', '36000.0', '0.0', '1.0', '1.0', '1.0']\n",
      "['8.0', '4.0', '4.6', '30000.0', '0.0', '1.0', '1.0', '1.0']\n",
      "['5.0', '5.25', '7.6', '17000.0', '0.0', '1.0', '1.0', '1.0']\n",
      "['5.0', '12.9', '13.6', '35934.0', '0.0', '3.0', '1.0', '1.0']\n",
      "['8.0', '5.0', '9.9', '56701.0', '0.0', '1.0', '1.0', '1.0']\n",
      "['6.0', '5.4', '6.82', '31427.0', '0.0', '1.0', '1.0', '2.0']\n",
      "['7.0', '7.2', '9.9', '48000.0', '0.0', '3.0', '1.0', '1.0']\n",
      "['8.0', '5.25', '9.9', '54242.0', '0.0', '1.0', '1.0', '1.0']\n",
      "['9.0', '3.0', '5.35', '53675.0', '0.0', '1.0', '1.0', '1.0']\n",
      "['5.0', '10.25', '13.6', '49562.0', '0.0', '1.0', '1.0', '1.0']\n",
      "['6.0', '8.5', '13.6', '40324.0', '0.0', '1.0', '1.0', '1.0']\n",
      "['6.0', '8.4', '13.6', '25000.0', '0.0', '1.0', '1.0', '1.0']\n",
      "['7.0', '3.9', '7.0', '36054.0', '0.0', '1.0', '1.0', '1.0']\n",
      "['5.0', '9.15', '13.6', '29223.0', '0.0', '1.0', '1.0', '1.0']\n",
      "['5.0', '5.5', '5.97', '5600.0', '0.0', '1.0', '1.0', '1.0']\n",
      "['6.0', '4.0', '5.8', '40023.0', '0.0', '1.0', '1.0', '1.0']\n",
      "['5.0', '6.6', '7.7', '16002.0', '0.0', '1.0', '1.0', '1.0']\n",
      "['6.0', '4.0', '7.0', '40026.0', '0.0', '1.0', '1.0', '1.0']\n",
      "['4.0', '6.5', '8.7', '21200.0', '0.0', '1.0', '1.0', '1.0']\n",
      "['7.0', '3.65', '7.0', '35000.0', '0.0', '1.0', '1.0', '1.0']\n",
      "['5.0', '8.35', '9.4', '19434.0', '0.0', '3.0', '1.0', '1.0']\n",
      "['4.0', '4.8', '5.8', '19000.0', '0.0', '1.0', '1.0', '1.0']\n",
      "['6.0', '6.7', '10.0', '18828.0', '0.0', '1.0', '1.0', '1.0']\n",
      "['10.0', '4.1', '10.0', '69341.0', '0.0', '1.0', '1.0', '1.0']\n",
      "['12.0', '3.0', '10.0', '69562.0', '0.0', '1.0', '1.0', '1.0']\n",
      "['6.0', '7.5', '10.0', '27600.0', '0.0', '1.0', '1.0', '1.0']\n",
      "['11.0', '2.25', '7.5', '61203.0', '0.0', '1.0', '1.0', '1.0']\n",
      "['7.0', '5.3', '6.8', '16500.0', '0.0', '1.0', '1.0', '1.0']\n",
      "['5.0', '10.9', '13.6', '30753.0', '0.0', '1.0', '1.0', '2.0']\n",
      "['6.0', '8.65', '13.6', '24800.0', '0.0', '1.0', '1.0', '1.0']\n",
      "['6.0', '9.7', '13.6', '21780.0', '0.0', '1.0', '1.0', '1.0']\n",
      "['5.0', '6.0', '8.4', '4000.0', '0.0', '1.0', '1.0', '1.0']\n",
      "['7.0', '6.25', '13.6', '40126.0', '0.0', '1.0', '1.0', '1.0']\n",
      "['6.0', '5.25', '5.9', '14465.0', '0.0', '1.0', '1.0', '1.0']\n",
      "['15.0', '2.1', '7.6', '50456.0', '0.0', '1.0', '1.0', '1.0']\n",
      "['7.0', '8.25', '14.0', '63000.0', '0.0', '3.0', '1.0', '1.0']\n",
      "['5.0', '8.99', '11.8', '9010.0', '0.0', '1.0', '1.0', '1.0']\n",
      "['8.0', '3.5', '5.9', '9800.0', '0.0', '1.0', '1.0', '1.0']\n",
      "['5.0', '7.4', '8.5', '15059.0', '0.0', '1.0', '1.0', '2.0']\n",
      "['5.0', '5.65', '7.9', '28569.0', '0.0', '1.0', '1.0', '1.0']\n",
      "['6.0', '5.75', '7.5', '44000.0', '0.0', '1.0', '1.0', '2.0']\n",
      "['6.0', '8.4', '13.6', '34000.0', '0.0', '1.0', '1.0', '1.0']\n",
      "['5.0', '10.11', '13.6', '10980.0', '0.0', '1.0', '1.0', '1.0']\n",
      "['7.0', '4.5', '6.4', '19000.0', '0.0', '1.0', '1.0', '1.0']\n",
      "['6.0', '5.4', '6.1', '31427.0', '0.0', '1.0', '1.0', '1.0']\n",
      "['5.0', '6.4', '8.4', '12000.0', '0.0', '1.0', '1.0', '1.0']\n",
      "['11.0', '3.25', '9.9', '38000.0', '0.0', '1.0', '1.0', '1.0']\n",
      "['7.0', '3.75', '6.8', '33019.0', '0.0', '1.0', '1.0', '1.0']\n",
      "['6.0', '8.55', '13.09', '60076.0', '0.0', '3.0', '1.0', '1.0']\n",
      "['5.0', '9.5', '11.6', '33988.0', '0.0', '3.0', '1.0', '1.0']\n",
      "['6.0', '4.0', '5.9', '60000.0', '0.0', '1.0', '1.0', '1.0']\n",
      "['12.0', '3.35', '11.0', '87934.0', '0.0', '1.0', '1.0', '1.0']\n",
      "['4.0', '11.5', '12.5', '9000.0', '0.0', '3.0', '1.0', '1.0']\n",
      "['5.0', '5.3', '5.9', '5464.0', '0.0', '1.0', '1.0', '1.0']\n"
     ]
    }
   ],
   "source": [
    "# Step 1: Load the dataset into a Python environment\n",
    "with open('cleaned_data.csv', 'r') as f:\n",
    "    reader = csv.reader(f)\n",
    "    data = list(reader)\n",
    "\n",
    "# Step 2: Remove rows containing missing values\n",
    "clean_data = []\n",
    "for row in data:\n",
    "    if '' or 'NA' not in row:\n",
    "        clean_data.append(row)\n",
    "\n",
    "# Step 3: Print the cleaned dataset\n",
    "for row in clean_data:\n",
    "    print(row)"
   ]
  },
  {
   "cell_type": "markdown",
   "id": "7fcd8419",
   "metadata": {},
   "source": [
    "# .................................. : DATA VISULIZATION : ......................................."
   ]
  },
  {
   "cell_type": "raw",
   "id": "1085380b",
   "metadata": {},
   "source": [
    "The main aim of data visualization in machine learning is to help users gain insights and understanding from large and complex datasets"
   ]
  },
  {
   "cell_type": "raw",
   "id": "8477a834",
   "metadata": {},
   "source": [
    "1. Data visualization is the graphical representation of information and data.\n",
    "2. Easy to explain to technical infomation in graphical represenation to non technical person.\n",
    "3. Data visualizations make big and small data easier for the human brain to understand.\n",
    "4. By using visual elements like charts, graphs, and maps, data visualization tools provide an accessible way to see and understand trends, outliers, and patterns in data."
   ]
  },
  {
   "cell_type": "markdown",
   "id": "aab97137",
   "metadata": {},
   "source": [
    "## Data exploration"
   ]
  },
  {
   "cell_type": "markdown",
   "id": "497aaf98",
   "metadata": {},
   "source": [
    "### Data Exploration & Visualization"
   ]
  },
  {
   "cell_type": "markdown",
   "id": "fb8d9840",
   "metadata": {},
   "source": [
    "### Bar plot : \n",
    "A bar chart or bar graph is a chart or graph that presents categorical data with rectangular bars with heights or lengths proportional to the values that they represent. The bars can be plotted vertically or horizontally."
   ]
  },
  {
   "cell_type": "code",
   "execution_count": 19,
   "id": "d3d46b8d",
   "metadata": {},
   "outputs": [
    {
     "data": {
      "image/png": "[encoded data removed]",
      "text/plain": [
       "<Figure size 1296x360 with 3 Axes>"
      ]
     },
     "metadata": {
      "needs_background": "light"
     },
     "output_type": "display_data"
    }
   ],
   "source": [
    "import csv\n",
    "import matplotlib.pyplot as plt\n",
    "\n",
    "# Load the data from a CSV file\n",
    "with open('car data1.csv', 'r') as file:\n",
    "    reader = csv.DictReader(file)\n",
    "    data = list(reader)\n",
    "\n",
    "# Extract the columns we need\n",
    "seller_type = [row['Seller_type'] for row in data]\n",
    "transmission = [row['Transmission'] for row in data]\n",
    "fuel_type = [row['Fuel_Type'] for row in data]\n",
    "selling_price = [float(row['Selling_Price']) for row in data]\n",
    "\n",
    "# Create the plot\n",
    "fig, axs = plt.subplots(1, 3, figsize=[18, 5]) # here one row and three column\n",
    "# fig is used to modify the figure size and axs variable can be used to modify each subplot individually\n",
    "\n",
    "axs[0].bar(seller_type, selling_price) # is the method call that creates a bar chart on the first subplot of a matplotlib figure.\n",
    "axs[0].set_title('Selling Price Vs Seller Type')\n",
    "\n",
    "axs[1].bar(transmission, selling_price)\n",
    "axs[1].set_title('Selling Price Vs Transmission')\n",
    "\n",
    "axs[2].bar(fuel_type, selling_price)\n",
    "axs[2].set_title('Selling Price Vs Fuel Type')\n",
    "\n",
    "plt.show()"
   ]
  },
  {
   "cell_type": "markdown",
   "id": "3d1dc430",
   "metadata": {},
   "source": [
    "--> Selling Price of cars seems to have higher prices when sold by Dealers when compared to Individuals \n",
    "\n",
    "--> It can be observed that Selling Price would be higher for cars that are Automatic. \n",
    "\n",
    "--> Selling Price of cars with Fuel Type of Diesel is higher than Petrol and CNG."
   ]
  },
  {
   "cell_type": "code",
   "execution_count": 20,
   "id": "6f99889a",
   "metadata": {},
   "outputs": [
    {
     "data": {
      "image/png": "[encoded data removed]",
      "text/plain": [
       "<Figure size 1224x360 with 3 Axes>"
      ]
     },
     "metadata": {
      "needs_background": "light"
     },
     "output_type": "display_data"
    }
   ],
   "source": [
    "import csv\n",
    "import matplotlib.pyplot as plt\n",
    "\n",
    "# Read the CSV file\n",
    "with open('car data1.csv') as file:\n",
    "    reader = csv.DictReader(file)\n",
    "    data = [row for row in reader]\n",
    "\n",
    "# Convert string values to numeric values where applicable\n",
    "for row in data:\n",
    "    row['Year'] = int(row['Year'])\n",
    "    row['Selling_Price'] = float(row['Selling_Price'])\n",
    "    row['Kms_Driven'] = int(row['Kms_Driven'])\n",
    "\n",
    "# Create a new figure\n",
    "fig = plt.figure(figsize=[17,5])\n",
    "\n",
    "# Create the first subplot\n",
    "ax1 = fig.add_subplot(1,3,1)\n",
    "owners = [int(row['Owner']) for row in data]\n",
    "prices = [float(row['Selling_Price']) for row in data]\n",
    "ax1.bar(owners, prices)\n",
    "ax1.set_xlabel('Owner')\n",
    "ax1.set_ylabel('Selling Price')\n",
    "\n",
    "# Create the second subplot\n",
    "ax2 = fig.add_subplot(1,3,2)\n",
    "ages = [2021 - int(row['Year']) for row in data]\n",
    "ax2.bar(ages, prices)\n",
    "ax2.set_xlabel('Car Age')\n",
    "ax2.set_ylabel('Selling Price')\n",
    "\n",
    "# Create the third subplot\n",
    "ax3 = fig.add_subplot(1,3,3)\n",
    "kms_driven = [int(row['Kms_Driven']) for row in data]\n",
    "ax3.scatter(kms_driven, prices)\n",
    "ax3.set_xlabel('Kilometers Driven')\n",
    "ax3.set_ylabel('Selling Price')\n",
    "\n",
    "# Show the plots\n",
    "plt.show()"
   ]
  },
  {
   "cell_type": "markdown",
   "id": "9c2763b4",
   "metadata": {},
   "source": [
    "* Selling Price is high with less Owners used Cars \n",
    "\n",
    "* Selling Price of cars 2 years old would be high and gradually decreases with car of 17 years old \n",
    "\n",
    "* Lesser the Kms driven higher the Selling Price "
   ]
  },
  {
   "cell_type": "code",
   "execution_count": 21,
   "id": "12e3591a",
   "metadata": {},
   "outputs": [],
   "source": [
    "import csv\n",
    "\n",
    "filename = 'car data1.csv'\n",
    "data = []\n",
    "\n",
    "with open(filename, 'r') as file:\n",
    "    csvreader = csv.DictReader(file)\n",
    "    for row in csvreader:\n",
    "        data.append(row)"
   ]
  },
  {
   "cell_type": "code",
   "execution_count": 22,
   "id": "ebc29557",
   "metadata": {
    "scrolled": true
   },
   "outputs": [
    {
     "name": "stderr",
     "output_type": "stream",
     "text": [
      "C:\\Users\\91944\\anaconda3\\lib\\site-packages\\seaborn\\_decorators.py:36: FutureWarning: Pass the following variables as keyword args: x, y. From version 0.12, the only valid positional argument will be `data`, and passing other arguments without an explicit keyword will result in an error or misinterpretation.\n",
      "  warnings.warn(\n",
      "C:\\Users\\91944\\anaconda3\\lib\\site-packages\\seaborn\\distributions.py:2619: FutureWarning: `distplot` is a deprecated function and will be removed in a future version. Please adapt your code to use either `displot` (a figure-level function with similar flexibility) or `histplot` (an axes-level function for histograms).\n",
      "  warnings.warn(msg, FutureWarning)\n",
      "C:\\Users\\91944\\anaconda3\\lib\\site-packages\\seaborn\\distributions.py:2619: FutureWarning: `distplot` is a deprecated function and will be removed in a future version. Please adapt your code to use either `displot` (a figure-level function with similar flexibility) or `histplot` (an axes-level function for histograms).\n",
      "  warnings.warn(msg, FutureWarning)\n"
     ]
    },
    {
     "data": {
      "image/png": "[encoded data removed]",
      "text/plain": [
       "<Figure size 1224x360 with 3 Axes>"
      ]
     },
     "metadata": {
      "needs_background": "light"
     },
     "output_type": "display_data"
    }
   ],
   "source": [
    "import matplotlib.pyplot as plt\n",
    "import seaborn as sns\n",
    "import math\n",
    "\n",
    "# Extract Selling_Price and Present_Price data\n",
    "selling_prices = [float(row['Selling_Price']) for row in data]\n",
    "present_prices = [float(row['Present_Price']) for row in data]\n",
    "\n",
    "# Plot regression between Selling_Price and Present_Price\n",
    "plt.figure(figsize=[17,5])\n",
    "plt.subplot(1,3,1)\n",
    "plt.xlabel('Selling_Price')\n",
    "plt.ylabel('Present_Price')\n",
    "sns.regplot(selling_prices, present_prices)\n",
    "\n",
    "# Plot distribution of Selling_Price\n",
    "plt.subplot(1,3,2)\n",
    "selling_prices_log = [math.log(price) for price in selling_prices]\n",
    "plt.xlabel('Selling_Price')\n",
    "sns.distplot(selling_prices_log)\n",
    "plt.title('Distribution of Selling Price')\n",
    "\n",
    "# Plot distribution of Kms_Driven\n",
    "plt.subplot(1,3,3)\n",
    "kms_driven = [float(row['Kms_Driven']) for row in data]\n",
    "kms_driven_log = [math.log(kms) for kms in kms_driven]\n",
    "plt.xlabel('Kms_Driven')\n",
    "sns.distplot(kms_driven_log)\n",
    "plt.title('Distribution of KMS Driven')\n",
    "\n",
    "# Show the plot\n",
    "plt.show()"
   ]
  },
  {
   "cell_type": "markdown",
   "id": "89f33bc9",
   "metadata": {},
   "source": [
    "---> Selling Price tends to increase with increase in the Present Price of cars. *"
   ]
  },
  {
   "cell_type": "markdown",
   "id": "155da120",
   "metadata": {},
   "source": [
    "### Correlation :\n",
    "    In statistics, correlation refers to the degree to which two variables are related to each other. \n",
    "    A positive correlation means that as one variable increases, the other variable also tends to increase. \n",
    "    A negative correlation means that as one variable increases, the other variable tends to decrease."
   ]
  },
  {
   "cell_type": "markdown",
   "id": "6de555c5",
   "metadata": {},
   "source": [
    "1. A correlation value can range from -1 to +1. A correlation of -1 indicates a perfect negative correlation, a correlation of +1 indicates a perfect positive correlation, and a correlation of 0 indicates no correlation at all.\n",
    "\n",
    "2. correlation: it express the strength of relationship between two variable.\n",
    "    \n",
    "3. For categorical feature we cannot able to draw correlation feature for that we select only numerical feature .\n",
    "\n",
    "4. The block which dark in colour are highly correlation but sometimes it leads to the multicolinearility means when two features are highly correlated with target feature.\n",
    "\n",
    "5. But they are highly correlated within themself only ,so it will lead to distroy model performance leads to very low variance\n",
    "\n"
   ]
  },
  {
   "cell_type": "markdown",
   "id": "fb5fefff",
   "metadata": {},
   "source": [
    "### What is heatmap:\n",
    "Heatmap is a graphical representation of 2D (two dimensional) data. Each data value represents in a matrix and it has a special color. The color of the matrix is dependent on value. Normally, low-value show in low-intensity color and high-value show in hight-intensity color format."
   ]
  },
  {
   "cell_type": "raw",
   "id": "be87f901",
   "metadata": {},
   "source": [
    "The main intention of Seaborn heatmap is to visualize the correlation matrix of data for feature selection to solve business problems."
   ]
  },
  {
   "cell_type": "code",
   "execution_count": 23,
   "id": "06f1dfd1",
   "metadata": {},
   "outputs": [
    {
     "data": {
      "image/png": "[encoded data removed]",
      "text/plain": [
       "<Figure size 720x720 with 2 Axes>"
      ]
     },
     "metadata": {
      "needs_background": "light"
     },
     "output_type": "display_data"
    }
   ],
   "source": [
    "import matplotlib.pyplot as plt\n",
    "import seaborn as sns\n",
    "import numpy as np\n",
    "\n",
    "# Assume the 'data' list contains string and float values\n",
    "numeric_data = []\n",
    "mapping = {}\n",
    "counter = 1\n",
    "\n",
    "# Iterate through each row in the data\n",
    "for row in clean_data:\n",
    "    numeric_row = []\n",
    "    for value in row:\n",
    "        # If the value is a string and hasn't been mapped yet, map it to a new numerical value\n",
    "        if isinstance(value, str) and value not in mapping:\n",
    "            mapping[value] = counter\n",
    "            counter += 1\n",
    "        # Convert the value to a numerical value and add it to the list of values for this row\n",
    "        try:\n",
    "            numeric_row.append(float(value))\n",
    "        except ValueError:\n",
    "            numeric_row.append(mapping[value])\n",
    "    numeric_data.append(numeric_row)\n",
    "\n",
    "# Convert the numeric data to a NumPy array\n",
    "numeric_data = np.array(numeric_data)\n",
    "\n",
    "# Compute the correlation matrix\n",
    "corr_matrix = np.corrcoef(numeric_data, rowvar=False)\n",
    "\n",
    "# Create a heatmap of the correlation matrix using seaborn\n",
    "fig, ax = plt.subplots(figsize=(10, 10))\n",
    "sns.heatmap(corr_matrix, ax=ax, cmap='plasma', annot=True, fmt='.2f')\n",
    "\n",
    "# Set the plot title and axis labels\n",
    "ax.set_title('Heatmap of Correlation Matrix')\n",
    "ax.set_xlabel('Variable')\n",
    "ax.set_ylabel('Variable')\n",
    "\n",
    "# Show the plot\n",
    "plt.show()"
   ]
  },
  {
   "cell_type": "markdown",
   "id": "ef1cb786",
   "metadata": {},
   "source": [
    "### Histogram: \n",
    "it provide visual representation of data distribution ,it can display large set of data"
   ]
  },
  {
   "cell_type": "raw",
   "id": "5fda5626",
   "metadata": {},
   "source": [
    "1. A histogram is representation of the distribution of numerical data, where the data are binned and the count for each bin is represented.\n",
    "\n",
    "2. It is used for frequency analysis of data .\n",
    "\n",
    "3. Also, the data to be binned can be numerical data but also categorical or date data"
   ]
  },
  {
   "cell_type": "code",
   "execution_count": 24,
   "id": "127ce3ee",
   "metadata": {},
   "outputs": [
    {
     "data": {
      "image/png": "[encoded data removed]",
      "text/plain": [
       "<Figure size 432x288 with 1 Axes>"
      ]
     },
     "metadata": {
      "needs_background": "light"
     },
     "output_type": "display_data"
    }
   ],
   "source": [
    "import matplotlib.pyplot as plt\n",
    "\n",
    "# Load data from file\n",
    "with open('car data1.csv', 'r') as f:\n",
    "    reader = csv.reader(f)\n",
    "    next(reader)  # Skip the header row\n",
    "    column_data = [float(row[4]) for row in reader]  # Assumes data is in the 11 column\n",
    "\n",
    "# Plot the histogram of the column data\n",
    "plt.hist(column_data, bins=5)\n",
    "plt.xlabel('Kms_Driven')\n",
    "plt.ylabel('Selling_prize')\n",
    "plt.title('Distribution of Column Data')\n",
    "plt.show()"
   ]
  },
  {
   "cell_type": "markdown",
   "id": "c1f700fe",
   "metadata": {},
   "source": [
    "### count plot :\n",
    "  A count plot  show the number of occurrences of each category in a categorical variable. It is similar to a histogram in that it shows the frequency of a variable, but instead of showing the distribution of a continuous variable, it shows the count of each category in a discrete variable."
   ]
  },
  {
   "cell_type": "markdown",
   "id": "30305c01",
   "metadata": {},
   "source": [
    "In a count plot, the x-axis typically represents the categories, and the y-axis represents the count or frequency of each category"
   ]
  },
  {
   "cell_type": "code",
   "execution_count": 25,
   "id": "b7cbaad3",
   "metadata": {},
   "outputs": [
    {
     "data": {
      "image/png": "[encoded data removed]",
      "text/plain": [
       "<Figure size 720x720 with 1 Axes>"
      ]
     },
     "metadata": {
      "needs_background": "light"
     },
     "output_type": "display_data"
    }
   ],
   "source": [
    "import csv\n",
    "import matplotlib.pyplot as plt\n",
    "\n",
    "# Load the data from the CSV file\n",
    "with open('car data1.csv', 'r') as f:\n",
    "    reader = csv.reader(f)\n",
    "    data = list(reader)\n",
    "\n",
    "# Extract the Car_age and Selling_price columns\n",
    "car_ages = [int(row[2]) for row in data[1:]]\n",
    "selling_prices = [float(row[3]) for row in data[1:]]\n",
    "\n",
    "# Create a dictionary to store the count of selling prices for each car age\n",
    "counts = {}\n",
    "for age in set(car_ages):\n",
    "    counts[age] = [0, 0]\n",
    "for age, price in zip(car_ages, selling_prices):\n",
    "    if price == 0:\n",
    "        counts[age][0] += 1\n",
    "    else:\n",
    "        counts[age][1] += 1\n",
    "\n",
    "# Create a bar chart to display the counts\n",
    "fig, ax = plt.subplots(figsize=(10, 10))\n",
    "x = list(counts.keys())\n",
    "zero_counts = [counts[age][0] for age in x]\n",
    "one_counts = [counts[age][1] for age in x]\n",
    "ax.bar(x, zero_counts, width=0.4, label='0')\n",
    "ax.bar([a + 0.4 for a in x], one_counts, width=0.4, label='1')\n",
    "ax.set_xlabel('Car Age')\n",
    "ax.set_ylabel('Count')\n",
    "ax.set_title('Count of Selling Price by Car Age')\n",
    "ax.legend()\n",
    "plt.show()"
   ]
  },
  {
   "cell_type": "markdown",
   "id": "0eee6a3b",
   "metadata": {},
   "source": [
    "### Scatter plot matrix :\n",
    "A plot matrix, also known as a scatterplot matrix or a pairs plot, is a type of plot that displays pairwise relationships between multiple variables in a dataset. \n",
    "\n",
    "It is useful for identifying potential relationships and correlations between variables in a dataset and can help in exploratory data analysis."
   ]
  },
  {
   "cell_type": "code",
   "execution_count": 26,
   "id": "cc11f514",
   "metadata": {},
   "outputs": [
    {
     "data": {
      "image/png": "[encoded data removed]",
      "text/plain": [
       "<Figure size 1440x1440 with 49 Axes>"
      ]
     },
     "metadata": {
      "needs_background": "light"
     },
     "output_type": "display_data"
    }
   ],
   "source": [
    "import csv\n",
    "import matplotlib.pyplot as plt\n",
    "\n",
    "# Open the CSV file\n",
    "with open('output.csv', 'r') as f:\n",
    "    reader = csv.reader(f)\n",
    "    data = list(reader)\n",
    "\n",
    "# Extract the desired columns\n",
    "header = data[0]\n",
    "selling_price_idx = header.index('Selling_Price')\n",
    "present_price_idx = header.index('Present_Price')\n",
    "kms_driven_idx = header.index('Kms_Driven')\n",
    "fuel_type_idx = header.index('Fuel_Type')\n",
    "seller_type_idx = header.index('Seller_type')\n",
    "transmission_idx = header.index('Transmission')\n",
    "owner_idx = header.index('Owner')\n",
    "final_data = []\n",
    "for row in data[1:]:\n",
    "    final_data.append([float(row[selling_price_idx]), float(row[present_price_idx]), int(row[kms_driven_idx]), row[fuel_type_idx], row[seller_type_idx], row[transmission_idx], int(row[owner_idx])])\n",
    "\n",
    "# Create a scatter plot matrix\n",
    "scatter_matrix = plt.figure(figsize=(20,20))\n",
    "axes = scatter_matrix.subplots(nrows=7, ncols=7, sharex=False, sharey=False)\n",
    "for i in range(7):\n",
    "    for j in range(7):\n",
    "        if i == j:\n",
    "            axes[i,j].hist([row[i] for row in final_data], bins=10)\n",
    "        else:\n",
    "            for k in range(len(header)):\n",
    "                if k != i and k != j:\n",
    "                    continue\n",
    "                if k == i:\n",
    "                    x = [row[k] for row in final_data]\n",
    "                else:\n",
    "                    y = [row[k] for row in final_data]\n",
    "            axes[i,j].scatter(x, y, alpha=0.5)\n",
    "        if i == 6:\n",
    "            axes[i,j].set_xlabel(header[j])\n",
    "        if j == 0:\n",
    "            axes[i,j].set_ylabel(header[i])\n",
    "plt.tight_layout()\n",
    "plt.show()"
   ]
  },
  {
   "cell_type": "markdown",
   "id": "ef428548",
   "metadata": {},
   "source": [
    "### Scatter plot:\n",
    "* scatter plot is a type of graphical representation of data that shows the relationship between two variables. It consists of a set of data points, each representing the values of two variables, plotted on a two-dimensional coordinate system.\n",
    "\n",
    "* The two variables in a scatter plot are called the independent variable (often plotted on the x-axis) and the dependent variable (often plotted on the y-axis"
   ]
  },
  {
   "cell_type": "code",
   "execution_count": 27,
   "id": "4d1029f4",
   "metadata": {},
   "outputs": [
    {
     "data": {
      "image/png": "[encoded data removed]",
      "text/plain": [
       "<Figure size 432x288 with 1 Axes>"
      ]
     },
     "metadata": {
      "needs_background": "light"
     },
     "output_type": "display_data"
    },
    {
     "data": {
      "text/plain": [
       "\"\\nWe see that the lesser is the kms_driven, the higher tends to be the price. \\nPrice and kms_driven seem to be in an exponential relationship with negative\\nexponent. It's a typical form of exponential decay.\\n\\n\""
      ]
     },
     "execution_count": 27,
     "metadata": {},
     "output_type": "execute_result"
    }
   ],
   "source": [
    "import csv\n",
    "import matplotlib.pyplot as plt\n",
    "\n",
    "# Define the file name and attributes\n",
    "file_name = 'output.csv'\n",
    "price_attrib = 'Selling_Price'\n",
    "kms_attrib = 'Kms_Driven'\n",
    "\n",
    "# Open the CSV file\n",
    "with open(file_name, 'r') as f:\n",
    "    # Read the CSV data\n",
    "    csv_reader = csv.DictReader(f)\n",
    "\n",
    "    # Create empty lists for price and kms data\n",
    "    Selling_price = []\n",
    "    kms_driven = []\n",
    "\n",
    "    # Loop through each row of data\n",
    "    for row in csv_reader:\n",
    "        # Add the price and kms data to their respective lists\n",
    "        Selling_price.append(float(row[price_attrib]))\n",
    "        kms_driven.append(float(row[kms_attrib]))\n",
    "\n",
    "    # Create a scatter plot of price against kms driven\n",
    "    plt.scatter(kms_driven, Selling_price)\n",
    "    plt.xlabel(kms_attrib)\n",
    "    plt.ylabel(price_attrib)\n",
    "    plt.ylim(0, 10)\n",
    "\n",
    "    # Show the plot\n",
    "    plt.show()\n",
    "    \n",
    "\"\"\"\n",
    "We see that the lesser is the kms_driven, the higher tends to be the price. \n",
    "Price and kms_driven seem to be in an exponential relationship with negative\n",
    "exponent. It's a typical form of exponential decay.\n",
    "\n",
    "\"\"\"\n",
    "     "
   ]
  },
  {
   "cell_type": "code",
   "execution_count": 28,
   "id": "daf68310",
   "metadata": {},
   "outputs": [
    {
     "data": {
      "image/png": "[encoded data removed]",
      "text/plain": [
       "<Figure size 432x288 with 1 Axes>"
      ]
     },
     "metadata": {
      "needs_background": "light"
     },
     "output_type": "display_data"
    }
   ],
   "source": [
    "import csv\n",
    "\n",
    "# Define the file name and attributes\n",
    "file_name = 'output.csv'\n",
    "price_attrib = 'Selling_Price'\n",
    "year_attrib = 'Year'\n",
    "\n",
    "# Open the CSV file\n",
    "with open(file_name, 'r') as f:\n",
    "    # Read the CSV data\n",
    "    csv_reader = csv.DictReader(f)\n",
    "\n",
    "    # Create empty lists for price and year data\n",
    "    prices = []\n",
    "    years = []\n",
    "\n",
    "    # Loop through each row of data\n",
    "    for row in csv_reader:\n",
    "        # Add the price and year data to their respective lists\n",
    "        prices.append(float(row[price_attrib]))\n",
    "        years.append(int(row[year_attrib]))\n",
    "\n",
    "    # Create a scatter plot of price against year\n",
    "    plt.scatter(years, prices)\n",
    "    plt.xlabel(year_attrib)\n",
    "    plt.ylabel(price_attrib)\n",
    "    plt.ylim(0, 10)\n",
    "\n",
    "    # Show the plot\n",
    "    plt.show()"
   ]
  },
  {
   "cell_type": "markdown",
   "id": "3c95c3d2",
   "metadata": {},
   "source": [
    "# ...................................... Model Development................................................."
   ]
  },
  {
   "cell_type": "markdown",
   "id": "a2373341",
   "metadata": {},
   "source": [
    "## Splitting The Dataset Into The Training Set And Test Set"
   ]
  },
  {
   "cell_type": "code",
   "execution_count": 56,
   "id": "8e4bb8bf",
   "metadata": {},
   "outputs": [],
   "source": [
    "import pandas as pd\n",
    "import numpy as np\n",
    "\n",
    "# Load the dataset\n",
    "df = pd.read_csv('cleaned_data.csv')"
   ]
  },
  {
   "cell_type": "code",
   "execution_count": 57,
   "id": "68cf37d8",
   "metadata": {},
   "outputs": [],
   "source": [
    "import math\n",
    "df = df.sample(frac = 1)\n",
    "X = df.drop('Selling_Price', axis=1).values\n",
    "y = df['Selling_Price'].values\n",
    "s_f = 0.8\n",
    "n_train = math.floor(s_f * X.shape[0])\n",
    "n_test = math.ceil((1-s_f) * X.shape[0])\n",
    "X_train = X[:n_train]\n",
    "y_train = y[:n_train]\n",
    "X_test = X[n_train:]\n",
    "y_test = y[n_train:]\n"
   ]
  },
  {
   "cell_type": "code",
   "execution_count": 58,
   "id": "fa52a7c6",
   "metadata": {},
   "outputs": [
    {
     "name": "stdout",
     "output_type": "stream",
     "text": [
      "Training set shape: (220, 7) (220,)\n",
      "Test set shape: (56, 7) (56,)\n"
     ]
    }
   ],
   "source": [
    "# Print the shape of the training and test sets\n",
    "print(\"Training set shape:\", X_train.shape, y_train.shape)\n",
    "print(\"Test set shape:\", X_test.shape, y_test.shape)"
   ]
  },
  {
   "cell_type": "code",
   "execution_count": 59,
   "id": "a93b0aab",
   "metadata": {},
   "outputs": [
    {
     "data": {
      "text/plain": [
       "(220, 7)"
      ]
     },
     "execution_count": 59,
     "metadata": {},
     "output_type": "execute_result"
    }
   ],
   "source": [
    "# Checking the number of rows and columns of input training dataset\n",
    "X_train.shape "
   ]
  },
  {
   "cell_type": "code",
   "execution_count": 60,
   "id": "b5fa1079",
   "metadata": {},
   "outputs": [
    {
     "data": {
      "text/plain": [
       "(56, 7)"
      ]
     },
     "execution_count": 60,
     "metadata": {},
     "output_type": "execute_result"
    }
   ],
   "source": [
    "# Checking the number of rows and columns of input testing dataset\n",
    "X_test.shape"
   ]
  },
  {
   "cell_type": "markdown",
   "id": "cf7c73e6",
   "metadata": {},
   "source": [
    "# Model Performance"
   ]
  },
  {
   "cell_type": "markdown",
   "id": "8e2784fb",
   "metadata": {},
   "source": [
    "## Define DecisionTreeRegressor class"
   ]
  },
  {
   "cell_type": "markdown",
   "id": "526c7be6",
   "metadata": {},
   "source": [
    "The DecisionTreeRegressor class is defined with three hyperparameters: max_depth, min_samples_split, and min_samples_leaf.\n",
    "\n",
    "1. max_depth is the maximum depth of the decision tree. If it is set to None, the tree will be grown until all the leaves are pure, i.e., contain only one target variable value.\n",
    "\n",
    "2. min_samples_split is the minimum number of samples required to split an internal node. If the number of samples at a node is less than this value, the node will not be split further.\n",
    "\n",
    "3. min_samples_leaf is the minimum number of samples required to be at a leaf node.\n",
    "\n",
    "4. The tree attribute is initialized as None. This will hold the decision tree once it is built.\n",
    "\n",
    "5. self is a  represents the instance of class"
   ]
  },
  {
   "cell_type": "code",
   "execution_count": 61,
   "id": "1bf985a2",
   "metadata": {},
   "outputs": [],
   "source": [
    "class DecisionTreeRegressor:\n",
    "    def __init__(self, max_depth=None, min_samples_split=2, min_samples_leaf=1):\n",
    "        self.max_depth = max_depth\n",
    "        self.min_samples_split = min_samples_split\n",
    "        self.min_samples_leaf = min_samples_leaf\n",
    "        self.tree = None\n",
    "        \n",
    "    def fit(self, X, y):\n",
    "        self.tree = self._build_tree(X, y, depth=0)\n",
    "        \n",
    "    def _build_tree(self, X, y, depth):\n",
    "        if depth == self.max_depth or len(X) < self.min_samples_split or len(set(y)) == 1:\n",
    "            return {'leaf': True, 'value': np.mean(y)}\n",
    "        \n",
    "        feature, threshold = self._find_best_split(X, y)\n",
    "        \n",
    "        if feature is None:\n",
    "            return {'leaf': True, 'value': np.mean(y)}\n",
    "        \n",
    "        left_indices = X[:, feature] < threshold\n",
    "        right_indices = X[:, feature] >= threshold\n",
    "        \n",
    "        left_tree = self._build_tree(X[left_indices], y[left_indices], depth + 1)\n",
    "        right_tree = self._build_tree(X[right_indices], y[right_indices], depth + 1)\n",
    "        \n",
    "        return {'leaf': False, 'feature': feature, 'threshold': threshold, 'left': left_tree, 'right': right_tree}\n",
    "    \n",
    "    def _find_best_split(self, X, y):\n",
    "        best_feature = None\n",
    "        best_threshold = None\n",
    "        best_loss = np.inf\n",
    "        \n",
    "        for feature in range(X.shape[1]):\n",
    "            values = X[:, feature]\n",
    "            thresholds = np.unique(values)\n",
    "            \n",
    "            if len(thresholds) > 10:\n",
    "                thresholds = np.percentile(thresholds, [10, 20, 30, 40, 50, 60, 70, 80, 90])\n",
    "            \n",
    "            for threshold in thresholds:\n",
    "                left_indices = X[:, feature] < threshold\n",
    "                right_indices = X[:, feature] >= threshold\n",
    "                \n",
    "                if len(left_indices) < self.min_samples_leaf or len(right_indices) < self.min_samples_leaf:\n",
    "                    continue\n",
    "                \n",
    "                left_y = y[left_indices]\n",
    "                right_y = y[right_indices]\n",
    "                left_weight = len(left_y) / len(y)\n",
    "                right_weight = len(right_y) / len(y)\n",
    "                \n",
    "                loss = left_weight * self.mean_squared_error(left_y) + right_weight * self.mean_squared_error(right_y)\n",
    "                \n",
    "                if loss < best_loss:\n",
    "                    best_feature = feature\n",
    "                    best_threshold = threshold\n",
    "                    best_loss = loss\n",
    "        \n",
    "        return best_feature, best_threshold\n",
    "    \n",
    "    def predict(self, X):\n",
    "        predictions = []\n",
    "        for sample in X:\n",
    "            node = self.tree\n",
    "            while not node['leaf']:\n",
    "                if sample[node['feature']] < node['threshold']:\n",
    "                    node = node['left']\n",
    "                else:\n",
    "                    node = node['right']\n",
    "            predictions.append(node['value'])\n",
    "        return np.array(predictions)\n",
    "    \n",
    "    def mean_squared_error(self, y):\n",
    "        return np.mean((y - np.mean(y)) ** 2)"
   ]
  },
  {
   "cell_type": "markdown",
   "id": "c978deb1",
   "metadata": {},
   "source": [
    "## Define RandomForest Regression class"
   ]
  },
  {
   "cell_type": "markdown",
   "id": "5376d495",
   "metadata": {},
   "source": [
    " The RandomForest Regressor class is defined with three hyperparameters :\n",
    "\n",
    "    1. n_estimators: the number of decision trees in the forest (default value is 100)\n",
    "    2. max_depth: the maximum depth of each decision tree \n",
    "    3. min_samples_split: the minimum number of samples required to split an internal node (default value is 2)\n",
    "    4. min_samples_leaf: the minimum number of samples required to be at a leaf node (default value is 1)\n",
    "\n",
    "The constructor initializes instance variables with the same names as the hyperparameters, and also initializes an empty list called trees --> This list will be used to store the individual decision trees in the random forest.\n"
   ]
  },
  {
   "cell_type": "code",
   "execution_count": 62,
   "id": "c63e2ab1",
   "metadata": {},
   "outputs": [],
   "source": [
    "class RandomForestRegressor:\n",
    "    def __init__(self, n_estimators=100, max_depth=None, min_samples_split=2, min_samples_leaf=1):\n",
    "        self.n_estimators = n_estimators\n",
    "        self.max_depth = max_depth\n",
    "        self.min_samples_split = min_samples_split\n",
    "        self.min_samples_leaf = min_samples_leaf\n",
    "        self.trees = []\n",
    "        \n",
    "    def fit(self, X, y):\n",
    "        for i in range(self.n_estimators):\n",
    "            bootstrap_indices = np.random.choice(len(X), len(X), replace=True)\n",
    "            bootstrap_X = X[bootstrap_indices]\n",
    "            bootstrap_y = y[bootstrap_indices]\n",
    "            \n",
    "            tree = DecisionTreeRegressor(max_depth=self.max_depth, min_samples_split=self.min_samples_split, min_samples_leaf=self.min_samples_leaf)\n",
    "            tree.fit(bootstrap_X, bootstrap_y)\n",
    "            self.trees.append(tree)\n",
    "            \n",
    "    def predict(self, X):\n",
    "        predictions = []\n",
    "        for sample in X:\n",
    "            tree_predictions = []\n",
    "            for tree in self.trees:\n",
    "                tree_predictions.append(tree.predict([sample])[0])\n",
    "            predictions.append(np.mean(tree_predictions))\n",
    "        return np.array(predictions)\n"
   ]
  },
  {
   "cell_type": "code",
   "execution_count": 63,
   "id": "89ccc7fb",
   "metadata": {},
   "outputs": [],
   "source": [
    "class RandomForestRegressor:\n",
    "    def __init__(self,n_estimators=100, n_trees=100, max_depth=None, min_samples_split=2, min_samples_leaf=1, \n",
    "                 max_features=None, bootstrap=True, random_state=None):\n",
    "        self.n_estimators = n_estimators\n",
    "        self.n_trees = n_trees # number of trees in forest\n",
    "        self.max_depth = max_depth # maximum depth of each tree\n",
    "        self.min_samples_split = min_samples_split # minimum number of samples required to split a node\n",
    "        self.min_samples_leaf = min_samples_leaf # minimum number of samples required in a leaf node\n",
    "        self.max_features = max_features # maximum number of features to consider when looking for the best split\n",
    "        self.bootstrap = bootstrap # whether to use bootstrap sampling to generate training sets for each tree\n",
    "        self.random_state = random_state # random seed for reproducibility\n",
    "        self.trees = [] # list of decision trees in the forest\n",
    "        \n",
    "    def fit(self, X, y):\n",
    "        np.random.seed(self.random_state)\n",
    "        \n",
    "        for i in range(self.n_trees):\n",
    "            # create bootstrap sample of training data\n",
    "            if self.bootstrap:\n",
    "                sample_idx = np.random.choice(len(X), len(X), replace=True)\n",
    "            else:\n",
    "                sample_idx = np.arange(len(X))\n",
    "                \n",
    "            # create decision tree and fit to bootstrap sample\n",
    "            tree = DecisionTreeRegressor(max_depth=self.max_depth, min_samples_split=self.min_samples_split, \n",
    "                                          min_samples_leaf=self.min_samples_leaf)\n",
    "            if self.max_features is None:\n",
    "                tree_X = X[sample_idx]\n",
    "            else:\n",
    "                feature_idx = np.random.choice(X.shape[1], self.max_features, replace=False)\n",
    "                tree_X = X[sample_idx, feature_idx]\n",
    "            tree_y = y[sample_idx]\n",
    "            tree.fit(tree_X, tree_y)\n",
    "            \n",
    "            self.trees.append(tree)\n",
    "        \n",
    "    def predict(self, X):\n",
    "        return np.mean([tree.predict(X) for tree in self.trees], axis=0)\n",
    "    \n",
    "    def score(self, X, y):\n",
    "        y_pred = self.predict(X)\n",
    "        mse = np.mean((y - y_pred) ** 2)\n",
    "        return 1 - mse / np.var(y)"
   ]
  },
  {
   "cell_type": "code",
   "execution_count": 64,
   "id": "6edefe87",
   "metadata": {},
   "outputs": [],
   "source": [
    "# Define hyperparameters\n",
    "n_estimators = 100\n",
    "max_depth = 10\n",
    "min_samples_split = 5\n",
    "min_samples_leaf = 2\n",
    "\n",
    "# Create random forest regressor\n",
    "rf = RandomForestRegressor(n_estimators=n_estimators, max_depth=max_depth, min_samples_split=min_samples_split, min_samples_leaf=min_samples_leaf)\n",
    "\n",
    "# Fit the model on the training data\n",
    "rf.fit(X_train, y_train)\n"
   ]
  },
  {
   "cell_type": "code",
   "execution_count": 65,
   "id": "8d56a927",
   "metadata": {},
   "outputs": [],
   "source": [
    "# Make predictions on the test data\n",
    "y_pred = rf.predict(X_test)\n"
   ]
  },
  {
   "cell_type": "code",
   "execution_count": 66,
   "id": "7c746686",
   "metadata": {},
   "outputs": [
    {
     "data": {
      "text/plain": [
       "array([ 4.74871667,  4.86673333,  4.01137143,  4.89064583,  0.3829    ,\n",
       "        7.95166667,  9.7164    ,  4.9707631 ,  0.49574786,  7.2648256 ,\n",
       "        0.55764167,  0.51072952,  7.75038333,  0.81411667,  5.920525  ,\n",
       "        9.22655833,  5.68904167,  2.996375  ,  5.17404167,  6.18957738,\n",
       "        1.03555   ,  4.42110417,  4.21921111,  0.47922119,  2.88761667,\n",
       "        3.23571667,  4.16001508,  6.06496667,  9.344725  ,  4.796925  ,\n",
       "        4.0687    ,  1.12890103,  0.41225833,  4.895925  ,  5.54584524,\n",
       "        0.20353167,  1.39091667,  5.0257131 ,  2.758775  ,  0.32117857,\n",
       "        0.49251619,  4.74276667,  3.38490278,  5.75460952,  4.18448175,\n",
       "        2.79683333,  1.27398548,  2.96324167,  3.175075  ,  5.13040833,\n",
       "        8.07216667,  0.41943167,  0.555325  ,  1.16659056, 10.78550833,\n",
       "        6.8695    ])"
      ]
     },
     "execution_count": 66,
     "metadata": {},
     "output_type": "execute_result"
    }
   ],
   "source": [
    "y_pred"
   ]
  },
  {
   "cell_type": "markdown",
   "id": "acc8fe58",
   "metadata": {},
   "source": [
    "## Model Evaluation For Train Data"
   ]
  },
  {
   "cell_type": "code",
   "execution_count": 67,
   "id": "13450a53",
   "metadata": {},
   "outputs": [
    {
     "name": "stdout",
     "output_type": "stream",
     "text": [
      "R2 score for perfect model is 0.9383490352131818\n"
     ]
    }
   ],
   "source": [
    "# Calculate the mean of y_test\n",
    "y_mean = np.mean(y_test)\n",
    "\n",
    "# Calculate the sum of squared residuals and total sum of squares\n",
    "SS_res = sum((y_test - y_pred) ** 2)\n",
    "SS_tot = sum((y_test - y_mean) ** 2)\n",
    "\n",
    "# Calculate the R2 score\n",
    "r2 = 1 - (SS_res / SS_tot)\n",
    "\n",
    "print('R2 score for perfect model is', r2)\n"
   ]
  },
  {
   "cell_type": "code",
   "execution_count": 68,
   "id": "87b3dbc4",
   "metadata": {},
   "outputs": [
    {
     "data": {
      "text/html": [
       "<div>\n",
       "<style scoped>\n",
       "    .dataframe tbody tr th:only-of-type {\n",
       "        vertical-align: middle;\n",
       "    }\n",
       "\n",
       "    .dataframe tbody tr th {\n",
       "        vertical-align: top;\n",
       "    }\n",
       "\n",
       "    .dataframe thead th {\n",
       "        text-align: right;\n",
       "    }\n",
       "</style>\n",
       "<table border=\"1\" class=\"dataframe\">\n",
       "  <thead>\n",
       "    <tr style=\"text-align: right;\">\n",
       "      <th></th>\n",
       "      <th>Actual</th>\n",
       "      <th>Predicted</th>\n",
       "    </tr>\n",
       "  </thead>\n",
       "  <tbody>\n",
       "    <tr>\n",
       "      <th>0</th>\n",
       "      <td>4.35</td>\n",
       "      <td>4.748717</td>\n",
       "    </tr>\n",
       "    <tr>\n",
       "      <th>1</th>\n",
       "      <td>6.00</td>\n",
       "      <td>4.866733</td>\n",
       "    </tr>\n",
       "    <tr>\n",
       "      <th>2</th>\n",
       "      <td>3.45</td>\n",
       "      <td>4.011371</td>\n",
       "    </tr>\n",
       "    <tr>\n",
       "      <th>3</th>\n",
       "      <td>5.40</td>\n",
       "      <td>4.890646</td>\n",
       "    </tr>\n",
       "    <tr>\n",
       "      <th>4</th>\n",
       "      <td>0.20</td>\n",
       "      <td>0.382900</td>\n",
       "    </tr>\n",
       "  </tbody>\n",
       "</table>\n",
       "</div>"
      ],
      "text/plain": [
       "   Actual  Predicted\n",
       "0    4.35   4.748717\n",
       "1    6.00   4.866733\n",
       "2    3.45   4.011371\n",
       "3    5.40   4.890646\n",
       "4    0.20   0.382900"
      ]
     },
     "execution_count": 68,
     "metadata": {},
     "output_type": "execute_result"
    }
   ],
   "source": [
    "data=pd.DataFrame({'Actual':y_test, 'Predicted':y_pred})\n",
    "data.head(5)"
   ]
  },
  {
   "cell_type": "code",
   "execution_count": 69,
   "id": "4c0fb5cd",
   "metadata": {},
   "outputs": [],
   "source": [
    "import matplotlib.pyplot as plt"
   ]
  },
  {
   "cell_type": "code",
   "execution_count": 70,
   "id": "d48475f6",
   "metadata": {},
   "outputs": [
    {
     "data": {
      "image/png": "[encoded data removed]",
      "text/plain": [
       "<Figure size 432x288 with 1 Axes>"
      ]
     },
     "metadata": {
      "needs_background": "light"
     },
     "output_type": "display_data"
    }
   ],
   "source": [
    "plt.scatter(y_test, y_pred)\n",
    "plt.xlabel(\"Actual Price\")\n",
    "plt.ylabel(\"Predicted Price\")\n",
    "plt.title(\" Actual Prices vs Predicted Prices\")\n",
    "plt.show()"
   ]
  },
  {
   "cell_type": "code",
   "execution_count": 71,
   "id": "c8ad4a91",
   "metadata": {},
   "outputs": [
    {
     "name": "stdout",
     "output_type": "stream",
     "text": [
      "Mean squared error: 0.46664259869315955\n",
      "Mean absolute error: 0.47285736607142914\n"
     ]
    }
   ],
   "source": [
    "def mean_squared_error(y_true, y_pred):\n",
    "    mse = ((y_pred - y_true) ** 2).mean()\n",
    "    return mse\n",
    "\n",
    "def mean_absolute_error(y_true, y_pred):\n",
    "    mae = np.abs(y_pred - y_true).mean()\n",
    "    return mae\n",
    "\n",
    "# Compute the mean squared error, mean absolute error, and R-squared score of the predictions\n",
    "mse = mean_squared_error(y_test, y_pred)\n",
    "mae = mean_absolute_error(y_test, y_pred)\n",
    "\n",
    "# Print the accuracy metrics\n",
    "print(\"Mean squared error:\", mse)\n",
    "print(\"Mean absolute error:\", mae)"
   ]
  },
  {
   "cell_type": "code",
   "execution_count": 72,
   "id": "b35017c3",
   "metadata": {},
   "outputs": [
    {
     "name": "stderr",
     "output_type": "stream",
     "text": [
      "C:\\Users\\91944\\anaconda3\\lib\\site-packages\\numpy\\core\\fromnumeric.py:3419: RuntimeWarning: Mean of empty slice.\n",
      "  return _methods._mean(a, axis=axis, dtype=dtype,\n",
      "C:\\Users\\91944\\anaconda3\\lib\\site-packages\\numpy\\core\\_methods.py:188: RuntimeWarning: invalid value encountered in double_scalars\n",
      "  ret = ret.dtype.type(ret / rcount)\n"
     ]
    }
   ],
   "source": [
    "# Define hyperparameters\n",
    "n_estimators = 200\n",
    "max_depth = 50\n",
    "min_samples_split = 5\n",
    "min_samples_leaf = 2\n",
    "\n",
    "# Create random forest regressor\n",
    "rf = RandomForestRegressor(n_estimators=n_estimators, max_depth=max_depth, min_samples_split=min_samples_split, min_samples_leaf=min_samples_leaf)\n",
    "\n",
    "# Fit the model on the training data\n",
    "rf.fit(X_train, y_train)"
   ]
  },
  {
   "cell_type": "code",
   "execution_count": 73,
   "id": "6463ba3e",
   "metadata": {},
   "outputs": [],
   "source": [
    "# Make predictions on the test data\n",
    "y_pred = rf.predict(X_test)\n"
   ]
  },
  {
   "cell_type": "code",
   "execution_count": 74,
   "id": "560bc2ed",
   "metadata": {},
   "outputs": [
    {
     "name": "stdout",
     "output_type": "stream",
     "text": [
      "R2 score for perfect model is 0.9368067162428302\n"
     ]
    }
   ],
   "source": [
    "# Calculate the mean of y_test\n",
    "y_mean = np.mean(y_test)\n",
    "\n",
    "# Calculate the sum of squared residuals and total sum of squares\n",
    "SS_res = sum((y_test - y_pred) ** 2)\n",
    "SS_mean = sum((y_test - y_mean) ** 2)\n",
    "\n",
    "# Calculate the R2 score\n",
    "r2 = 1 - (SS_res / SS_mean)\n",
    "\n",
    "print('R2 score for perfect model is', r2)\n"
   ]
  },
  {
   "cell_type": "markdown",
   "id": "20e7a427",
   "metadata": {},
   "source": [
    "## Model evaluation on test data"
   ]
  },
  {
   "cell_type": "code",
   "execution_count": 75,
   "id": "b9f100b7",
   "metadata": {},
   "outputs": [],
   "source": [
    "# Define hyperparameters\n",
    "n_estimators = 100\n",
    "max_depth = 10\n",
    "min_samples_split = 5\n",
    "min_samples_leaf = 2\n",
    "\n",
    "# Create random forest regressor\n",
    "rf1 = RandomForestRegressor(n_estimators=n_estimators, max_depth=max_depth, min_samples_split=min_samples_split, min_samples_leaf=min_samples_leaf)\n",
    "\n",
    "# Fit the model on the training data\n",
    "rf1.fit(X_train, y_train)\n"
   ]
  },
  {
   "cell_type": "code",
   "execution_count": 76,
   "id": "eeb161d9",
   "metadata": {},
   "outputs": [],
   "source": [
    "rf1.fit(X_test, y_test)"
   ]
  },
  {
   "cell_type": "code",
   "execution_count": 77,
   "id": "cb3d43a8",
   "metadata": {},
   "outputs": [],
   "source": [
    "y_pred = rf1.predict(X_test)"
   ]
  },
  {
   "cell_type": "code",
   "execution_count": 78,
   "id": "ca2d0a6e",
   "metadata": {},
   "outputs": [
    {
     "name": "stdout",
     "output_type": "stream",
     "text": [
      "R2 score for perfect model is 0.9724174226725919\n"
     ]
    }
   ],
   "source": [
    "# Calculate the mean of y_test\n",
    "y_mean = np.mean(y_test)\n",
    "\n",
    "# Calculate the sum of squared residuals and total sum of squares\n",
    "SS_res = sum((y_test - y_pred) ** 2)\n",
    "SS_tot = sum((y_test - y_mean) ** 2)\n",
    "\n",
    "# Calculate the R2 score\n",
    "r2 = 1 - (SS_res / SS_tot)\n",
    "\n",
    "print('R2 score for perfect model is', r2)"
   ]
  },
  {
   "cell_type": "markdown",
   "id": "a262b71a",
   "metadata": {},
   "source": [
    "# Hyperparameter Tuning"
   ]
  },
  {
   "cell_type": "markdown",
   "id": "8b867897",
   "metadata": {},
   "source": [
    "## Build the RandomForest Model with hyperparameter"
   ]
  },
  {
   "cell_type": "code",
   "execution_count": 79,
   "id": "3fd9e40e",
   "metadata": {},
   "outputs": [],
   "source": [
    "import numpy as np\n",
    "import itertools \n",
    "\n",
    "class GridSearchCV:\n",
    "    def __init__(self, estimator, param_grid, cv=5):\n",
    "        self.estimator = estimator\n",
    "        self.param_grid = param_grid\n",
    "        self.cv = cv\n",
    "    \n",
    "    def fit(self, X, y):\n",
    "        # Get all combinations of hyperparameters\n",
    "        param_combinations = self._get_param_combinations(self.param_grid)\n",
    "        \n",
    "        # Initialize variables to store results\n",
    "        best_params = None\n",
    "        best_score = -np.inf\n",
    "        \n",
    "        # Perform cross-validation\n",
    "        for params in param_combinations:\n",
    "            scores = []\n",
    "            for i in range(self.cv):\n",
    "                # Split data into training and validation sets\n",
    "                mask = np.ones(len(X), dtype=bool)\n",
    "                mask[i::self.cv] = False\n",
    "                X_train, y_train = X[mask], y[mask]\n",
    "                X_val, y_val = X[~mask], y[~mask]\n",
    "                \n",
    "                # Train model and compute score\n",
    "                model = self.estimator(**params)\n",
    "                model.fit(X_train, y_train)\n",
    "                score = model.score(X_val, y_val)\n",
    "                scores.append(score)\n",
    "            \n",
    "            # Compute average score for these hyperparameters\n",
    "            mean_score = np.mean(scores)\n",
    "            \n",
    "            # Update best hyperparameters if necessary\n",
    "            if mean_score > best_score:\n",
    "                best_params = params\n",
    "                best_score = mean_score\n",
    "        \n",
    "        # Train model with best hyperparameters on full dataset\n",
    "        self.best_estimator_ = self.estimator(**best_params)\n",
    "        self.best_estimator_.fit(X, y)\n",
    "        \n",
    "        return self\n",
    "    \n",
    "    def predict(self, X):\n",
    "        return self.best_estimator_.predict(X)\n",
    "    \n",
    "    def _get_param_combinations(self, param_grid):\n",
    "        keys = list(param_grid.keys())\n",
    "        values = list(param_grid.values())\n",
    "        param_combinations = []\n",
    "        for combination in itertools.product(*values):\n",
    "            params = {keys[i]: combination[i] for i in range(len(keys))}\n",
    "            param_combinations.append(params)\n",
    "        return param_combinations\n",
    "    \n",
    "param_grid = {'max_depth': [100, 200, 300, 400], 'min_samples_split': [20, 30, 40, 50]}\n",
    "\n",
    "#from sklearn.tree import RandomForestRegressor\n",
    "\n",
    "estimator = RandomForestRegressor\n",
    "cv = 5\n",
    "\n",
    "grid_search = GridSearchCV(estimator, param_grid, cv=cv)\n",
    "\n",
    "\n",
    "grid_search.fit(X_train,y_train)\n",
    "y_pred=grid_search.predict(X_test)\n",
    "best_estimator = grid_search.best_estimator_"
   ]
  },
  {
   "cell_type": "code",
   "execution_count": 80,
   "id": "580dac1c",
   "metadata": {},
   "outputs": [],
   "source": [
    "def r2_score(y_test, y_pred):\n",
    "    mean_y_test = sum(y_test) / len(y_test)\n",
    "    sst = sum([(y - mean_y_test)**2 for y in y_test])\n",
    "    ssr = sum([(y - yp)**2 for y, yp in zip(y_test, y_pred)])\n",
    "    r2 = 1 - (ssr / sst)\n",
    "    return r2"
   ]
  },
  {
   "cell_type": "code",
   "execution_count": 81,
   "id": "4d010540",
   "metadata": {},
   "outputs": [],
   "source": [
    "r2=r2_score(y_test, y_pred)\n"
   ]
  },
  {
   "cell_type": "code",
   "execution_count": 82,
   "id": "33c72ba7",
   "metadata": {},
   "outputs": [
    {
     "name": "stdout",
     "output_type": "stream",
     "text": [
      "Best hyperparameters: <__main__.RandomForestRegressor object at 0x0000024F4FF82EE0>\n",
      "Validation R2 score: 0.9441549541484322\n"
     ]
    }
   ],
   "source": [
    "print(\"Best hyperparameters:\", best_estimator)\n",
    "print(\"Validation R2 score:\", r2)"
   ]
  },
  {
   "cell_type": "code",
   "execution_count": null,
   "id": "5e9be9f0",
   "metadata": {},
   "outputs": [],
   "source": []
  }
 ],
 "metadata": {
  "kernelspec": {
   "display_name": "Python 3 (ipykernel)",
   "language": "python",
   "name": "python3"
  },
  "language_info": {
   "codemirror_mode": {
    "name": "ipython",
    "version": 3
   },
   "file_extension": ".py",
   "mimetype": "text/x-python",
   "name": "python",
   "nbconvert_exporter": "python",
   "pygments_lexer": "ipython3",
   "version": "3.9.7"
  }
 },
 "nbformat": 4,
 "nbformat_minor": 5
}
