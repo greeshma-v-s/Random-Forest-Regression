{
 "cells": [
  {
   "cell_type": "markdown",
   "id": "eeb25057",
   "metadata": {},
   "source": [
    "# Pipeline using sklearn for Big Basket Food Delivery Service"
   ]
  },
  {
   "cell_type": "code",
   "execution_count": 1,
   "id": "920676f6",
   "metadata": {},
   "outputs": [],
   "source": [
    "import numpy as np\n",
    "import pandas as pd\n",
    "from sklearn.ensemble import RandomForestRegressor\n",
    "from sklearn.pipeline import Pipeline\n",
    "from sklearn.impute import SimpleImputer\n",
    "from sklearn.preprocessing import StandardScaler, LabelEncoder\n",
    "from sklearn.compose import ColumnTransformer\n",
    "from sklearn.model_selection import GridSearchCV\n",
    "from scipy import stats\n",
    "from sklearn import set_config\n",
    "from sklearn.preprocessing import FunctionTransformer\n",
    "set_config(display='diagram')\n",
    "\n",
    "# load data\n",
    "df = pd.read_csv('Big Basket Food Delivery.csv', encoding='latin-1')\n",
    "df = df.drop(['Restaurant Name', 'City', 'Locality', 'Locality Verbose'], axis=1)\n",
    "\n",
    "# Impute missing values in the 'Cuisines' column with the mode value\n",
    "cuisine_imputer = SimpleImputer(strategy='most_frequent')\n",
    "df['Cuisines'] = cuisine_imputer.fit_transform(df[['Cuisines']])\n",
    "\n",
    "# Replace special characters with NaN\n",
    "df['Average Cost for two'] = df['Average Cost for two'].replace({'\\$': '', ',': ''}, regex=True)\n",
    "df['Average Cost for two'] = pd.to_numeric(df['Average Cost for two'], errors='coerce')\n",
    "df['Price range'] = df['Price range'].replace({'\\₹': ''}, regex=True)\n",
    "df['Price range'] = pd.to_numeric(df['Price range'], errors='coerce')\n",
    "\n",
    "# Impute median value for NaN\n",
    "avg_cost_imputer = SimpleImputer(strategy='median')\n",
    "df['Average Cost for two'] = avg_cost_imputer.fit_transform(df[['Average Cost for two']])\n",
    "price_imputer = SimpleImputer(strategy='median')\n",
    "df['Price range'] = price_imputer.fit_transform(df[['Price range']])\n",
    "\n",
    "# Outlier treatment using the IQR method\n",
    "def outlier_treatment_iqr(column):\n",
    "    q1, q3 = np.percentile(column, [25, 75])\n",
    "    iqr = q3 - q1\n",
    "    lower_bound = q1 - (1.5 * iqr)\n",
    "    upper_bound = q3 + (1.5 * iqr)\n",
    "    return np.clip(column, lower_bound, upper_bound)\n",
    "\n",
    "# Convert non-numeric columns to numeric using label encoding\n",
    "label_encoder = LabelEncoder()\n",
    "for col in df.columns:\n",
    "    if df[col].dtype == 'object':\n",
    "        df[col] = label_encoder.fit_transform(df[col])"
   ]
  },
  {
   "cell_type": "markdown",
   "id": "bc182542",
   "metadata": {},
   "source": [
    "##  Define the preprocessing steps"
   ]
  },
  {
   "cell_type": "code",
   "execution_count": 2,
   "id": "624a2a06",
   "metadata": {},
   "outputs": [],
   "source": [
    "# Define the preprocessing steps for categorical and numerical data\n",
    "categorical_transformer = Pipeline(steps=[\n",
    "    ('cuisine_imputer', SimpleImputer(strategy='most_frequent')),\n",
    "    ('label_encoder', LabelEncoder())\n",
    "])\n",
    "\n",
    "numerical_transformer = Pipeline(steps=[\n",
    "    ('avg_cost_imputer' , SimpleImputer(strategy='median')),\n",
    "    ('price_imputer', SimpleImputer(strategy='median')),\n",
    "    ('outlier_treatment', FunctionTransformer(func=outlier_treatment_iqr))\n",
    "])\n",
    "\n",
    "# Combine the preprocessing steps for categorical and numerical data\n",
    "preprocessor = ColumnTransformer(transformers=[\n",
    "    ('cat', categorical_transformer, ['Address', 'Cuisines', 'Has Table booking', 'Has Online delivery', 'Is delivering now','Switch to order menu','Rating color','Rating text']),\n",
    "    ('num', numerical_transformer, ['Restaurant ID', 'Country Code', 'Longitude','Latitude','Average Cost for two','Price range','Aggregate rating','Votes'])\n",
    "])"
   ]
  },
  {
   "cell_type": "markdown",
   "id": "d35d5b6e",
   "metadata": {},
   "source": [
    "# Visualizing Through Pipeline"
   ]
  },
  {
   "cell_type": "code",
   "execution_count": 3,
   "id": "2bfffd18",
   "metadata": {},
   "outputs": [
    {
     "data": {
      "text/html": [
       "<style>#sk-d2e40647-4a91-4800-9c18-cc6d3c760796 {color: black;background-color: white;}#sk-d2e40647-4a91-4800-9c18-cc6d3c760796 pre{padding: 0;}#sk-d2e40647-4a91-4800-9c18-cc6d3c760796 div.sk-toggleable {background-color: white;}#sk-d2e40647-4a91-4800-9c18-cc6d3c760796 label.sk-toggleable__label {cursor: pointer;display: block;width: 100%;margin-bottom: 0;padding: 0.2em 0.3em;box-sizing: border-box;text-align: center;}#sk-d2e40647-4a91-4800-9c18-cc6d3c760796 div.sk-toggleable__content {max-height: 0;max-width: 0;overflow: hidden;text-align: left;background-color: #f0f8ff;}#sk-d2e40647-4a91-4800-9c18-cc6d3c760796 div.sk-toggleable__content pre {margin: 0.2em;color: black;border-radius: 0.25em;background-color: #f0f8ff;}#sk-d2e40647-4a91-4800-9c18-cc6d3c760796 input.sk-toggleable__control:checked~div.sk-toggleable__content {max-height: 200px;max-width: 100%;overflow: auto;}#sk-d2e40647-4a91-4800-9c18-cc6d3c760796 div.sk-estimator input.sk-toggleable__control:checked~label.sk-toggleable__label {background-color: #d4ebff;}#sk-d2e40647-4a91-4800-9c18-cc6d3c760796 div.sk-label input.sk-toggleable__control:checked~label.sk-toggleable__label {background-color: #d4ebff;}#sk-d2e40647-4a91-4800-9c18-cc6d3c760796 input.sk-hidden--visually {border: 0;clip: rect(1px 1px 1px 1px);clip: rect(1px, 1px, 1px, 1px);height: 1px;margin: -1px;overflow: hidden;padding: 0;position: absolute;width: 1px;}#sk-d2e40647-4a91-4800-9c18-cc6d3c760796 div.sk-estimator {font-family: monospace;background-color: #f0f8ff;margin: 0.25em 0.25em;border: 1px dotted black;border-radius: 0.25em;box-sizing: border-box;}#sk-d2e40647-4a91-4800-9c18-cc6d3c760796 div.sk-estimator:hover {background-color: #d4ebff;}#sk-d2e40647-4a91-4800-9c18-cc6d3c760796 div.sk-parallel-item::after {content: \"\";width: 100%;border-bottom: 1px solid gray;flex-grow: 1;}#sk-d2e40647-4a91-4800-9c18-cc6d3c760796 div.sk-label:hover label.sk-toggleable__label {background-color: #d4ebff;}#sk-d2e40647-4a91-4800-9c18-cc6d3c760796 div.sk-serial::before {content: \"\";position: absolute;border-left: 1px solid gray;box-sizing: border-box;top: 2em;bottom: 0;left: 50%;}#sk-d2e40647-4a91-4800-9c18-cc6d3c760796 div.sk-serial {display: flex;flex-direction: column;align-items: center;background-color: white;}#sk-d2e40647-4a91-4800-9c18-cc6d3c760796 div.sk-item {z-index: 1;}#sk-d2e40647-4a91-4800-9c18-cc6d3c760796 div.sk-parallel {display: flex;align-items: stretch;justify-content: center;background-color: white;}#sk-d2e40647-4a91-4800-9c18-cc6d3c760796 div.sk-parallel-item {display: flex;flex-direction: column;position: relative;background-color: white;}#sk-d2e40647-4a91-4800-9c18-cc6d3c760796 div.sk-parallel-item:first-child::after {align-self: flex-end;width: 50%;}#sk-d2e40647-4a91-4800-9c18-cc6d3c760796 div.sk-parallel-item:last-child::after {align-self: flex-start;width: 50%;}#sk-d2e40647-4a91-4800-9c18-cc6d3c760796 div.sk-parallel-item:only-child::after {width: 0;}#sk-d2e40647-4a91-4800-9c18-cc6d3c760796 div.sk-dashed-wrapped {border: 1px dashed gray;margin: 0.2em;box-sizing: border-box;padding-bottom: 0.1em;background-color: white;position: relative;}#sk-d2e40647-4a91-4800-9c18-cc6d3c760796 div.sk-label label {font-family: monospace;font-weight: bold;background-color: white;display: inline-block;line-height: 1.2em;}#sk-d2e40647-4a91-4800-9c18-cc6d3c760796 div.sk-label-container {position: relative;z-index: 2;text-align: center;}#sk-d2e40647-4a91-4800-9c18-cc6d3c760796 div.sk-container {display: inline-block;position: relative;}</style><div id=\"sk-d2e40647-4a91-4800-9c18-cc6d3c760796\" class\"sk-top-container\"><div class=\"sk-container\"><div class=\"sk-item sk-dashed-wrapped\"><div class=\"sk-label-container\"><div class=\"sk-label sk-toggleable\"><input class=\"sk-toggleable__control sk-hidden--visually\" id=\"9cf9b4fb-8a82-45e2-b427-0cb08b59c3a3\" type=\"checkbox\" ><label class=\"sk-toggleable__label\" for=\"9cf9b4fb-8a82-45e2-b427-0cb08b59c3a3\">Pipeline</label><div class=\"sk-toggleable__content\"><pre>Pipeline(steps=[('cuisine_imputer', SimpleImputer(strategy='most_frequent')),\n",
       "                ('label_encoder', LabelEncoder())])</pre></div></div></div><div class=\"sk-serial\"><div class=\"sk-item\"><div class=\"sk-estimator sk-toggleable\"><input class=\"sk-toggleable__control sk-hidden--visually\" id=\"74fac61e-30d5-426e-89ad-4ed592c13183\" type=\"checkbox\" ><label class=\"sk-toggleable__label\" for=\"74fac61e-30d5-426e-89ad-4ed592c13183\">SimpleImputer</label><div class=\"sk-toggleable__content\"><pre>SimpleImputer(strategy='most_frequent')</pre></div></div></div><div class=\"sk-item\"><div class=\"sk-estimator sk-toggleable\"><input class=\"sk-toggleable__control sk-hidden--visually\" id=\"aa8624f0-a23c-4ea6-86fe-3142677bd8fb\" type=\"checkbox\" ><label class=\"sk-toggleable__label\" for=\"aa8624f0-a23c-4ea6-86fe-3142677bd8fb\">LabelEncoder</label><div class=\"sk-toggleable__content\"><pre>LabelEncoder()</pre></div></div></div></div></div></div></div>"
      ],
      "text/plain": [
       "Pipeline(steps=[('cuisine_imputer', SimpleImputer(strategy='most_frequent')),\n",
       "                ('label_encoder', LabelEncoder())])"
      ]
     },
     "execution_count": 3,
     "metadata": {},
     "output_type": "execute_result"
    }
   ],
   "source": [
    "categorical_transformer"
   ]
  },
  {
   "cell_type": "code",
   "execution_count": 4,
   "id": "98d12788",
   "metadata": {},
   "outputs": [
    {
     "data": {
      "text/html": [
       "<style>#sk-cf87a2f9-9cc1-4a9b-b538-25dea743e03a {color: black;background-color: white;}#sk-cf87a2f9-9cc1-4a9b-b538-25dea743e03a pre{padding: 0;}#sk-cf87a2f9-9cc1-4a9b-b538-25dea743e03a div.sk-toggleable {background-color: white;}#sk-cf87a2f9-9cc1-4a9b-b538-25dea743e03a label.sk-toggleable__label {cursor: pointer;display: block;width: 100%;margin-bottom: 0;padding: 0.2em 0.3em;box-sizing: border-box;text-align: center;}#sk-cf87a2f9-9cc1-4a9b-b538-25dea743e03a div.sk-toggleable__content {max-height: 0;max-width: 0;overflow: hidden;text-align: left;background-color: #f0f8ff;}#sk-cf87a2f9-9cc1-4a9b-b538-25dea743e03a div.sk-toggleable__content pre {margin: 0.2em;color: black;border-radius: 0.25em;background-color: #f0f8ff;}#sk-cf87a2f9-9cc1-4a9b-b538-25dea743e03a input.sk-toggleable__control:checked~div.sk-toggleable__content {max-height: 200px;max-width: 100%;overflow: auto;}#sk-cf87a2f9-9cc1-4a9b-b538-25dea743e03a div.sk-estimator input.sk-toggleable__control:checked~label.sk-toggleable__label {background-color: #d4ebff;}#sk-cf87a2f9-9cc1-4a9b-b538-25dea743e03a div.sk-label input.sk-toggleable__control:checked~label.sk-toggleable__label {background-color: #d4ebff;}#sk-cf87a2f9-9cc1-4a9b-b538-25dea743e03a input.sk-hidden--visually {border: 0;clip: rect(1px 1px 1px 1px);clip: rect(1px, 1px, 1px, 1px);height: 1px;margin: -1px;overflow: hidden;padding: 0;position: absolute;width: 1px;}#sk-cf87a2f9-9cc1-4a9b-b538-25dea743e03a div.sk-estimator {font-family: monospace;background-color: #f0f8ff;margin: 0.25em 0.25em;border: 1px dotted black;border-radius: 0.25em;box-sizing: border-box;}#sk-cf87a2f9-9cc1-4a9b-b538-25dea743e03a div.sk-estimator:hover {background-color: #d4ebff;}#sk-cf87a2f9-9cc1-4a9b-b538-25dea743e03a div.sk-parallel-item::after {content: \"\";width: 100%;border-bottom: 1px solid gray;flex-grow: 1;}#sk-cf87a2f9-9cc1-4a9b-b538-25dea743e03a div.sk-label:hover label.sk-toggleable__label {background-color: #d4ebff;}#sk-cf87a2f9-9cc1-4a9b-b538-25dea743e03a div.sk-serial::before {content: \"\";position: absolute;border-left: 1px solid gray;box-sizing: border-box;top: 2em;bottom: 0;left: 50%;}#sk-cf87a2f9-9cc1-4a9b-b538-25dea743e03a div.sk-serial {display: flex;flex-direction: column;align-items: center;background-color: white;}#sk-cf87a2f9-9cc1-4a9b-b538-25dea743e03a div.sk-item {z-index: 1;}#sk-cf87a2f9-9cc1-4a9b-b538-25dea743e03a div.sk-parallel {display: flex;align-items: stretch;justify-content: center;background-color: white;}#sk-cf87a2f9-9cc1-4a9b-b538-25dea743e03a div.sk-parallel-item {display: flex;flex-direction: column;position: relative;background-color: white;}#sk-cf87a2f9-9cc1-4a9b-b538-25dea743e03a div.sk-parallel-item:first-child::after {align-self: flex-end;width: 50%;}#sk-cf87a2f9-9cc1-4a9b-b538-25dea743e03a div.sk-parallel-item:last-child::after {align-self: flex-start;width: 50%;}#sk-cf87a2f9-9cc1-4a9b-b538-25dea743e03a div.sk-parallel-item:only-child::after {width: 0;}#sk-cf87a2f9-9cc1-4a9b-b538-25dea743e03a div.sk-dashed-wrapped {border: 1px dashed gray;margin: 0.2em;box-sizing: border-box;padding-bottom: 0.1em;background-color: white;position: relative;}#sk-cf87a2f9-9cc1-4a9b-b538-25dea743e03a div.sk-label label {font-family: monospace;font-weight: bold;background-color: white;display: inline-block;line-height: 1.2em;}#sk-cf87a2f9-9cc1-4a9b-b538-25dea743e03a div.sk-label-container {position: relative;z-index: 2;text-align: center;}#sk-cf87a2f9-9cc1-4a9b-b538-25dea743e03a div.sk-container {display: inline-block;position: relative;}</style><div id=\"sk-cf87a2f9-9cc1-4a9b-b538-25dea743e03a\" class\"sk-top-container\"><div class=\"sk-container\"><div class=\"sk-item sk-dashed-wrapped\"><div class=\"sk-label-container\"><div class=\"sk-label sk-toggleable\"><input class=\"sk-toggleable__control sk-hidden--visually\" id=\"d7002f2e-1a4a-4299-99ab-6b2288427dcf\" type=\"checkbox\" ><label class=\"sk-toggleable__label\" for=\"d7002f2e-1a4a-4299-99ab-6b2288427dcf\">Pipeline</label><div class=\"sk-toggleable__content\"><pre>Pipeline(steps=[('avg_cost_imputer', SimpleImputer(strategy='median')),\n",
       "                ('price_imputer', SimpleImputer(strategy='median')),\n",
       "                ('outlier_treatment',\n",
       "                 FunctionTransformer(func=<function outlier_treatment_iqr at 0x000002E2E22B8DC0>))])</pre></div></div></div><div class=\"sk-serial\"><div class=\"sk-item\"><div class=\"sk-estimator sk-toggleable\"><input class=\"sk-toggleable__control sk-hidden--visually\" id=\"abab6b25-b593-40f7-8b3c-44303efaeebd\" type=\"checkbox\" ><label class=\"sk-toggleable__label\" for=\"abab6b25-b593-40f7-8b3c-44303efaeebd\">SimpleImputer</label><div class=\"sk-toggleable__content\"><pre>SimpleImputer(strategy='median')</pre></div></div></div><div class=\"sk-item\"><div class=\"sk-estimator sk-toggleable\"><input class=\"sk-toggleable__control sk-hidden--visually\" id=\"92873168-f9d7-4e28-ad41-a0e56af77c7d\" type=\"checkbox\" ><label class=\"sk-toggleable__label\" for=\"92873168-f9d7-4e28-ad41-a0e56af77c7d\">SimpleImputer</label><div class=\"sk-toggleable__content\"><pre>SimpleImputer(strategy='median')</pre></div></div></div><div class=\"sk-item\"><div class=\"sk-estimator sk-toggleable\"><input class=\"sk-toggleable__control sk-hidden--visually\" id=\"b341b0d6-a8eb-428c-95de-425d41ed8e45\" type=\"checkbox\" ><label class=\"sk-toggleable__label\" for=\"b341b0d6-a8eb-428c-95de-425d41ed8e45\">FunctionTransformer</label><div class=\"sk-toggleable__content\"><pre>FunctionTransformer(func=<function outlier_treatment_iqr at 0x000002E2E22B8DC0>)</pre></div></div></div></div></div></div></div>"
      ],
      "text/plain": [
       "Pipeline(steps=[('avg_cost_imputer', SimpleImputer(strategy='median')),\n",
       "                ('price_imputer', SimpleImputer(strategy='median')),\n",
       "                ('outlier_treatment',\n",
       "                 FunctionTransformer(func=<function outlier_treatment_iqr at 0x000002E2E22B8DC0>))])"
      ]
     },
     "execution_count": 4,
     "metadata": {},
     "output_type": "execute_result"
    }
   ],
   "source": [
    "numerical_transformer"
   ]
  },
  {
   "cell_type": "code",
   "execution_count": 5,
   "id": "0c5f28f3",
   "metadata": {},
   "outputs": [
    {
     "data": {
      "text/html": [
       "<style>#sk-6fc12fd4-1e1f-434d-bab2-6decf7d6d02c {color: black;background-color: white;}#sk-6fc12fd4-1e1f-434d-bab2-6decf7d6d02c pre{padding: 0;}#sk-6fc12fd4-1e1f-434d-bab2-6decf7d6d02c div.sk-toggleable {background-color: white;}#sk-6fc12fd4-1e1f-434d-bab2-6decf7d6d02c label.sk-toggleable__label {cursor: pointer;display: block;width: 100%;margin-bottom: 0;padding: 0.2em 0.3em;box-sizing: border-box;text-align: center;}#sk-6fc12fd4-1e1f-434d-bab2-6decf7d6d02c div.sk-toggleable__content {max-height: 0;max-width: 0;overflow: hidden;text-align: left;background-color: #f0f8ff;}#sk-6fc12fd4-1e1f-434d-bab2-6decf7d6d02c div.sk-toggleable__content pre {margin: 0.2em;color: black;border-radius: 0.25em;background-color: #f0f8ff;}#sk-6fc12fd4-1e1f-434d-bab2-6decf7d6d02c input.sk-toggleable__control:checked~div.sk-toggleable__content {max-height: 200px;max-width: 100%;overflow: auto;}#sk-6fc12fd4-1e1f-434d-bab2-6decf7d6d02c div.sk-estimator input.sk-toggleable__control:checked~label.sk-toggleable__label {background-color: #d4ebff;}#sk-6fc12fd4-1e1f-434d-bab2-6decf7d6d02c div.sk-label input.sk-toggleable__control:checked~label.sk-toggleable__label {background-color: #d4ebff;}#sk-6fc12fd4-1e1f-434d-bab2-6decf7d6d02c input.sk-hidden--visually {border: 0;clip: rect(1px 1px 1px 1px);clip: rect(1px, 1px, 1px, 1px);height: 1px;margin: -1px;overflow: hidden;padding: 0;position: absolute;width: 1px;}#sk-6fc12fd4-1e1f-434d-bab2-6decf7d6d02c div.sk-estimator {font-family: monospace;background-color: #f0f8ff;margin: 0.25em 0.25em;border: 1px dotted black;border-radius: 0.25em;box-sizing: border-box;}#sk-6fc12fd4-1e1f-434d-bab2-6decf7d6d02c div.sk-estimator:hover {background-color: #d4ebff;}#sk-6fc12fd4-1e1f-434d-bab2-6decf7d6d02c div.sk-parallel-item::after {content: \"\";width: 100%;border-bottom: 1px solid gray;flex-grow: 1;}#sk-6fc12fd4-1e1f-434d-bab2-6decf7d6d02c div.sk-label:hover label.sk-toggleable__label {background-color: #d4ebff;}#sk-6fc12fd4-1e1f-434d-bab2-6decf7d6d02c div.sk-serial::before {content: \"\";position: absolute;border-left: 1px solid gray;box-sizing: border-box;top: 2em;bottom: 0;left: 50%;}#sk-6fc12fd4-1e1f-434d-bab2-6decf7d6d02c div.sk-serial {display: flex;flex-direction: column;align-items: center;background-color: white;}#sk-6fc12fd4-1e1f-434d-bab2-6decf7d6d02c div.sk-item {z-index: 1;}#sk-6fc12fd4-1e1f-434d-bab2-6decf7d6d02c div.sk-parallel {display: flex;align-items: stretch;justify-content: center;background-color: white;}#sk-6fc12fd4-1e1f-434d-bab2-6decf7d6d02c div.sk-parallel-item {display: flex;flex-direction: column;position: relative;background-color: white;}#sk-6fc12fd4-1e1f-434d-bab2-6decf7d6d02c div.sk-parallel-item:first-child::after {align-self: flex-end;width: 50%;}#sk-6fc12fd4-1e1f-434d-bab2-6decf7d6d02c div.sk-parallel-item:last-child::after {align-self: flex-start;width: 50%;}#sk-6fc12fd4-1e1f-434d-bab2-6decf7d6d02c div.sk-parallel-item:only-child::after {width: 0;}#sk-6fc12fd4-1e1f-434d-bab2-6decf7d6d02c div.sk-dashed-wrapped {border: 1px dashed gray;margin: 0.2em;box-sizing: border-box;padding-bottom: 0.1em;background-color: white;position: relative;}#sk-6fc12fd4-1e1f-434d-bab2-6decf7d6d02c div.sk-label label {font-family: monospace;font-weight: bold;background-color: white;display: inline-block;line-height: 1.2em;}#sk-6fc12fd4-1e1f-434d-bab2-6decf7d6d02c div.sk-label-container {position: relative;z-index: 2;text-align: center;}#sk-6fc12fd4-1e1f-434d-bab2-6decf7d6d02c div.sk-container {display: inline-block;position: relative;}</style><div id=\"sk-6fc12fd4-1e1f-434d-bab2-6decf7d6d02c\" class\"sk-top-container\"><div class=\"sk-container\"><div class=\"sk-item sk-dashed-wrapped\"><div class=\"sk-label-container\"><div class=\"sk-label sk-toggleable\"><input class=\"sk-toggleable__control sk-hidden--visually\" id=\"aebac7c8-1aae-4d7e-85c8-8d624524fae2\" type=\"checkbox\" ><label class=\"sk-toggleable__label\" for=\"aebac7c8-1aae-4d7e-85c8-8d624524fae2\">ColumnTransformer</label><div class=\"sk-toggleable__content\"><pre>ColumnTransformer(transformers=[('cat',\n",
       "                                 Pipeline(steps=[('cuisine_imputer',\n",
       "                                                  SimpleImputer(strategy='most_frequent')),\n",
       "                                                 ('label_encoder',\n",
       "                                                  LabelEncoder())]),\n",
       "                                 ['Address', 'Cuisines', 'Has Table booking',\n",
       "                                  'Has Online delivery', 'Is delivering now',\n",
       "                                  'Switch to order menu', 'Rating color',\n",
       "                                  'Rating text']),\n",
       "                                ('num',\n",
       "                                 Pipeline(steps=[('avg_cost_imputer',\n",
       "                                                  SimpleImputer(strategy='median')),\n",
       "                                                 ('price_imputer',\n",
       "                                                  SimpleImputer(strategy='median')),\n",
       "                                                 ('outlier_treatment',\n",
       "                                                  FunctionTransformer(func=<function outlier_treatment_iqr at 0x000002E2E22B8DC0>))]),\n",
       "                                 ['Restaurant ID', 'Country Code', 'Longitude',\n",
       "                                  'Latitude', 'Average Cost for two',\n",
       "                                  'Price range', 'Aggregate rating',\n",
       "                                  'Votes'])])</pre></div></div></div><div class=\"sk-parallel\"><div class=\"sk-parallel-item\"><div class=\"sk-item\"><div class=\"sk-label-container\"><div class=\"sk-label sk-toggleable\"><input class=\"sk-toggleable__control sk-hidden--visually\" id=\"283c6bfa-c92c-417a-9fd3-2fcd34990a06\" type=\"checkbox\" ><label class=\"sk-toggleable__label\" for=\"283c6bfa-c92c-417a-9fd3-2fcd34990a06\">cat</label><div class=\"sk-toggleable__content\"><pre>['Address', 'Cuisines', 'Has Table booking', 'Has Online delivery', 'Is delivering now', 'Switch to order menu', 'Rating color', 'Rating text']</pre></div></div></div><div class=\"sk-serial\"><div class=\"sk-item\"><div class=\"sk-serial\"><div class=\"sk-item\"><div class=\"sk-estimator sk-toggleable\"><input class=\"sk-toggleable__control sk-hidden--visually\" id=\"8bb18cef-a895-402c-819a-60540b2ab5da\" type=\"checkbox\" ><label class=\"sk-toggleable__label\" for=\"8bb18cef-a895-402c-819a-60540b2ab5da\">SimpleImputer</label><div class=\"sk-toggleable__content\"><pre>SimpleImputer(strategy='most_frequent')</pre></div></div></div><div class=\"sk-item\"><div class=\"sk-estimator sk-toggleable\"><input class=\"sk-toggleable__control sk-hidden--visually\" id=\"37bb9585-b3ee-40ff-bf4d-17cd4b5f2048\" type=\"checkbox\" ><label class=\"sk-toggleable__label\" for=\"37bb9585-b3ee-40ff-bf4d-17cd4b5f2048\">LabelEncoder</label><div class=\"sk-toggleable__content\"><pre>LabelEncoder()</pre></div></div></div></div></div></div></div></div><div class=\"sk-parallel-item\"><div class=\"sk-item\"><div class=\"sk-label-container\"><div class=\"sk-label sk-toggleable\"><input class=\"sk-toggleable__control sk-hidden--visually\" id=\"1ddc8ba9-18fe-4463-b7a0-849e7617ea43\" type=\"checkbox\" ><label class=\"sk-toggleable__label\" for=\"1ddc8ba9-18fe-4463-b7a0-849e7617ea43\">num</label><div class=\"sk-toggleable__content\"><pre>['Restaurant ID', 'Country Code', 'Longitude', 'Latitude', 'Average Cost for two', 'Price range', 'Aggregate rating', 'Votes']</pre></div></div></div><div class=\"sk-serial\"><div class=\"sk-item\"><div class=\"sk-serial\"><div class=\"sk-item\"><div class=\"sk-estimator sk-toggleable\"><input class=\"sk-toggleable__control sk-hidden--visually\" id=\"91703908-616d-4c45-a7b9-f96718ef9715\" type=\"checkbox\" ><label class=\"sk-toggleable__label\" for=\"91703908-616d-4c45-a7b9-f96718ef9715\">SimpleImputer</label><div class=\"sk-toggleable__content\"><pre>SimpleImputer(strategy='median')</pre></div></div></div><div class=\"sk-item\"><div class=\"sk-estimator sk-toggleable\"><input class=\"sk-toggleable__control sk-hidden--visually\" id=\"29520b75-0c2d-4f3e-8bbd-858e1de135d0\" type=\"checkbox\" ><label class=\"sk-toggleable__label\" for=\"29520b75-0c2d-4f3e-8bbd-858e1de135d0\">SimpleImputer</label><div class=\"sk-toggleable__content\"><pre>SimpleImputer(strategy='median')</pre></div></div></div><div class=\"sk-item\"><div class=\"sk-estimator sk-toggleable\"><input class=\"sk-toggleable__control sk-hidden--visually\" id=\"94b70301-2376-4923-b6ce-f4176962d962\" type=\"checkbox\" ><label class=\"sk-toggleable__label\" for=\"94b70301-2376-4923-b6ce-f4176962d962\">FunctionTransformer</label><div class=\"sk-toggleable__content\"><pre>FunctionTransformer(func=<function outlier_treatment_iqr at 0x000002E2E22B8DC0>)</pre></div></div></div></div></div></div></div></div></div></div></div></div>"
      ],
      "text/plain": [
       "ColumnTransformer(transformers=[('cat',\n",
       "                                 Pipeline(steps=[('cuisine_imputer',\n",
       "                                                  SimpleImputer(strategy='most_frequent')),\n",
       "                                                 ('label_encoder',\n",
       "                                                  LabelEncoder())]),\n",
       "                                 ['Address', 'Cuisines', 'Has Table booking',\n",
       "                                  'Has Online delivery', 'Is delivering now',\n",
       "                                  'Switch to order menu', 'Rating color',\n",
       "                                  'Rating text']),\n",
       "                                ('num',\n",
       "                                 Pipeline(steps=[('avg_cost_imputer',\n",
       "                                                  SimpleImputer(strategy='median')),\n",
       "                                                 ('price_imputer',\n",
       "                                                  SimpleImputer(strategy='median')),\n",
       "                                                 ('outlier_treatment',\n",
       "                                                  FunctionTransformer(func=<function outlier_treatment_iqr at 0x000002E2E22B8DC0>))]),\n",
       "                                 ['Restaurant ID', 'Country Code', 'Longitude',\n",
       "                                  'Latitude', 'Average Cost for two',\n",
       "                                  'Price range', 'Aggregate rating',\n",
       "                                  'Votes'])])"
      ]
     },
     "execution_count": 5,
     "metadata": {},
     "output_type": "execute_result"
    }
   ],
   "source": [
    "preprocessor"
   ]
  },
  {
   "cell_type": "markdown",
   "id": "08b6f979",
   "metadata": {},
   "source": [
    "# Model building Through pipeline"
   ]
  },
  {
   "cell_type": "code",
   "execution_count": 6,
   "id": "ed54264c",
   "metadata": {},
   "outputs": [],
   "source": [
    "# Fit the pipeline\n",
    "X = df.drop(['Aggregate rating'], axis=1)\n",
    "y = df['Aggregate rating']"
   ]
  },
  {
   "cell_type": "code",
   "execution_count": 7,
   "id": "d339f08e",
   "metadata": {},
   "outputs": [],
   "source": [
    "from sklearn.model_selection import train_test_split\n",
    "X_train,X_test,y_train,y_test=train_test_split(X,y,test_size=0.2)"
   ]
  },
  {
   "cell_type": "code",
   "execution_count": 8,
   "id": "1c1d0b00",
   "metadata": {},
   "outputs": [],
   "source": [
    "# Define the random forest regressor\n",
    "rf = RandomForestRegressor(n_estimators=100, random_state=42)\n",
    "\n",
    "# Define the pipeline\n",
    "pipeline = Pipeline([\n",
    "    ('preprocessor', preprocessor),\n",
    "    ('regressor', rf)\n",
    "])"
   ]
  },
  {
   "cell_type": "code",
   "execution_count": 9,
   "id": "ff9a0ed6",
   "metadata": {},
   "outputs": [
    {
     "data": {
      "text/html": [
       "<style>#sk-40170e56-011e-4fd5-ba38-47bf01c735c7 {color: black;background-color: white;}#sk-40170e56-011e-4fd5-ba38-47bf01c735c7 pre{padding: 0;}#sk-40170e56-011e-4fd5-ba38-47bf01c735c7 div.sk-toggleable {background-color: white;}#sk-40170e56-011e-4fd5-ba38-47bf01c735c7 label.sk-toggleable__label {cursor: pointer;display: block;width: 100%;margin-bottom: 0;padding: 0.2em 0.3em;box-sizing: border-box;text-align: center;}#sk-40170e56-011e-4fd5-ba38-47bf01c735c7 div.sk-toggleable__content {max-height: 0;max-width: 0;overflow: hidden;text-align: left;background-color: #f0f8ff;}#sk-40170e56-011e-4fd5-ba38-47bf01c735c7 div.sk-toggleable__content pre {margin: 0.2em;color: black;border-radius: 0.25em;background-color: #f0f8ff;}#sk-40170e56-011e-4fd5-ba38-47bf01c735c7 input.sk-toggleable__control:checked~div.sk-toggleable__content {max-height: 200px;max-width: 100%;overflow: auto;}#sk-40170e56-011e-4fd5-ba38-47bf01c735c7 div.sk-estimator input.sk-toggleable__control:checked~label.sk-toggleable__label {background-color: #d4ebff;}#sk-40170e56-011e-4fd5-ba38-47bf01c735c7 div.sk-label input.sk-toggleable__control:checked~label.sk-toggleable__label {background-color: #d4ebff;}#sk-40170e56-011e-4fd5-ba38-47bf01c735c7 input.sk-hidden--visually {border: 0;clip: rect(1px 1px 1px 1px);clip: rect(1px, 1px, 1px, 1px);height: 1px;margin: -1px;overflow: hidden;padding: 0;position: absolute;width: 1px;}#sk-40170e56-011e-4fd5-ba38-47bf01c735c7 div.sk-estimator {font-family: monospace;background-color: #f0f8ff;margin: 0.25em 0.25em;border: 1px dotted black;border-radius: 0.25em;box-sizing: border-box;}#sk-40170e56-011e-4fd5-ba38-47bf01c735c7 div.sk-estimator:hover {background-color: #d4ebff;}#sk-40170e56-011e-4fd5-ba38-47bf01c735c7 div.sk-parallel-item::after {content: \"\";width: 100%;border-bottom: 1px solid gray;flex-grow: 1;}#sk-40170e56-011e-4fd5-ba38-47bf01c735c7 div.sk-label:hover label.sk-toggleable__label {background-color: #d4ebff;}#sk-40170e56-011e-4fd5-ba38-47bf01c735c7 div.sk-serial::before {content: \"\";position: absolute;border-left: 1px solid gray;box-sizing: border-box;top: 2em;bottom: 0;left: 50%;}#sk-40170e56-011e-4fd5-ba38-47bf01c735c7 div.sk-serial {display: flex;flex-direction: column;align-items: center;background-color: white;}#sk-40170e56-011e-4fd5-ba38-47bf01c735c7 div.sk-item {z-index: 1;}#sk-40170e56-011e-4fd5-ba38-47bf01c735c7 div.sk-parallel {display: flex;align-items: stretch;justify-content: center;background-color: white;}#sk-40170e56-011e-4fd5-ba38-47bf01c735c7 div.sk-parallel-item {display: flex;flex-direction: column;position: relative;background-color: white;}#sk-40170e56-011e-4fd5-ba38-47bf01c735c7 div.sk-parallel-item:first-child::after {align-self: flex-end;width: 50%;}#sk-40170e56-011e-4fd5-ba38-47bf01c735c7 div.sk-parallel-item:last-child::after {align-self: flex-start;width: 50%;}#sk-40170e56-011e-4fd5-ba38-47bf01c735c7 div.sk-parallel-item:only-child::after {width: 0;}#sk-40170e56-011e-4fd5-ba38-47bf01c735c7 div.sk-dashed-wrapped {border: 1px dashed gray;margin: 0.2em;box-sizing: border-box;padding-bottom: 0.1em;background-color: white;position: relative;}#sk-40170e56-011e-4fd5-ba38-47bf01c735c7 div.sk-label label {font-family: monospace;font-weight: bold;background-color: white;display: inline-block;line-height: 1.2em;}#sk-40170e56-011e-4fd5-ba38-47bf01c735c7 div.sk-label-container {position: relative;z-index: 2;text-align: center;}#sk-40170e56-011e-4fd5-ba38-47bf01c735c7 div.sk-container {display: inline-block;position: relative;}</style><div id=\"sk-40170e56-011e-4fd5-ba38-47bf01c735c7\" class\"sk-top-container\"><div class=\"sk-container\"><div class=\"sk-item sk-dashed-wrapped\"><div class=\"sk-label-container\"><div class=\"sk-label sk-toggleable\"><input class=\"sk-toggleable__control sk-hidden--visually\" id=\"779c08df-b315-4c96-9a6d-ece8c78de67b\" type=\"checkbox\" ><label class=\"sk-toggleable__label\" for=\"779c08df-b315-4c96-9a6d-ece8c78de67b\">Pipeline</label><div class=\"sk-toggleable__content\"><pre>Pipeline(steps=[('preprocessor',\n",
       "                 ColumnTransformer(transformers=[('cat',\n",
       "                                                  Pipeline(steps=[('cuisine_imputer',\n",
       "                                                                   SimpleImputer(strategy='most_frequent')),\n",
       "                                                                  ('label_encoder',\n",
       "                                                                   LabelEncoder())]),\n",
       "                                                  ['Address', 'Cuisines',\n",
       "                                                   'Has Table booking',\n",
       "                                                   'Has Online delivery',\n",
       "                                                   'Is delivering now',\n",
       "                                                   'Switch to order menu',\n",
       "                                                   'Rating color',\n",
       "                                                   'Rating text']),\n",
       "                                                 ('num',\n",
       "                                                  Pipeline(steps=[('avg_cost_imputer',\n",
       "                                                                   SimpleImputer(strategy='median')),\n",
       "                                                                  ('price_imputer',\n",
       "                                                                   SimpleImputer(strategy='median')),\n",
       "                                                                  ('outlier_treatment',\n",
       "                                                                   FunctionTransformer(func=<function outlier_treatment_iqr at 0x000002E2E22B8DC0>))]),\n",
       "                                                  ['Restaurant ID',\n",
       "                                                   'Country Code', 'Longitude',\n",
       "                                                   'Latitude',\n",
       "                                                   'Average Cost for two',\n",
       "                                                   'Price range',\n",
       "                                                   'Aggregate rating',\n",
       "                                                   'Votes'])])),\n",
       "                ('regressor', RandomForestRegressor(random_state=42))])</pre></div></div></div><div class=\"sk-serial\"><div class=\"sk-item sk-dashed-wrapped\"><div class=\"sk-label-container\"><div class=\"sk-label sk-toggleable\"><input class=\"sk-toggleable__control sk-hidden--visually\" id=\"d86a6563-71fe-4ff0-af17-c2e4bd8f9386\" type=\"checkbox\" ><label class=\"sk-toggleable__label\" for=\"d86a6563-71fe-4ff0-af17-c2e4bd8f9386\">preprocessor: ColumnTransformer</label><div class=\"sk-toggleable__content\"><pre>ColumnTransformer(transformers=[('cat',\n",
       "                                 Pipeline(steps=[('cuisine_imputer',\n",
       "                                                  SimpleImputer(strategy='most_frequent')),\n",
       "                                                 ('label_encoder',\n",
       "                                                  LabelEncoder())]),\n",
       "                                 ['Address', 'Cuisines', 'Has Table booking',\n",
       "                                  'Has Online delivery', 'Is delivering now',\n",
       "                                  'Switch to order menu', 'Rating color',\n",
       "                                  'Rating text']),\n",
       "                                ('num',\n",
       "                                 Pipeline(steps=[('avg_cost_imputer',\n",
       "                                                  SimpleImputer(strategy='median')),\n",
       "                                                 ('price_imputer',\n",
       "                                                  SimpleImputer(strategy='median')),\n",
       "                                                 ('outlier_treatment',\n",
       "                                                  FunctionTransformer(func=<function outlier_treatment_iqr at 0x000002E2E22B8DC0>))]),\n",
       "                                 ['Restaurant ID', 'Country Code', 'Longitude',\n",
       "                                  'Latitude', 'Average Cost for two',\n",
       "                                  'Price range', 'Aggregate rating',\n",
       "                                  'Votes'])])</pre></div></div></div><div class=\"sk-parallel\"><div class=\"sk-parallel-item\"><div class=\"sk-item\"><div class=\"sk-label-container\"><div class=\"sk-label sk-toggleable\"><input class=\"sk-toggleable__control sk-hidden--visually\" id=\"e72704ae-4163-409e-a56e-bde9e83d4dc5\" type=\"checkbox\" ><label class=\"sk-toggleable__label\" for=\"e72704ae-4163-409e-a56e-bde9e83d4dc5\">cat</label><div class=\"sk-toggleable__content\"><pre>['Address', 'Cuisines', 'Has Table booking', 'Has Online delivery', 'Is delivering now', 'Switch to order menu', 'Rating color', 'Rating text']</pre></div></div></div><div class=\"sk-serial\"><div class=\"sk-item\"><div class=\"sk-serial\"><div class=\"sk-item\"><div class=\"sk-estimator sk-toggleable\"><input class=\"sk-toggleable__control sk-hidden--visually\" id=\"daf410ad-ff71-406d-bf5b-f7374332e12b\" type=\"checkbox\" ><label class=\"sk-toggleable__label\" for=\"daf410ad-ff71-406d-bf5b-f7374332e12b\">SimpleImputer</label><div class=\"sk-toggleable__content\"><pre>SimpleImputer(strategy='most_frequent')</pre></div></div></div><div class=\"sk-item\"><div class=\"sk-estimator sk-toggleable\"><input class=\"sk-toggleable__control sk-hidden--visually\" id=\"a080a3fd-8f42-4b2d-9b02-cb9e129a915f\" type=\"checkbox\" ><label class=\"sk-toggleable__label\" for=\"a080a3fd-8f42-4b2d-9b02-cb9e129a915f\">LabelEncoder</label><div class=\"sk-toggleable__content\"><pre>LabelEncoder()</pre></div></div></div></div></div></div></div></div><div class=\"sk-parallel-item\"><div class=\"sk-item\"><div class=\"sk-label-container\"><div class=\"sk-label sk-toggleable\"><input class=\"sk-toggleable__control sk-hidden--visually\" id=\"5284348c-1f79-486f-9588-89cf45e2754e\" type=\"checkbox\" ><label class=\"sk-toggleable__label\" for=\"5284348c-1f79-486f-9588-89cf45e2754e\">num</label><div class=\"sk-toggleable__content\"><pre>['Restaurant ID', 'Country Code', 'Longitude', 'Latitude', 'Average Cost for two', 'Price range', 'Aggregate rating', 'Votes']</pre></div></div></div><div class=\"sk-serial\"><div class=\"sk-item\"><div class=\"sk-serial\"><div class=\"sk-item\"><div class=\"sk-estimator sk-toggleable\"><input class=\"sk-toggleable__control sk-hidden--visually\" id=\"691f562f-82d0-464e-ba19-5cf90cfceff6\" type=\"checkbox\" ><label class=\"sk-toggleable__label\" for=\"691f562f-82d0-464e-ba19-5cf90cfceff6\">SimpleImputer</label><div class=\"sk-toggleable__content\"><pre>SimpleImputer(strategy='median')</pre></div></div></div><div class=\"sk-item\"><div class=\"sk-estimator sk-toggleable\"><input class=\"sk-toggleable__control sk-hidden--visually\" id=\"0ddcfd83-3228-4a8c-8921-f536f7ace2a5\" type=\"checkbox\" ><label class=\"sk-toggleable__label\" for=\"0ddcfd83-3228-4a8c-8921-f536f7ace2a5\">SimpleImputer</label><div class=\"sk-toggleable__content\"><pre>SimpleImputer(strategy='median')</pre></div></div></div><div class=\"sk-item\"><div class=\"sk-estimator sk-toggleable\"><input class=\"sk-toggleable__control sk-hidden--visually\" id=\"abc1701a-541e-4148-946a-a883305f07c1\" type=\"checkbox\" ><label class=\"sk-toggleable__label\" for=\"abc1701a-541e-4148-946a-a883305f07c1\">FunctionTransformer</label><div class=\"sk-toggleable__content\"><pre>FunctionTransformer(func=<function outlier_treatment_iqr at 0x000002E2E22B8DC0>)</pre></div></div></div></div></div></div></div></div></div></div><div class=\"sk-item\"><div class=\"sk-estimator sk-toggleable\"><input class=\"sk-toggleable__control sk-hidden--visually\" id=\"dea9797d-acbf-4af7-9849-b24b1cfd6e5d\" type=\"checkbox\" ><label class=\"sk-toggleable__label\" for=\"dea9797d-acbf-4af7-9849-b24b1cfd6e5d\">RandomForestRegressor</label><div class=\"sk-toggleable__content\"><pre>RandomForestRegressor(random_state=42)</pre></div></div></div></div></div></div></div>"
      ],
      "text/plain": [
       "Pipeline(steps=[('preprocessor',\n",
       "                 ColumnTransformer(transformers=[('cat',\n",
       "                                                  Pipeline(steps=[('cuisine_imputer',\n",
       "                                                                   SimpleImputer(strategy='most_frequent')),\n",
       "                                                                  ('label_encoder',\n",
       "                                                                   LabelEncoder())]),\n",
       "                                                  ['Address', 'Cuisines',\n",
       "                                                   'Has Table booking',\n",
       "                                                   'Has Online delivery',\n",
       "                                                   'Is delivering now',\n",
       "                                                   'Switch to order menu',\n",
       "                                                   'Rating color',\n",
       "                                                   'Rating text']),\n",
       "                                                 ('num',\n",
       "                                                  Pipeline(steps=[('avg_cost_imputer',\n",
       "                                                                   SimpleImputer(strategy='median')),\n",
       "                                                                  ('price_imputer',\n",
       "                                                                   SimpleImputer(strategy='median')),\n",
       "                                                                  ('outlier_treatment',\n",
       "                                                                   FunctionTransformer(func=<function outlier_treatment_iqr at 0x000002E2E22B8DC0>))]),\n",
       "                                                  ['Restaurant ID',\n",
       "                                                   'Country Code', 'Longitude',\n",
       "                                                   'Latitude',\n",
       "                                                   'Average Cost for two',\n",
       "                                                   'Price range',\n",
       "                                                   'Aggregate rating',\n",
       "                                                   'Votes'])])),\n",
       "                ('regressor', RandomForestRegressor(random_state=42))])"
      ]
     },
     "execution_count": 9,
     "metadata": {},
     "output_type": "execute_result"
    }
   ],
   "source": [
    "pipeline"
   ]
  },
  {
   "cell_type": "code",
   "execution_count": 10,
   "id": "590bc233",
   "metadata": {},
   "outputs": [
    {
     "data": {
      "text/html": [
       "<style>#sk-cd210507-caff-42ef-867b-7311d716f49e {color: black;background-color: white;}#sk-cd210507-caff-42ef-867b-7311d716f49e pre{padding: 0;}#sk-cd210507-caff-42ef-867b-7311d716f49e div.sk-toggleable {background-color: white;}#sk-cd210507-caff-42ef-867b-7311d716f49e label.sk-toggleable__label {cursor: pointer;display: block;width: 100%;margin-bottom: 0;padding: 0.2em 0.3em;box-sizing: border-box;text-align: center;}#sk-cd210507-caff-42ef-867b-7311d716f49e div.sk-toggleable__content {max-height: 0;max-width: 0;overflow: hidden;text-align: left;background-color: #f0f8ff;}#sk-cd210507-caff-42ef-867b-7311d716f49e div.sk-toggleable__content pre {margin: 0.2em;color: black;border-radius: 0.25em;background-color: #f0f8ff;}#sk-cd210507-caff-42ef-867b-7311d716f49e input.sk-toggleable__control:checked~div.sk-toggleable__content {max-height: 200px;max-width: 100%;overflow: auto;}#sk-cd210507-caff-42ef-867b-7311d716f49e div.sk-estimator input.sk-toggleable__control:checked~label.sk-toggleable__label {background-color: #d4ebff;}#sk-cd210507-caff-42ef-867b-7311d716f49e div.sk-label input.sk-toggleable__control:checked~label.sk-toggleable__label {background-color: #d4ebff;}#sk-cd210507-caff-42ef-867b-7311d716f49e input.sk-hidden--visually {border: 0;clip: rect(1px 1px 1px 1px);clip: rect(1px, 1px, 1px, 1px);height: 1px;margin: -1px;overflow: hidden;padding: 0;position: absolute;width: 1px;}#sk-cd210507-caff-42ef-867b-7311d716f49e div.sk-estimator {font-family: monospace;background-color: #f0f8ff;margin: 0.25em 0.25em;border: 1px dotted black;border-radius: 0.25em;box-sizing: border-box;}#sk-cd210507-caff-42ef-867b-7311d716f49e div.sk-estimator:hover {background-color: #d4ebff;}#sk-cd210507-caff-42ef-867b-7311d716f49e div.sk-parallel-item::after {content: \"\";width: 100%;border-bottom: 1px solid gray;flex-grow: 1;}#sk-cd210507-caff-42ef-867b-7311d716f49e div.sk-label:hover label.sk-toggleable__label {background-color: #d4ebff;}#sk-cd210507-caff-42ef-867b-7311d716f49e div.sk-serial::before {content: \"\";position: absolute;border-left: 1px solid gray;box-sizing: border-box;top: 2em;bottom: 0;left: 50%;}#sk-cd210507-caff-42ef-867b-7311d716f49e div.sk-serial {display: flex;flex-direction: column;align-items: center;background-color: white;}#sk-cd210507-caff-42ef-867b-7311d716f49e div.sk-item {z-index: 1;}#sk-cd210507-caff-42ef-867b-7311d716f49e div.sk-parallel {display: flex;align-items: stretch;justify-content: center;background-color: white;}#sk-cd210507-caff-42ef-867b-7311d716f49e div.sk-parallel-item {display: flex;flex-direction: column;position: relative;background-color: white;}#sk-cd210507-caff-42ef-867b-7311d716f49e div.sk-parallel-item:first-child::after {align-self: flex-end;width: 50%;}#sk-cd210507-caff-42ef-867b-7311d716f49e div.sk-parallel-item:last-child::after {align-self: flex-start;width: 50%;}#sk-cd210507-caff-42ef-867b-7311d716f49e div.sk-parallel-item:only-child::after {width: 0;}#sk-cd210507-caff-42ef-867b-7311d716f49e div.sk-dashed-wrapped {border: 1px dashed gray;margin: 0.2em;box-sizing: border-box;padding-bottom: 0.1em;background-color: white;position: relative;}#sk-cd210507-caff-42ef-867b-7311d716f49e div.sk-label label {font-family: monospace;font-weight: bold;background-color: white;display: inline-block;line-height: 1.2em;}#sk-cd210507-caff-42ef-867b-7311d716f49e div.sk-label-container {position: relative;z-index: 2;text-align: center;}#sk-cd210507-caff-42ef-867b-7311d716f49e div.sk-container {display: inline-block;position: relative;}</style><div id=\"sk-cd210507-caff-42ef-867b-7311d716f49e\" class\"sk-top-container\"><div class=\"sk-container\"><div class=\"sk-item\"><div class=\"sk-estimator sk-toggleable\"><input class=\"sk-toggleable__control sk-hidden--visually\" id=\"74758f22-5e3b-4c2c-b131-979a4c84c984\" type=\"checkbox\" checked><label class=\"sk-toggleable__label\" for=\"74758f22-5e3b-4c2c-b131-979a4c84c984\">RandomForestRegressor</label><div class=\"sk-toggleable__content\"><pre>RandomForestRegressor(random_state=42)</pre></div></div></div></div></div>"
      ],
      "text/plain": [
       "RandomForestRegressor(random_state=42)"
      ]
     },
     "execution_count": 10,
     "metadata": {},
     "output_type": "execute_result"
    }
   ],
   "source": [
    "# Fit the pipeline on the training data\n",
    "rf.fit(X_train, y_train)"
   ]
  },
  {
   "cell_type": "code",
   "execution_count": 11,
   "id": "1eb958d2",
   "metadata": {},
   "outputs": [],
   "source": [
    "# Use the pipeline to make predictions on the test data\n",
    "y_pred = rf.predict(X_test)"
   ]
  },
  {
   "cell_type": "code",
   "execution_count": 12,
   "id": "0f00330d",
   "metadata": {},
   "outputs": [
    {
     "name": "stdout",
     "output_type": "stream",
     "text": [
      "R-squared Score: 0.9878875769302083\n"
     ]
    }
   ],
   "source": [
    "from sklearn.metrics import r2_score\n",
    "\n",
    "# Calculate the R-squared score of the predictions\n",
    "r2 = r2_score(y_test, y_pred)\n",
    "print('R-squared Score:', r2)"
   ]
  },
  {
   "cell_type": "code",
   "execution_count": 13,
   "id": "d04d86da",
   "metadata": {},
   "outputs": [
    {
     "name": "stdout",
     "output_type": "stream",
     "text": [
      "Fitting 5 folds for each of 108 candidates, totalling 540 fits\n"
     ]
    },
    {
     "data": {
      "text/html": [
       "<style>#sk-8e9da107-ae6a-4181-ba9c-9844f55ba876 {color: black;background-color: white;}#sk-8e9da107-ae6a-4181-ba9c-9844f55ba876 pre{padding: 0;}#sk-8e9da107-ae6a-4181-ba9c-9844f55ba876 div.sk-toggleable {background-color: white;}#sk-8e9da107-ae6a-4181-ba9c-9844f55ba876 label.sk-toggleable__label {cursor: pointer;display: block;width: 100%;margin-bottom: 0;padding: 0.2em 0.3em;box-sizing: border-box;text-align: center;}#sk-8e9da107-ae6a-4181-ba9c-9844f55ba876 div.sk-toggleable__content {max-height: 0;max-width: 0;overflow: hidden;text-align: left;background-color: #f0f8ff;}#sk-8e9da107-ae6a-4181-ba9c-9844f55ba876 div.sk-toggleable__content pre {margin: 0.2em;color: black;border-radius: 0.25em;background-color: #f0f8ff;}#sk-8e9da107-ae6a-4181-ba9c-9844f55ba876 input.sk-toggleable__control:checked~div.sk-toggleable__content {max-height: 200px;max-width: 100%;overflow: auto;}#sk-8e9da107-ae6a-4181-ba9c-9844f55ba876 div.sk-estimator input.sk-toggleable__control:checked~label.sk-toggleable__label {background-color: #d4ebff;}#sk-8e9da107-ae6a-4181-ba9c-9844f55ba876 div.sk-label input.sk-toggleable__control:checked~label.sk-toggleable__label {background-color: #d4ebff;}#sk-8e9da107-ae6a-4181-ba9c-9844f55ba876 input.sk-hidden--visually {border: 0;clip: rect(1px 1px 1px 1px);clip: rect(1px, 1px, 1px, 1px);height: 1px;margin: -1px;overflow: hidden;padding: 0;position: absolute;width: 1px;}#sk-8e9da107-ae6a-4181-ba9c-9844f55ba876 div.sk-estimator {font-family: monospace;background-color: #f0f8ff;margin: 0.25em 0.25em;border: 1px dotted black;border-radius: 0.25em;box-sizing: border-box;}#sk-8e9da107-ae6a-4181-ba9c-9844f55ba876 div.sk-estimator:hover {background-color: #d4ebff;}#sk-8e9da107-ae6a-4181-ba9c-9844f55ba876 div.sk-parallel-item::after {content: \"\";width: 100%;border-bottom: 1px solid gray;flex-grow: 1;}#sk-8e9da107-ae6a-4181-ba9c-9844f55ba876 div.sk-label:hover label.sk-toggleable__label {background-color: #d4ebff;}#sk-8e9da107-ae6a-4181-ba9c-9844f55ba876 div.sk-serial::before {content: \"\";position: absolute;border-left: 1px solid gray;box-sizing: border-box;top: 2em;bottom: 0;left: 50%;}#sk-8e9da107-ae6a-4181-ba9c-9844f55ba876 div.sk-serial {display: flex;flex-direction: column;align-items: center;background-color: white;}#sk-8e9da107-ae6a-4181-ba9c-9844f55ba876 div.sk-item {z-index: 1;}#sk-8e9da107-ae6a-4181-ba9c-9844f55ba876 div.sk-parallel {display: flex;align-items: stretch;justify-content: center;background-color: white;}#sk-8e9da107-ae6a-4181-ba9c-9844f55ba876 div.sk-parallel-item {display: flex;flex-direction: column;position: relative;background-color: white;}#sk-8e9da107-ae6a-4181-ba9c-9844f55ba876 div.sk-parallel-item:first-child::after {align-self: flex-end;width: 50%;}#sk-8e9da107-ae6a-4181-ba9c-9844f55ba876 div.sk-parallel-item:last-child::after {align-self: flex-start;width: 50%;}#sk-8e9da107-ae6a-4181-ba9c-9844f55ba876 div.sk-parallel-item:only-child::after {width: 0;}#sk-8e9da107-ae6a-4181-ba9c-9844f55ba876 div.sk-dashed-wrapped {border: 1px dashed gray;margin: 0.2em;box-sizing: border-box;padding-bottom: 0.1em;background-color: white;position: relative;}#sk-8e9da107-ae6a-4181-ba9c-9844f55ba876 div.sk-label label {font-family: monospace;font-weight: bold;background-color: white;display: inline-block;line-height: 1.2em;}#sk-8e9da107-ae6a-4181-ba9c-9844f55ba876 div.sk-label-container {position: relative;z-index: 2;text-align: center;}#sk-8e9da107-ae6a-4181-ba9c-9844f55ba876 div.sk-container {display: inline-block;position: relative;}</style><div id=\"sk-8e9da107-ae6a-4181-ba9c-9844f55ba876\" class\"sk-top-container\"><div class=\"sk-container\"><div class=\"sk-item sk-dashed-wrapped\"><div class=\"sk-label-container\"><div class=\"sk-label sk-toggleable\"><input class=\"sk-toggleable__control sk-hidden--visually\" id=\"fe2dc4d5-6747-4e1d-8361-80fea6532193\" type=\"checkbox\" ><label class=\"sk-toggleable__label\" for=\"fe2dc4d5-6747-4e1d-8361-80fea6532193\">GridSearchCV</label><div class=\"sk-toggleable__content\"><pre>GridSearchCV(cv=5,\n",
       "             estimator=Pipeline(steps=[('regressor',\n",
       "                                        RandomForestRegressor(random_state=42))]),\n",
       "             n_jobs=-1,\n",
       "             param_grid={'regressor__max_depth': [5, 10, 15, None],\n",
       "                         'regressor__min_samples_leaf': [1, 2, 4],\n",
       "                         'regressor__min_samples_split': [2, 5, 10],\n",
       "                         'regressor__n_estimators': [100, 200, 300]},\n",
       "             verbose=2)</pre></div></div></div><div class=\"sk-parallel\"><div class=\"sk-parallel-item\"><div class=\"sk-item\"><div class=\"sk-serial\"><div class=\"sk-item\"><div class=\"sk-serial\"><div class=\"sk-item\"><div class=\"sk-estimator sk-toggleable\"><input class=\"sk-toggleable__control sk-hidden--visually\" id=\"f16ac882-1018-4eea-97fa-aa66e4fe43b7\" type=\"checkbox\" ><label class=\"sk-toggleable__label\" for=\"f16ac882-1018-4eea-97fa-aa66e4fe43b7\">RandomForestRegressor</label><div class=\"sk-toggleable__content\"><pre>RandomForestRegressor(random_state=42)</pre></div></div></div></div></div></div></div></div></div></div></div></div>"
      ],
      "text/plain": [
       "GridSearchCV(cv=5,\n",
       "             estimator=Pipeline(steps=[('regressor',\n",
       "                                        RandomForestRegressor(random_state=42))]),\n",
       "             n_jobs=-1,\n",
       "             param_grid={'regressor__max_depth': [5, 10, 15, None],\n",
       "                         'regressor__min_samples_leaf': [1, 2, 4],\n",
       "                         'regressor__min_samples_split': [2, 5, 10],\n",
       "                         'regressor__n_estimators': [100, 200, 300]},\n",
       "             verbose=2)"
      ]
     },
     "execution_count": 13,
     "metadata": {},
     "output_type": "execute_result"
    }
   ],
   "source": [
    "# Create a pipeline\n",
    "pipeline = Pipeline([\n",
    "    ('regressor', RandomForestRegressor(random_state=42))\n",
    "])\n",
    "\n",
    "# Define the grid search parameters\n",
    "param_grid = {\n",
    "    'regressor__n_estimators': [100, 200, 300],\n",
    "    'regressor__max_depth': [5, 10, 15, None],\n",
    "    'regressor__min_samples_split': [2, 5, 10],\n",
    "    'regressor__min_samples_leaf': [1, 2, 4],\n",
    "}\n",
    "\n",
    "# Instantiate the grid search object\n",
    "grid_search = GridSearchCV(\n",
    "    pipeline, param_grid=param_grid, cv=5, n_jobs=-1, verbose=2)\n",
    "\n",
    "# Fit the pipeline on the training data\n",
    "grid_search.fit(X_train, y_train)\n"
   ]
  },
  {
   "cell_type": "code",
   "execution_count": 13,
   "id": "f7c3d49a",
   "metadata": {},
   "outputs": [
    {
     "name": "stdout",
     "output_type": "stream",
     "text": [
      "Best parameters:  {'regressor__max_depth': 15, 'regressor__min_samples_leaf': 4, 'regressor__min_samples_split': 10, 'regressor__n_estimators': 300}\n",
      "Best score:  0.9881109895053124\n"
     ]
    }
   ],
   "source": [
    "print(\"Best parameters: \", grid_search.best_params_)\n",
    "print(\"Best score: \", grid_search.best_score_)"
   ]
  },
  {
   "cell_type": "code",
   "execution_count": null,
   "id": "e733935a",
   "metadata": {},
   "outputs": [],
   "source": []
  }
 ],
 "metadata": {
  "kernelspec": {
   "display_name": "Python 3 (ipykernel)",
   "language": "python",
   "name": "python3"
  },
  "language_info": {
   "codemirror_mode": {
    "name": "ipython",
    "version": 3
   },
   "file_extension": ".py",
   "mimetype": "text/x-python",
   "name": "python",
   "nbconvert_exporter": "python",
   "pygments_lexer": "ipython3",
   "version": "3.9.7"
  }
 },
 "nbformat": 4,
 "nbformat_minor": 5
}
