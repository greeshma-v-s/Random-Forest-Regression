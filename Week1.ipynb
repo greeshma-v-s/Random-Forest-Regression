{
 "cells": [
  {
   "cell_type": "code",
   "execution_count": 72,
   "id": "5f2e1b11",
   "metadata": {},
   "outputs": [],
   "source": [
    "import numpy as np\n",
    "import pandas as pd\n",
    "from sklearn.datasets import make_classification"
   ]
  },
  {
   "cell_type": "code",
   "execution_count": 73,
   "id": "bbd4a766",
   "metadata": {},
   "outputs": [],
   "source": [
    "X,y = make_classification(n_features=5, n_redundant=0, n_informative=5,n_clusters_per_class=1)"
   ]
  },
  {
   "cell_type": "code",
   "execution_count": 74,
   "id": "8101dbf6",
   "metadata": {},
   "outputs": [
    {
     "name": "stdout",
     "output_type": "stream",
     "text": [
      "(100, 6)\n"
     ]
    },
    {
     "data": {
      "text/html": [
       "<div>\n",
       "<style scoped>\n",
       "    .dataframe tbody tr th:only-of-type {\n",
       "        vertical-align: middle;\n",
       "    }\n",
       "\n",
       "    .dataframe tbody tr th {\n",
       "        vertical-align: top;\n",
       "    }\n",
       "\n",
       "    .dataframe thead th {\n",
       "        text-align: right;\n",
       "    }\n",
       "</style>\n",
       "<table border=\"1\" class=\"dataframe\">\n",
       "  <thead>\n",
       "    <tr style=\"text-align: right;\">\n",
       "      <th></th>\n",
       "      <th>col1</th>\n",
       "      <th>col2</th>\n",
       "      <th>col3</th>\n",
       "      <th>col4</th>\n",
       "      <th>col5</th>\n",
       "      <th>target</th>\n",
       "    </tr>\n",
       "  </thead>\n",
       "  <tbody>\n",
       "    <tr>\n",
       "      <th>0</th>\n",
       "      <td>-1.878060</td>\n",
       "      <td>-1.610822</td>\n",
       "      <td>0.162815</td>\n",
       "      <td>-2.437499</td>\n",
       "      <td>0.253494</td>\n",
       "      <td>0</td>\n",
       "    </tr>\n",
       "    <tr>\n",
       "      <th>1</th>\n",
       "      <td>-0.066578</td>\n",
       "      <td>-0.383685</td>\n",
       "      <td>0.926875</td>\n",
       "      <td>-0.218484</td>\n",
       "      <td>-2.483028</td>\n",
       "      <td>1</td>\n",
       "    </tr>\n",
       "    <tr>\n",
       "      <th>2</th>\n",
       "      <td>-0.079479</td>\n",
       "      <td>-3.649615</td>\n",
       "      <td>0.983603</td>\n",
       "      <td>-1.912815</td>\n",
       "      <td>2.593036</td>\n",
       "      <td>0</td>\n",
       "    </tr>\n",
       "    <tr>\n",
       "      <th>3</th>\n",
       "      <td>2.446831</td>\n",
       "      <td>-3.836551</td>\n",
       "      <td>-0.320051</td>\n",
       "      <td>2.617568</td>\n",
       "      <td>-0.594828</td>\n",
       "      <td>1</td>\n",
       "    </tr>\n",
       "    <tr>\n",
       "      <th>4</th>\n",
       "      <td>2.162770</td>\n",
       "      <td>-0.988430</td>\n",
       "      <td>0.487003</td>\n",
       "      <td>-0.463850</td>\n",
       "      <td>1.178145</td>\n",
       "      <td>1</td>\n",
       "    </tr>\n",
       "  </tbody>\n",
       "</table>\n",
       "</div>"
      ],
      "text/plain": [
       "       col1      col2      col3      col4      col5  target\n",
       "0 -1.878060 -1.610822  0.162815 -2.437499  0.253494       0\n",
       "1 -0.066578 -0.383685  0.926875 -0.218484 -2.483028       1\n",
       "2 -0.079479 -3.649615  0.983603 -1.912815  2.593036       0\n",
       "3  2.446831 -3.836551 -0.320051  2.617568 -0.594828       1\n",
       "4  2.162770 -0.988430  0.487003 -0.463850  1.178145       1"
      ]
     },
     "execution_count": 74,
     "metadata": {},
     "output_type": "execute_result"
    }
   ],
   "source": [
    "df = pd.DataFrame(X,columns=['col1','col2','col3','col4','col5'])\n",
    "df['target'] = y\n",
    "print(df.shape)\n",
    "df.head()"
   ]
  },
  {
   "cell_type": "code",
   "execution_count": 50,
   "id": "784fe3cb",
   "metadata": {},
   "outputs": [],
   "source": [
    "# function for row sampling\n",
    "\n",
    "def sample_rows(df,percent):\n",
    "  return df.sample(int(percent*df.shape[0]),replace=True)"
   ]
  },
  {
   "cell_type": "code",
   "execution_count": 75,
   "id": "a5b0d6a0",
   "metadata": {},
   "outputs": [],
   "source": [
    "# function for feature sampling\n",
    "def sample_features(df,percent):\n",
    "  cols = random.sample(df.columns.tolist()[:-1],int(percent*(df.shape[1]-1)))\n",
    "  new_df = df[cols]\n",
    "  new_df['target'] = df['target']\n",
    "  return new_df"
   ]
  },
  {
   "cell_type": "code",
   "execution_count": 45,
   "id": "fddf4b16",
   "metadata": {},
   "outputs": [],
   "source": [
    "# function for combined sampling\n",
    "\n",
    "def combined_sampling(df,row_percent,col_percent):\n",
    "  new_df = sample_rows(df,row_percent)\n",
    "  return sample_features(new_df,col_percent)"
   ]
  },
  {
   "cell_type": "code",
   "execution_count": 77,
   "id": "957a2261",
   "metadata": {},
   "outputs": [],
   "source": [
    "import random"
   ]
  },
  {
   "cell_type": "markdown",
   "id": "90966d70",
   "metadata": {},
   "source": [
    "## Row sampling"
   ]
  },
  {
   "cell_type": "code",
   "execution_count": 52,
   "id": "d4c91b23",
   "metadata": {},
   "outputs": [
    {
     "data": {
      "text/html": [
       "<div>\n",
       "<style scoped>\n",
       "    .dataframe tbody tr th:only-of-type {\n",
       "        vertical-align: middle;\n",
       "    }\n",
       "\n",
       "    .dataframe tbody tr th {\n",
       "        vertical-align: top;\n",
       "    }\n",
       "\n",
       "    .dataframe thead th {\n",
       "        text-align: right;\n",
       "    }\n",
       "</style>\n",
       "<table border=\"1\" class=\"dataframe\">\n",
       "  <thead>\n",
       "    <tr style=\"text-align: right;\">\n",
       "      <th></th>\n",
       "      <th>col1</th>\n",
       "      <th>col2</th>\n",
       "      <th>col3</th>\n",
       "      <th>col4</th>\n",
       "      <th>col5</th>\n",
       "      <th>target</th>\n",
       "    </tr>\n",
       "  </thead>\n",
       "  <tbody>\n",
       "    <tr>\n",
       "      <th>90</th>\n",
       "      <td>0.576140</td>\n",
       "      <td>2.243057</td>\n",
       "      <td>2.283388</td>\n",
       "      <td>0.564374</td>\n",
       "      <td>1.558718</td>\n",
       "      <td>0</td>\n",
       "    </tr>\n",
       "    <tr>\n",
       "      <th>28</th>\n",
       "      <td>0.238056</td>\n",
       "      <td>0.714554</td>\n",
       "      <td>0.708758</td>\n",
       "      <td>-0.020218</td>\n",
       "      <td>-0.626640</td>\n",
       "      <td>0</td>\n",
       "    </tr>\n",
       "    <tr>\n",
       "      <th>97</th>\n",
       "      <td>-0.445251</td>\n",
       "      <td>-1.416322</td>\n",
       "      <td>-1.431606</td>\n",
       "      <td>-2.965280</td>\n",
       "      <td>-2.095122</td>\n",
       "      <td>0</td>\n",
       "    </tr>\n",
       "    <tr>\n",
       "      <th>57</th>\n",
       "      <td>-0.734436</td>\n",
       "      <td>0.307563</td>\n",
       "      <td>0.625239</td>\n",
       "      <td>-2.108559</td>\n",
       "      <td>0.699602</td>\n",
       "      <td>0</td>\n",
       "    </tr>\n",
       "    <tr>\n",
       "      <th>29</th>\n",
       "      <td>-1.594527</td>\n",
       "      <td>-1.946433</td>\n",
       "      <td>1.517258</td>\n",
       "      <td>0.624346</td>\n",
       "      <td>1.658472</td>\n",
       "      <td>1</td>\n",
       "    </tr>\n",
       "    <tr>\n",
       "      <th>81</th>\n",
       "      <td>-1.106775</td>\n",
       "      <td>-1.539290</td>\n",
       "      <td>2.821398</td>\n",
       "      <td>0.206291</td>\n",
       "      <td>0.317296</td>\n",
       "      <td>1</td>\n",
       "    </tr>\n",
       "    <tr>\n",
       "      <th>22</th>\n",
       "      <td>-0.796506</td>\n",
       "      <td>-0.244468</td>\n",
       "      <td>2.158243</td>\n",
       "      <td>1.260787</td>\n",
       "      <td>2.437588</td>\n",
       "      <td>1</td>\n",
       "    </tr>\n",
       "    <tr>\n",
       "      <th>1</th>\n",
       "      <td>-0.321625</td>\n",
       "      <td>1.181302</td>\n",
       "      <td>-2.531576</td>\n",
       "      <td>-1.667202</td>\n",
       "      <td>0.472509</td>\n",
       "      <td>0</td>\n",
       "    </tr>\n",
       "    <tr>\n",
       "      <th>30</th>\n",
       "      <td>-1.010349</td>\n",
       "      <td>-0.742243</td>\n",
       "      <td>0.928536</td>\n",
       "      <td>0.978491</td>\n",
       "      <td>1.372209</td>\n",
       "      <td>1</td>\n",
       "    </tr>\n",
       "    <tr>\n",
       "      <th>11</th>\n",
       "      <td>1.945789</td>\n",
       "      <td>1.783160</td>\n",
       "      <td>-0.070898</td>\n",
       "      <td>1.137199</td>\n",
       "      <td>2.016620</td>\n",
       "      <td>0</td>\n",
       "    </tr>\n",
       "  </tbody>\n",
       "</table>\n",
       "</div>"
      ],
      "text/plain": [
       "        col1      col2      col3      col4      col5  target\n",
       "90  0.576140  2.243057  2.283388  0.564374  1.558718       0\n",
       "28  0.238056  0.714554  0.708758 -0.020218 -0.626640       0\n",
       "97 -0.445251 -1.416322 -1.431606 -2.965280 -2.095122       0\n",
       "57 -0.734436  0.307563  0.625239 -2.108559  0.699602       0\n",
       "29 -1.594527 -1.946433  1.517258  0.624346  1.658472       1\n",
       "81 -1.106775 -1.539290  2.821398  0.206291  0.317296       1\n",
       "22 -0.796506 -0.244468  2.158243  1.260787  2.437588       1\n",
       "1  -0.321625  1.181302 -2.531576 -1.667202  0.472509       0\n",
       "30 -1.010349 -0.742243  0.928536  0.978491  1.372209       1\n",
       "11  1.945789  1.783160 -0.070898  1.137199  2.016620       0"
      ]
     },
     "execution_count": 52,
     "metadata": {},
     "output_type": "execute_result"
    }
   ],
   "source": [
    "sample_rows(df,0.1)"
   ]
  },
  {
   "cell_type": "code",
   "execution_count": 53,
   "id": "2023b5c5",
   "metadata": {},
   "outputs": [],
   "source": [
    "df1=sample_rows(df,0.1)"
   ]
  },
  {
   "cell_type": "code",
   "execution_count": 54,
   "id": "3ffc3382",
   "metadata": {},
   "outputs": [],
   "source": [
    "df2=sample_rows(df,0.1)"
   ]
  },
  {
   "cell_type": "code",
   "execution_count": 55,
   "id": "1817a44a",
   "metadata": {},
   "outputs": [],
   "source": [
    "df3=sample_rows(df,0.1)"
   ]
  },
  {
   "cell_type": "code",
   "execution_count": 56,
   "id": "c9200399",
   "metadata": {},
   "outputs": [
    {
     "data": {
      "text/plain": [
       "(10, 6)"
      ]
     },
     "execution_count": 56,
     "metadata": {},
     "output_type": "execute_result"
    }
   ],
   "source": [
    "df1.shape"
   ]
  },
  {
   "cell_type": "markdown",
   "id": "72f35dc3",
   "metadata": {},
   "source": [
    "## column sampling"
   ]
  },
  {
   "cell_type": "code",
   "execution_count": 80,
   "id": "e966680c",
   "metadata": {},
   "outputs": [
    {
     "name": "stderr",
     "output_type": "stream",
     "text": [
      "C:\\Users\\91944\\AppData\\Local\\Temp/ipykernel_76012/3275485051.py:5: SettingWithCopyWarning: \n",
      "A value is trying to be set on a copy of a slice from a DataFrame.\n",
      "Try using .loc[row_indexer,col_indexer] = value instead\n",
      "\n",
      "See the caveats in the documentation: https://pandas.pydata.org/pandas-docs/stable/user_guide/indexing.html#returning-a-view-versus-a-copy\n",
      "  new_df['target'] = df['target']\n"
     ]
    },
    {
     "data": {
      "text/html": [
       "<div>\n",
       "<style scoped>\n",
       "    .dataframe tbody tr th:only-of-type {\n",
       "        vertical-align: middle;\n",
       "    }\n",
       "\n",
       "    .dataframe tbody tr th {\n",
       "        vertical-align: top;\n",
       "    }\n",
       "\n",
       "    .dataframe thead th {\n",
       "        text-align: right;\n",
       "    }\n",
       "</style>\n",
       "<table border=\"1\" class=\"dataframe\">\n",
       "  <thead>\n",
       "    <tr style=\"text-align: right;\">\n",
       "      <th></th>\n",
       "      <th>col3</th>\n",
       "      <th>col4</th>\n",
       "      <th>col1</th>\n",
       "      <th>col2</th>\n",
       "      <th>target</th>\n",
       "    </tr>\n",
       "  </thead>\n",
       "  <tbody>\n",
       "    <tr>\n",
       "      <th>0</th>\n",
       "      <td>0.162815</td>\n",
       "      <td>-2.437499</td>\n",
       "      <td>-1.878060</td>\n",
       "      <td>-1.610822</td>\n",
       "      <td>0</td>\n",
       "    </tr>\n",
       "    <tr>\n",
       "      <th>1</th>\n",
       "      <td>0.926875</td>\n",
       "      <td>-0.218484</td>\n",
       "      <td>-0.066578</td>\n",
       "      <td>-0.383685</td>\n",
       "      <td>1</td>\n",
       "    </tr>\n",
       "    <tr>\n",
       "      <th>2</th>\n",
       "      <td>0.983603</td>\n",
       "      <td>-1.912815</td>\n",
       "      <td>-0.079479</td>\n",
       "      <td>-3.649615</td>\n",
       "      <td>0</td>\n",
       "    </tr>\n",
       "    <tr>\n",
       "      <th>3</th>\n",
       "      <td>-0.320051</td>\n",
       "      <td>2.617568</td>\n",
       "      <td>2.446831</td>\n",
       "      <td>-3.836551</td>\n",
       "      <td>1</td>\n",
       "    </tr>\n",
       "    <tr>\n",
       "      <th>4</th>\n",
       "      <td>0.487003</td>\n",
       "      <td>-0.463850</td>\n",
       "      <td>2.162770</td>\n",
       "      <td>-0.988430</td>\n",
       "      <td>1</td>\n",
       "    </tr>\n",
       "    <tr>\n",
       "      <th>...</th>\n",
       "      <td>...</td>\n",
       "      <td>...</td>\n",
       "      <td>...</td>\n",
       "      <td>...</td>\n",
       "      <td>...</td>\n",
       "    </tr>\n",
       "    <tr>\n",
       "      <th>95</th>\n",
       "      <td>1.645207</td>\n",
       "      <td>1.480257</td>\n",
       "      <td>2.529566</td>\n",
       "      <td>-0.599244</td>\n",
       "      <td>1</td>\n",
       "    </tr>\n",
       "    <tr>\n",
       "      <th>96</th>\n",
       "      <td>-1.138144</td>\n",
       "      <td>-1.462089</td>\n",
       "      <td>-1.512602</td>\n",
       "      <td>-1.128502</td>\n",
       "      <td>0</td>\n",
       "    </tr>\n",
       "    <tr>\n",
       "      <th>97</th>\n",
       "      <td>-2.311045</td>\n",
       "      <td>-0.247703</td>\n",
       "      <td>-1.314240</td>\n",
       "      <td>-0.683831</td>\n",
       "      <td>0</td>\n",
       "    </tr>\n",
       "    <tr>\n",
       "      <th>98</th>\n",
       "      <td>0.783339</td>\n",
       "      <td>1.222526</td>\n",
       "      <td>1.747886</td>\n",
       "      <td>-1.193744</td>\n",
       "      <td>1</td>\n",
       "    </tr>\n",
       "    <tr>\n",
       "      <th>99</th>\n",
       "      <td>0.554273</td>\n",
       "      <td>-3.132946</td>\n",
       "      <td>-2.647443</td>\n",
       "      <td>-2.956660</td>\n",
       "      <td>0</td>\n",
       "    </tr>\n",
       "  </tbody>\n",
       "</table>\n",
       "<p>100 rows × 5 columns</p>\n",
       "</div>"
      ],
      "text/plain": [
       "        col3      col4      col1      col2  target\n",
       "0   0.162815 -2.437499 -1.878060 -1.610822       0\n",
       "1   0.926875 -0.218484 -0.066578 -0.383685       1\n",
       "2   0.983603 -1.912815 -0.079479 -3.649615       0\n",
       "3  -0.320051  2.617568  2.446831 -3.836551       1\n",
       "4   0.487003 -0.463850  2.162770 -0.988430       1\n",
       "..       ...       ...       ...       ...     ...\n",
       "95  1.645207  1.480257  2.529566 -0.599244       1\n",
       "96 -1.138144 -1.462089 -1.512602 -1.128502       0\n",
       "97 -2.311045 -0.247703 -1.314240 -0.683831       0\n",
       "98  0.783339  1.222526  1.747886 -1.193744       1\n",
       "99  0.554273 -3.132946 -2.647443 -2.956660       0\n",
       "\n",
       "[100 rows x 5 columns]"
      ]
     },
     "execution_count": 80,
     "metadata": {},
     "output_type": "execute_result"
    }
   ],
   "source": [
    "sample_features(df,0.8)"
   ]
  },
  {
   "cell_type": "code",
   "execution_count": 81,
   "id": "572aa41c",
   "metadata": {},
   "outputs": [
    {
     "name": "stderr",
     "output_type": "stream",
     "text": [
      "C:\\Users\\91944\\AppData\\Local\\Temp/ipykernel_76012/3275485051.py:5: SettingWithCopyWarning: \n",
      "A value is trying to be set on a copy of a slice from a DataFrame.\n",
      "Try using .loc[row_indexer,col_indexer] = value instead\n",
      "\n",
      "See the caveats in the documentation: https://pandas.pydata.org/pandas-docs/stable/user_guide/indexing.html#returning-a-view-versus-a-copy\n",
      "  new_df['target'] = df['target']\n"
     ]
    }
   ],
   "source": [
    "df1=sample_features(df,0.8)"
   ]
  },
  {
   "cell_type": "code",
   "execution_count": 154,
   "id": "0daa54be",
   "metadata": {},
   "outputs": [
    {
     "name": "stderr",
     "output_type": "stream",
     "text": [
      "C:\\Users\\91944\\AppData\\Local\\Temp/ipykernel_80596/3275485051.py:5: SettingWithCopyWarning: \n",
      "A value is trying to be set on a copy of a slice from a DataFrame.\n",
      "Try using .loc[row_indexer,col_indexer] = value instead\n",
      "\n",
      "See the caveats in the documentation: https://pandas.pydata.org/pandas-docs/stable/user_guide/indexing.html#returning-a-view-versus-a-copy\n",
      "  new_df['target'] = df['target']\n"
     ]
    }
   ],
   "source": [
    "df2=sample_features(df,0.8)"
   ]
  },
  {
   "cell_type": "code",
   "execution_count": 155,
   "id": "600a89c8",
   "metadata": {},
   "outputs": [
    {
     "name": "stderr",
     "output_type": "stream",
     "text": [
      "C:\\Users\\91944\\AppData\\Local\\Temp/ipykernel_80596/3275485051.py:5: SettingWithCopyWarning: \n",
      "A value is trying to be set on a copy of a slice from a DataFrame.\n",
      "Try using .loc[row_indexer,col_indexer] = value instead\n",
      "\n",
      "See the caveats in the documentation: https://pandas.pydata.org/pandas-docs/stable/user_guide/indexing.html#returning-a-view-versus-a-copy\n",
      "  new_df['target'] = df['target']\n"
     ]
    }
   ],
   "source": [
    "df3=sample_features(df,0.8)"
   ]
  },
  {
   "cell_type": "code",
   "execution_count": 137,
   "id": "8163b199",
   "metadata": {},
   "outputs": [
    {
     "data": {
      "text/plain": [
       "(100, 5)"
      ]
     },
     "execution_count": 137,
     "metadata": {},
     "output_type": "execute_result"
    }
   ],
   "source": [
    "df1.shape"
   ]
  },
  {
   "cell_type": "markdown",
   "id": "7fc0c929",
   "metadata": {},
   "source": [
    "## Row and column Sampling"
   ]
  },
  {
   "cell_type": "code",
   "execution_count": 164,
   "id": "d55decd5",
   "metadata": {},
   "outputs": [
    {
     "name": "stderr",
     "output_type": "stream",
     "text": [
      "C:\\Users\\91944\\AppData\\Local\\Temp/ipykernel_80596/3275485051.py:5: SettingWithCopyWarning: \n",
      "A value is trying to be set on a copy of a slice from a DataFrame.\n",
      "Try using .loc[row_indexer,col_indexer] = value instead\n",
      "\n",
      "See the caveats in the documentation: https://pandas.pydata.org/pandas-docs/stable/user_guide/indexing.html#returning-a-view-versus-a-copy\n",
      "  new_df['target'] = df['target']\n"
     ]
    }
   ],
   "source": [
    "df1 = combined_sampling(df,0.5,0.5)"
   ]
  },
  {
   "cell_type": "code",
   "execution_count": 165,
   "id": "a918aab0",
   "metadata": {},
   "outputs": [
    {
     "name": "stderr",
     "output_type": "stream",
     "text": [
      "C:\\Users\\91944\\AppData\\Local\\Temp/ipykernel_80596/3275485051.py:5: SettingWithCopyWarning: \n",
      "A value is trying to be set on a copy of a slice from a DataFrame.\n",
      "Try using .loc[row_indexer,col_indexer] = value instead\n",
      "\n",
      "See the caveats in the documentation: https://pandas.pydata.org/pandas-docs/stable/user_guide/indexing.html#returning-a-view-versus-a-copy\n",
      "  new_df['target'] = df['target']\n"
     ]
    }
   ],
   "source": [
    "df2 = combined_sampling(df,0.5,0.5)"
   ]
  },
  {
   "cell_type": "code",
   "execution_count": 166,
   "id": "7b638e04",
   "metadata": {},
   "outputs": [
    {
     "name": "stderr",
     "output_type": "stream",
     "text": [
      "C:\\Users\\91944\\AppData\\Local\\Temp/ipykernel_80596/3275485051.py:5: SettingWithCopyWarning: \n",
      "A value is trying to be set on a copy of a slice from a DataFrame.\n",
      "Try using .loc[row_indexer,col_indexer] = value instead\n",
      "\n",
      "See the caveats in the documentation: https://pandas.pydata.org/pandas-docs/stable/user_guide/indexing.html#returning-a-view-versus-a-copy\n",
      "  new_df['target'] = df['target']\n"
     ]
    }
   ],
   "source": [
    "df3 = combined_sampling(df,0.5,0.5)"
   ]
  },
  {
   "cell_type": "code",
   "execution_count": 57,
   "id": "3e2b8200",
   "metadata": {},
   "outputs": [
    {
     "name": "stdout",
     "output_type": "stream",
     "text": [
      "Index(['col1', 'col2', 'col3', 'col4', 'col5', 'target'], dtype='object')\n",
      "Index(['col1', 'col2', 'col3', 'col4', 'col5', 'target'], dtype='object')\n",
      "Index(['col1', 'col2', 'col3', 'col4', 'col5', 'target'], dtype='object')\n"
     ]
    }
   ],
   "source": [
    "print(df1.columns)\n",
    "print(df2.columns)\n",
    "print(df3.columns)"
   ]
  },
  {
   "cell_type": "code",
   "execution_count": 58,
   "id": "176a9375",
   "metadata": {},
   "outputs": [
    {
     "data": {
      "text/html": [
       "<div>\n",
       "<style scoped>\n",
       "    .dataframe tbody tr th:only-of-type {\n",
       "        vertical-align: middle;\n",
       "    }\n",
       "\n",
       "    .dataframe tbody tr th {\n",
       "        vertical-align: top;\n",
       "    }\n",
       "\n",
       "    .dataframe thead th {\n",
       "        text-align: right;\n",
       "    }\n",
       "</style>\n",
       "<table border=\"1\" class=\"dataframe\">\n",
       "  <thead>\n",
       "    <tr style=\"text-align: right;\">\n",
       "      <th></th>\n",
       "      <th>col1</th>\n",
       "      <th>col2</th>\n",
       "      <th>col3</th>\n",
       "      <th>col4</th>\n",
       "      <th>col5</th>\n",
       "      <th>target</th>\n",
       "    </tr>\n",
       "  </thead>\n",
       "  <tbody>\n",
       "    <tr>\n",
       "      <th>73</th>\n",
       "      <td>0.545174</td>\n",
       "      <td>0.663547</td>\n",
       "      <td>-0.972792</td>\n",
       "      <td>-1.597573</td>\n",
       "      <td>1.346840</td>\n",
       "      <td>0</td>\n",
       "    </tr>\n",
       "    <tr>\n",
       "      <th>5</th>\n",
       "      <td>3.409045</td>\n",
       "      <td>0.743152</td>\n",
       "      <td>-1.387463</td>\n",
       "      <td>0.363592</td>\n",
       "      <td>2.479993</td>\n",
       "      <td>0</td>\n",
       "    </tr>\n",
       "    <tr>\n",
       "      <th>27</th>\n",
       "      <td>2.387263</td>\n",
       "      <td>2.723869</td>\n",
       "      <td>2.123192</td>\n",
       "      <td>2.884544</td>\n",
       "      <td>0.917668</td>\n",
       "      <td>0</td>\n",
       "    </tr>\n",
       "    <tr>\n",
       "      <th>89</th>\n",
       "      <td>0.519414</td>\n",
       "      <td>-0.078568</td>\n",
       "      <td>-0.548341</td>\n",
       "      <td>2.583547</td>\n",
       "      <td>2.094081</td>\n",
       "      <td>1</td>\n",
       "    </tr>\n",
       "    <tr>\n",
       "      <th>94</th>\n",
       "      <td>1.485898</td>\n",
       "      <td>2.132055</td>\n",
       "      <td>0.600783</td>\n",
       "      <td>0.132431</td>\n",
       "      <td>2.280604</td>\n",
       "      <td>0</td>\n",
       "    </tr>\n",
       "    <tr>\n",
       "      <th>36</th>\n",
       "      <td>-2.499663</td>\n",
       "      <td>1.715061</td>\n",
       "      <td>1.524911</td>\n",
       "      <td>1.672006</td>\n",
       "      <td>0.049185</td>\n",
       "      <td>1</td>\n",
       "    </tr>\n",
       "    <tr>\n",
       "      <th>53</th>\n",
       "      <td>1.479294</td>\n",
       "      <td>-0.139826</td>\n",
       "      <td>3.955861</td>\n",
       "      <td>0.495861</td>\n",
       "      <td>0.319068</td>\n",
       "      <td>0</td>\n",
       "    </tr>\n",
       "    <tr>\n",
       "      <th>1</th>\n",
       "      <td>-0.321625</td>\n",
       "      <td>1.181302</td>\n",
       "      <td>-2.531576</td>\n",
       "      <td>-1.667202</td>\n",
       "      <td>0.472509</td>\n",
       "      <td>0</td>\n",
       "    </tr>\n",
       "    <tr>\n",
       "      <th>28</th>\n",
       "      <td>0.238056</td>\n",
       "      <td>0.714554</td>\n",
       "      <td>0.708758</td>\n",
       "      <td>-0.020218</td>\n",
       "      <td>-0.626640</td>\n",
       "      <td>0</td>\n",
       "    </tr>\n",
       "    <tr>\n",
       "      <th>80</th>\n",
       "      <td>1.820883</td>\n",
       "      <td>-2.214758</td>\n",
       "      <td>0.470669</td>\n",
       "      <td>2.189704</td>\n",
       "      <td>1.749186</td>\n",
       "      <td>1</td>\n",
       "    </tr>\n",
       "  </tbody>\n",
       "</table>\n",
       "</div>"
      ],
      "text/plain": [
       "        col1      col2      col3      col4      col5  target\n",
       "73  0.545174  0.663547 -0.972792 -1.597573  1.346840       0\n",
       "5   3.409045  0.743152 -1.387463  0.363592  2.479993       0\n",
       "27  2.387263  2.723869  2.123192  2.884544  0.917668       0\n",
       "89  0.519414 -0.078568 -0.548341  2.583547  2.094081       1\n",
       "94  1.485898  2.132055  0.600783  0.132431  2.280604       0\n",
       "36 -2.499663  1.715061  1.524911  1.672006  0.049185       1\n",
       "53  1.479294 -0.139826  3.955861  0.495861  0.319068       0\n",
       "1  -0.321625  1.181302 -2.531576 -1.667202  0.472509       0\n",
       "28  0.238056  0.714554  0.708758 -0.020218 -0.626640       0\n",
       "80  1.820883 -2.214758  0.470669  2.189704  1.749186       1"
      ]
     },
     "execution_count": 58,
     "metadata": {},
     "output_type": "execute_result"
    }
   ],
   "source": [
    "df3     "
   ]
  },
  {
   "cell_type": "code",
   "execution_count": 59,
   "id": "ea7f7f0f",
   "metadata": {},
   "outputs": [],
   "source": [
    "from sklearn.tree import DecisionTreeClassifier\n",
    "clf1 = DecisionTreeClassifier()\n",
    "clf2 = DecisionTreeClassifier()\n",
    "clf3 = DecisionTreeClassifier()"
   ]
  },
  {
   "cell_type": "code",
   "execution_count": 60,
   "id": "ad0c2087",
   "metadata": {},
   "outputs": [
    {
     "data": {
      "text/plain": [
       "DecisionTreeClassifier()"
      ]
     },
     "execution_count": 60,
     "metadata": {},
     "output_type": "execute_result"
    }
   ],
   "source": [
    "clf1.fit(df1.iloc[:,0:5],df1.iloc[:,-1])\n",
    "clf2.fit(df2.iloc[:,0:5],df2.iloc[:,-1])\n",
    "clf3.fit(df3.iloc[:,0:5],df3.iloc[:,-1])"
   ]
  },
  {
   "cell_type": "code",
   "execution_count": 61,
   "id": "6e8eb1fc",
   "metadata": {},
   "outputs": [],
   "source": [
    "from sklearn.tree import plot_tree"
   ]
  },
  {
   "cell_type": "code",
   "execution_count": 62,
   "id": "9c5c0b09",
   "metadata": {},
   "outputs": [
    {
     "data": {
      "text/plain": [
       "[Text(167.4, 163.07999999999998, 'X[0] <= -0.727\\ngini = 0.48\\nsamples = 10\\nvalue = [6, 4]'),\n",
       " Text(83.7, 54.360000000000014, 'gini = 0.0\\nsamples = 4\\nvalue = [0, 4]'),\n",
       " Text(251.10000000000002, 54.360000000000014, 'gini = 0.0\\nsamples = 6\\nvalue = [6, 0]')]"
      ]
     },
     "execution_count": 62,
     "metadata": {},
     "output_type": "execute_result"
    },
    {
     "data": {
      "image/png": "[encoded data removed]",
      "text/plain": [
       "<Figure size 432x288 with 1 Axes>"
      ]
     },
     "metadata": {
      "needs_background": "light"
     },
     "output_type": "display_data"
    }
   ],
   "source": [
    "plot_tree(clf1)"
   ]
  },
  {
   "cell_type": "code",
   "execution_count": 63,
   "id": "d72a9d66",
   "metadata": {},
   "outputs": [
    {
     "data": {
      "text/plain": [
       "[Text(167.4, 163.07999999999998, 'X[1] <= 0.046\\ngini = 0.48\\nsamples = 10\\nvalue = [6, 4]'),\n",
       " Text(83.7, 54.360000000000014, 'gini = 0.0\\nsamples = 4\\nvalue = [0, 4]'),\n",
       " Text(251.10000000000002, 54.360000000000014, 'gini = 0.0\\nsamples = 6\\nvalue = [6, 0]')]"
      ]
     },
     "execution_count": 63,
     "metadata": {},
     "output_type": "execute_result"
    },
    {
     "data": {
      "image/png": "[encoded data removed]",
      "text/plain": [
       "<Figure size 432x288 with 1 Axes>"
      ]
     },
     "metadata": {
      "needs_background": "light"
     },
     "output_type": "display_data"
    }
   ],
   "source": [
    "plot_tree(clf2)"
   ]
  },
  {
   "cell_type": "code",
   "execution_count": 64,
   "id": "9654dfae",
   "metadata": {},
   "outputs": [
    {
     "data": {
      "text/plain": [
       "[Text(133.92000000000002, 181.2, 'X[3] <= 1.084\\ngini = 0.42\\nsamples = 10\\nvalue = [7, 3]'),\n",
       " Text(66.96000000000001, 108.72, 'gini = 0.0\\nsamples = 6\\nvalue = [6, 0]'),\n",
       " Text(200.88000000000002, 108.72, 'X[2] <= 1.824\\ngini = 0.375\\nsamples = 4\\nvalue = [1, 3]'),\n",
       " Text(133.92000000000002, 36.23999999999998, 'gini = 0.0\\nsamples = 3\\nvalue = [0, 3]'),\n",
       " Text(267.84000000000003, 36.23999999999998, 'gini = 0.0\\nsamples = 1\\nvalue = [1, 0]')]"
      ]
     },
     "execution_count": 64,
     "metadata": {},
     "output_type": "execute_result"
    },
    {
     "data": {
      "image/png": "[encoded data removed]",
      "text/plain": [
       "<Figure size 432x288 with 1 Axes>"
      ]
     },
     "metadata": {
      "needs_background": "light"
     },
     "output_type": "display_data"
    }
   ],
   "source": [
    "plot_tree(clf3)"
   ]
  },
  {
   "cell_type": "code",
   "execution_count": 65,
   "id": "a7db2ca7",
   "metadata": {},
   "outputs": [
    {
     "data": {
      "text/plain": [
       "array([0])"
      ]
     },
     "execution_count": 65,
     "metadata": {},
     "output_type": "execute_result"
    }
   ],
   "source": [
    "clf1.predict(np.array([0.545174,0.663547,-0.972792,-1.597573,1.346840]).reshape(1,5))"
   ]
  },
  {
   "cell_type": "code",
   "execution_count": 66,
   "id": "43fecda3",
   "metadata": {},
   "outputs": [
    {
     "data": {
      "text/plain": [
       "array([0])"
      ]
     },
     "execution_count": 66,
     "metadata": {},
     "output_type": "execute_result"
    }
   ],
   "source": [
    "clf2.predict(np.array([0.545174,0.663547,-0.972792,-1.597573,1.346840]).reshape(1,5))"
   ]
  },
  {
   "cell_type": "code",
   "execution_count": 67,
   "id": "ac8bf5de",
   "metadata": {},
   "outputs": [
    {
     "data": {
      "text/plain": [
       "array([0])"
      ]
     },
     "execution_count": 67,
     "metadata": {},
     "output_type": "execute_result"
    }
   ],
   "source": [
    "clf3.predict(np.array([0.545174,0.663547,-0.972792,-1.597573,1.346840]).reshape(1,5))"
   ]
  },
  {
   "cell_type": "code",
   "execution_count": 32,
   "id": "f6495602",
   "metadata": {},
   "outputs": [
    {
     "data": {
      "text/html": [
       "<div>\n",
       "<style scoped>\n",
       "    .dataframe tbody tr th:only-of-type {\n",
       "        vertical-align: middle;\n",
       "    }\n",
       "\n",
       "    .dataframe tbody tr th {\n",
       "        vertical-align: top;\n",
       "    }\n",
       "\n",
       "    .dataframe thead th {\n",
       "        text-align: right;\n",
       "    }\n",
       "</style>\n",
       "<table border=\"1\" class=\"dataframe\">\n",
       "  <thead>\n",
       "    <tr style=\"text-align: right;\">\n",
       "      <th></th>\n",
       "      <th>col1</th>\n",
       "      <th>col2</th>\n",
       "      <th>col3</th>\n",
       "      <th>col4</th>\n",
       "      <th>col5</th>\n",
       "      <th>target</th>\n",
       "    </tr>\n",
       "  </thead>\n",
       "  <tbody>\n",
       "    <tr>\n",
       "      <th>96</th>\n",
       "      <td>-0.611351</td>\n",
       "      <td>0.686760</td>\n",
       "      <td>1.348052</td>\n",
       "      <td>-4.553010</td>\n",
       "      <td>-2.252679</td>\n",
       "      <td>0</td>\n",
       "    </tr>\n",
       "    <tr>\n",
       "      <th>33</th>\n",
       "      <td>-0.916692</td>\n",
       "      <td>-0.159328</td>\n",
       "      <td>0.491757</td>\n",
       "      <td>-0.067391</td>\n",
       "      <td>0.449678</td>\n",
       "      <td>0</td>\n",
       "    </tr>\n",
       "    <tr>\n",
       "      <th>30</th>\n",
       "      <td>-1.143838</td>\n",
       "      <td>0.679591</td>\n",
       "      <td>2.948101</td>\n",
       "      <td>-1.775774</td>\n",
       "      <td>-1.587321</td>\n",
       "      <td>0</td>\n",
       "    </tr>\n",
       "    <tr>\n",
       "      <th>14</th>\n",
       "      <td>-1.146403</td>\n",
       "      <td>0.918582</td>\n",
       "      <td>0.130211</td>\n",
       "      <td>-1.005447</td>\n",
       "      <td>-0.724167</td>\n",
       "      <td>0</td>\n",
       "    </tr>\n",
       "    <tr>\n",
       "      <th>81</th>\n",
       "      <td>0.550838</td>\n",
       "      <td>-0.524211</td>\n",
       "      <td>0.498940</td>\n",
       "      <td>-1.328715</td>\n",
       "      <td>-1.591766</td>\n",
       "      <td>1</td>\n",
       "    </tr>\n",
       "    <tr>\n",
       "      <th>7</th>\n",
       "      <td>2.055468</td>\n",
       "      <td>0.504097</td>\n",
       "      <td>-1.688930</td>\n",
       "      <td>-1.353193</td>\n",
       "      <td>-1.273598</td>\n",
       "      <td>1</td>\n",
       "    </tr>\n",
       "    <tr>\n",
       "      <th>6</th>\n",
       "      <td>-2.835312</td>\n",
       "      <td>-1.416674</td>\n",
       "      <td>1.254505</td>\n",
       "      <td>-2.454441</td>\n",
       "      <td>-0.044122</td>\n",
       "      <td>0</td>\n",
       "    </tr>\n",
       "    <tr>\n",
       "      <th>35</th>\n",
       "      <td>0.011020</td>\n",
       "      <td>-2.968219</td>\n",
       "      <td>-1.848227</td>\n",
       "      <td>-2.759841</td>\n",
       "      <td>-1.672490</td>\n",
       "      <td>1</td>\n",
       "    </tr>\n",
       "    <tr>\n",
       "      <th>32</th>\n",
       "      <td>0.815158</td>\n",
       "      <td>-0.088014</td>\n",
       "      <td>-0.762843</td>\n",
       "      <td>0.474495</td>\n",
       "      <td>-1.133631</td>\n",
       "      <td>1</td>\n",
       "    </tr>\n",
       "    <tr>\n",
       "      <th>96</th>\n",
       "      <td>-0.611351</td>\n",
       "      <td>0.686760</td>\n",
       "      <td>1.348052</td>\n",
       "      <td>-4.553010</td>\n",
       "      <td>-2.252679</td>\n",
       "      <td>0</td>\n",
       "    </tr>\n",
       "    <tr>\n",
       "      <th>99</th>\n",
       "      <td>-2.924265</td>\n",
       "      <td>4.686934</td>\n",
       "      <td>-0.662483</td>\n",
       "      <td>1.754889</td>\n",
       "      <td>-1.915746</td>\n",
       "      <td>0</td>\n",
       "    </tr>\n",
       "    <tr>\n",
       "      <th>11</th>\n",
       "      <td>-2.846755</td>\n",
       "      <td>1.682390</td>\n",
       "      <td>0.489242</td>\n",
       "      <td>-1.016578</td>\n",
       "      <td>-0.608845</td>\n",
       "      <td>0</td>\n",
       "    </tr>\n",
       "    <tr>\n",
       "      <th>58</th>\n",
       "      <td>-0.093879</td>\n",
       "      <td>-2.126336</td>\n",
       "      <td>-1.416598</td>\n",
       "      <td>-0.042233</td>\n",
       "      <td>-1.456711</td>\n",
       "      <td>1</td>\n",
       "    </tr>\n",
       "    <tr>\n",
       "      <th>95</th>\n",
       "      <td>-1.841379</td>\n",
       "      <td>-0.397419</td>\n",
       "      <td>2.101600</td>\n",
       "      <td>-0.392968</td>\n",
       "      <td>1.065207</td>\n",
       "      <td>0</td>\n",
       "    </tr>\n",
       "  </tbody>\n",
       "</table>\n",
       "</div>"
      ],
      "text/plain": [
       "        col1      col2      col3      col4      col5  target\n",
       "96 -0.611351  0.686760  1.348052 -4.553010 -2.252679       0\n",
       "33 -0.916692 -0.159328  0.491757 -0.067391  0.449678       0\n",
       "30 -1.143838  0.679591  2.948101 -1.775774 -1.587321       0\n",
       "14 -1.146403  0.918582  0.130211 -1.005447 -0.724167       0\n",
       "81  0.550838 -0.524211  0.498940 -1.328715 -1.591766       1\n",
       "7   2.055468  0.504097 -1.688930 -1.353193 -1.273598       1\n",
       "6  -2.835312 -1.416674  1.254505 -2.454441 -0.044122       0\n",
       "35  0.011020 -2.968219 -1.848227 -2.759841 -1.672490       1\n",
       "32  0.815158 -0.088014 -0.762843  0.474495 -1.133631       1\n",
       "96 -0.611351  0.686760  1.348052 -4.553010 -2.252679       0\n",
       "99 -2.924265  4.686934 -0.662483  1.754889 -1.915746       0\n",
       "11 -2.846755  1.682390  0.489242 -1.016578 -0.608845       0\n",
       "58 -0.093879 -2.126336 -1.416598 -0.042233 -1.456711       1\n",
       "95 -1.841379 -0.397419  2.101600 -0.392968  1.065207       0"
      ]
     },
     "execution_count": 32,
     "metadata": {},
     "output_type": "execute_result"
    }
   ],
   "source": [
    "df.sample(14,replace=True)"
   ]
  },
  {
   "cell_type": "code",
   "execution_count": null,
   "id": "ea34a404",
   "metadata": {},
   "outputs": [],
   "source": []
  }
 ],
 "metadata": {
  "kernelspec": {
   "display_name": "Python 3 (ipykernel)",
   "language": "python",
   "name": "python3"
  },
  "language_info": {
   "codemirror_mode": {
    "name": "ipython",
    "version": 3
   },
   "file_extension": ".py",
   "mimetype": "text/x-python",
   "name": "python",
   "nbconvert_exporter": "python",
   "pygments_lexer": "ipython3",
   "version": "3.9.7"
  }
 },
 "nbformat": 4,
 "nbformat_minor": 5
}
