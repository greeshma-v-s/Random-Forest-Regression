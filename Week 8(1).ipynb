{
 "cells": [
  {
   "cell_type": "markdown",
   "id": "142f6948",
   "metadata": {},
   "source": [
    "# Pipeline without sklearn for Big Basket Food Delivery Service"
   ]
  },
  {
   "cell_type": "code",
   "execution_count": 1,
   "id": "75effdc0",
   "metadata": {},
   "outputs": [],
   "source": [
    "import pandas as pd\n",
    "import numpy as np\n",
    "import itertools\n",
    "import math\n",
    "import warnings\n",
    "warnings.filterwarnings(\"ignore\")\n",
    "\n",
    "def impute_missing_values(data):\n",
    "    # Find indices of missing values in the data\n",
    "    missing_indices = np.where(np.isnan(data))\n",
    "    \n",
    "    # Replace missing values with the median of the non-missing values in each column\n",
    "    for col_idx in range(data.shape[1]):\n",
    "        col_data = data[:, col_idx]\n",
    "        non_missing_values = col_data[~np.isnan(col_data)]\n",
    "        median_value = np.median(non_missing_values)\n",
    "        col_data[np.isnan(col_data)] = median_value\n",
    "    \n",
    "    return data\n",
    "\n",
    "def label_encode(data):\n",
    "    unique_values = np.unique(data)\n",
    "    value_map = {}\n",
    "    for i, value in enumerate(unique_values):\n",
    "        value_map[value] = i\n",
    "    return np.vectorize(value_map.get)(data)\n",
    "\n",
    "\n",
    "class SimpleImputer:\n",
    "    def __init__(self, strategy='mean'):\n",
    "        self.strategy = strategy\n",
    "        \n",
    "    def fit(self, X, y=None):\n",
    "        if self.strategy == 'mean':\n",
    "            self.fill_value = np.nanmean(X, axis=0)\n",
    "        elif self.strategy == 'median':\n",
    "            self.fill_value = np.nanmedian(X, axis=0)\n",
    "        elif self.strategy == 'most_frequent':\n",
    "            self.fill_value = np.nanmedian(X, axis=0)\n",
    "        return self\n",
    "    \n",
    "    def transform(self, X):\n",
    "        X[np.isnan(X)] = self.fill_value\n",
    "        return X\n",
    "\n",
    "\n",
    "class LabelEncoder:\n",
    "    def __init__(self):\n",
    "        self.labels = {}\n",
    "        self.rev_labels = {}\n",
    "        \n",
    "    def fit(self, X, y=None):\n",
    "        unique_values = np.unique(X)\n",
    "        for i, val in enumerate(unique_values):\n",
    "            self.labels[val] = i\n",
    "            self.rev_labels[i] = val\n",
    "        return self\n",
    "    \n",
    "    def transform(self, X):\n",
    "        X_encoded = np.zeros_like(X)\n",
    "        for val, label in self.labels.items():\n",
    "            X_encoded[X == val] = label\n",
    "        return X_encoded\n",
    "    \n",
    "    def inverse_transform(self, X_encoded):\n",
    "        X = np.zeros_like(X_encoded)\n",
    "        for label, val in self.rev_labels.items():\n",
    "            X[X_encoded == label] = val\n",
    "        return X\n",
    "\n",
    "\n",
    "class Pipeline:\n",
    "    def __init__(self, steps):\n",
    "        self.steps = steps\n",
    "        \n",
    "    def fit(self, X, y=None):\n",
    "        for name, estimator in self.steps:\n",
    "            estimator.fit(X)\n",
    "        return self\n",
    "    \n",
    "    def transform(self, X):\n",
    "        for name, estimator in self.steps:\n",
    "            X = estimator.transform(X)\n",
    "        return X\n",
    "\n",
    "\n",
    "class ColumnTransformer:\n",
    "    def __init__(self, transformers):\n",
    "        self.transformers = transformers\n",
    "        \n",
    "    def fit(self, X, y=None):\n",
    "        for _, transformer, cols in self.transformers:\n",
    "            transformer.fit(X[cols])\n",
    "        return self\n",
    "    \n",
    "    def transform(self, X):\n",
    "        X_transformed = np.empty((X.shape[0], 0))\n",
    "        for name, transformer, cols in self.transformers:\n",
    "            X_transformed = np.hstack((X_transformed, transformer.transform(X[cols])))\n",
    "        return X_transformed\n",
    "    \n",
    "    \n",
    "class FunctionTransformer:\n",
    "    def __init__(self, func):\n",
    "        self.func = func\n",
    "        \n",
    "    def fit(self, X, y=None):\n",
    "        return self\n",
    "    \n",
    "    def transform(self, X):\n",
    "        return np.apply_along_axis(self.func, 1, X)"
   ]
  },
  {
   "cell_type": "markdown",
   "id": "8eb9e8cf",
   "metadata": {},
   "source": [
    "## Define DecisionTreeRegressor class"
   ]
  },
  {
   "cell_type": "code",
   "execution_count": 2,
   "id": "db1ed217",
   "metadata": {},
   "outputs": [],
   "source": [
    "class DecisionTreeRegressor:\n",
    "    def __init__(self, max_depth=None, min_samples_split=2, min_samples_leaf=1):\n",
    "        self.max_depth = max_depth\n",
    "        self.min_samples_split = min_samples_split\n",
    "        self.min_samples_leaf = min_samples_leaf\n",
    "        self.tree = None\n",
    "        \n",
    "    def fit(self, X, y):\n",
    "        self.tree = self._build_tree(X, y, depth=0)\n",
    "        \n",
    "    def _build_tree(self, X, y, depth):\n",
    "        if depth == self.max_depth or len(X) < self.min_samples_split or len(set(y)) == 1:\n",
    "            return {'leaf': True, 'value': np.mean(y)}\n",
    "        \n",
    "        feature, threshold = self._find_best_split(X, y)\n",
    "        \n",
    "        if feature is None:\n",
    "            return {'leaf': True, 'value': np.mean(y)}\n",
    "        \n",
    "        left_indices = X[:, feature] < threshold\n",
    "        right_indices = X[:, feature] >= threshold\n",
    "        \n",
    "        left_tree = self._build_tree(X[left_indices], y[left_indices], depth + 1)\n",
    "        right_tree = self._build_tree(X[right_indices], y[right_indices], depth + 1)\n",
    "        \n",
    "        return {'leaf': False, 'feature': feature, 'threshold': threshold, 'left': left_tree, 'right': right_tree}\n",
    "    \n",
    "    def _find_best_split(self, X, y):\n",
    "        best_feature = None\n",
    "        best_threshold = None\n",
    "        best_loss = np.inf\n",
    "        \n",
    "        for feature in range(X.shape[1]):\n",
    "            values = X[:, feature]\n",
    "            thresholds = np.unique(values)\n",
    "            \n",
    "            if len(thresholds) > 10:\n",
    "                thresholds = np.percentile(thresholds, [10, 20, 30, 40, 50, 60, 70, 80, 90])\n",
    "            \n",
    "            for threshold in thresholds:\n",
    "                left_indices = X[:, feature] < threshold\n",
    "                right_indices = X[:, feature] >= threshold\n",
    "                \n",
    "                if len(left_indices) < self.min_samples_leaf or len(right_indices) < self.min_samples_leaf:\n",
    "                    continue\n",
    "                \n",
    "                left_y = y[left_indices]\n",
    "                right_y = y[right_indices]\n",
    "                left_weight = len(left_y) / len(y)\n",
    "                right_weight = len(right_y) / len(y)\n",
    "                \n",
    "                loss = left_weight * self.mean_squared_error(left_y) + right_weight * self.mean_squared_error(right_y)\n",
    "                \n",
    "                if loss < best_loss:\n",
    "                    best_feature = feature\n",
    "                    best_threshold = threshold\n",
    "                    best_loss = loss\n",
    "        \n",
    "        return best_feature, best_threshold\n",
    "    \n",
    "    def predict(self, X):\n",
    "        predictions = []\n",
    "        for sample in X:\n",
    "            node = self.tree\n",
    "            while not node['leaf']:\n",
    "                if sample[node['feature']] < node['threshold']:\n",
    "                    node = node['left']\n",
    "                else:\n",
    "                    node = node['right']\n",
    "            predictions.append(node['value'])\n",
    "        return np.array(predictions)\n",
    "    \n",
    "    def mean_squared_error(self, y):\n",
    "        return np.mean((y - np.mean(y)) ** 2)"
   ]
  },
  {
   "cell_type": "markdown",
   "id": "1451b2d0",
   "metadata": {},
   "source": [
    "## Define RandomForest Regression class"
   ]
  },
  {
   "cell_type": "code",
   "execution_count": 3,
   "id": "31707335",
   "metadata": {},
   "outputs": [],
   "source": [
    "class RandomForestRegressor:\n",
    "    def __init__(self, n_estimators=100, max_depth=None, min_samples_split=2):\n",
    "        self.n_estimators = n_estimators\n",
    "        self.max_depth = max_depth\n",
    "        self.min_samples_split = min_samples_split\n",
    "        self.trees = []\n",
    "        \n",
    "    def fit(self, X, y):\n",
    "        for i in range(self.n_estimators):\n",
    "            tree = DecisionTreeRegressor(max_depth=self.max_depth, min_samples_split=self.min_samples_split)\n",
    "            rows = np.random.choice(len(X), size=len(X), replace=True)\n",
    "            tree.fit(X[rows], y[rows])\n",
    "            self.trees.append(tree)\n",
    "            \n",
    "    def predict(self, X):\n",
    "        predictions = []\n",
    "        for tree in self.trees:\n",
    "            predictions.append(tree.predict(X))\n",
    "        return np.mean(predictions, axis=0)\n",
    "    \n",
    "    def score(self, X, y):\n",
    "        y_pred = self.predict(X)\n",
    "        mse = np.mean((y - y_pred) ** 2)\n",
    "        return 1 - mse / np.var(y)\n"
   ]
  },
  {
   "cell_type": "code",
   "execution_count": 19,
   "id": "4bf85865",
   "metadata": {},
   "outputs": [],
   "source": [
    "class GridSearchCV:\n",
    "    def __init__(self, estimator, param_grid, cv=3):\n",
    "        self.estimator = estimator\n",
    "        self.param_grid = param_grid\n",
    "        self.cv = cv\n",
    "    \n",
    "    def fit(self, X_selected, y):\n",
    "        # Get all combinations of hyperparameters\n",
    "        param_combinations = self._get_param_combinations(self.param_grid)\n",
    "        \n",
    "        # Initialize variables to store results\n",
    "        best_params = None\n",
    "        best_score = -np.inf\n",
    "        \n",
    "        # Perform cross-validation\n",
    "        for params in param_combinations:\n",
    "            scores = []\n",
    "            for i in range(self.cv):\n",
    "                # Split data into training and validation sets\n",
    "                mask = np.ones(len(X_selected), dtype=bool)\n",
    "                mask[i::self.cv] = False\n",
    "                X_train, y_train = X_selected[mask], y[mask]\n",
    "                X_val, y_val = X_selected[~mask], y[~mask]\n",
    "                \n",
    "                # Train model and compute score\n",
    "                model = self.estimator(**params)\n",
    "                model.fit(X_train, y_train)\n",
    "                score = model.score(X_val, y_val)\n",
    "                scores.append(score)\n",
    "            \n",
    "            # Compute average score for these hyperparameters\n",
    "            mean_score = np.mean(scores)\n",
    "            \n",
    "            # Update best hyperparameters if necessary\n",
    "            if mean_score > best_score:\n",
    "                best_params = params\n",
    "                best_score = mean_score\n",
    "        \n",
    "        # Train model with best hyperparameters on full dataset\n",
    "        self.best_estimator_ = self.estimator(**best_params)\n",
    "        self.best_estimator_.fit(X_selected, y)\n",
    "        \n",
    "        return self\n",
    "    \n",
    "    def predict(self, X_selected):\n",
    "        return self.best_estimator_.predict(X_selected)\n",
    "    \n",
    "    def _get_param_combinations(self, param_grid):\n",
    "        keys = list(param_grid.keys())\n",
    "        values = list(param_grid.values())\n",
    "        param_combinations = []\n",
    "        for combination in itertools.product(*values):\n",
    "            params = {keys[i]: combination[i] for i in range(len(keys))}\n",
    "            param_combinations.append(params)\n",
    "        return param_combinations"
   ]
  },
  {
   "cell_type": "code",
   "execution_count": 5,
   "id": "2a19bd07",
   "metadata": {},
   "outputs": [],
   "source": [
    "# after defining libraries"
   ]
  },
  {
   "cell_type": "code",
   "execution_count": 6,
   "id": "1f3d5f7f",
   "metadata": {},
   "outputs": [],
   "source": [
    "# Load data\n",
    "df = pd.read_csv('Big Basket Food Delivery.csv', encoding='latin-1')\n",
    "df = df.drop(['Restaurant Name', 'City','Locality','Locality Verbose'], axis=1)\n",
    "\n",
    "\n",
    "# Impute missing values in the 'Cuisines' column with the mode value\n",
    "mode_value = df['Cuisines'].mode().values[0]\n",
    "df['Cuisines'] = df['Cuisines'].fillna(mode_value)\n",
    "\n",
    "# Replace special characters with NaN\n",
    "df['Average Cost for two'] = df['Average Cost for two'].replace({'\\$': '', ',': ''}, regex=True)\n",
    "df['Average Cost for two'] = pd.to_numeric(df['Average Cost for two'], errors='coerce')\n",
    "df['Price range'] = df['Price range'].replace({'\\₹': ''}, regex=True)\n",
    "df['Price range'] = pd.to_numeric(df['Price range'], errors='coerce')\n",
    "\n",
    "# Impute median value for NaN\n",
    "df['Average Cost for two'] = impute_missing_values(df['Average Cost for two'].values.reshape(-1, 1)).flatten()\n",
    "df['Price range'] = impute_missing_values(df['Price range'].values.reshape(-1, 1)).flatten()\n",
    "\n",
    "# Convert non-numeric columns to numeric using label encoding\n",
    "for col in df.columns:\n",
    "    if df[col].dtype == 'object':\n",
    "        df[col] = label_encode(df[col])\n",
    "        \n",
    "# Outlier treatment using the IQR method\n",
    "def outlier_treatment_iqr(column):\n",
    "    q1, q3 = np.percentile(column, [25, 75])\n",
    "    iqr = q3 - q1\n",
    "    lower_bound = q1 - (1.5 * iqr)\n",
    "    upper_bound = q3 + (1.5 * iqr)\n",
    "    return np.clip(column, lower_bound, upper_bound)\n",
    "\n",
    "# Convert non-numeric columns to numeric using label encoding\n",
    "label_encoder = LabelEncoder()\n",
    "for col in df.columns:\n",
    "    if df[col].dtype == 'object':\n",
    "        df[col] = label_encoder.fit_transform(df[col])\n"
   ]
  },
  {
   "cell_type": "markdown",
   "id": "2e215d5e",
   "metadata": {},
   "source": [
    "## Define the preprocessing steps"
   ]
  },
  {
   "cell_type": "code",
   "execution_count": 7,
   "id": "ba34cfae",
   "metadata": {},
   "outputs": [],
   "source": [
    "# Define the preprocessing steps for categorical and numerical data\n",
    "categorical_transformer = Pipeline(steps=[\n",
    "    ('cuisine_imputer', SimpleImputer(strategy='most_frequent')),\n",
    "    ('label_encoder', LabelEncoder())\n",
    "])\n",
    "\n",
    "numerical_transformer = Pipeline(steps=[\n",
    "    ('avg_cost_imputer' , SimpleImputer(strategy='median')),\n",
    "    ('price_imputer', SimpleImputer(strategy='median')),\n",
    "    ('outlier_treatment', FunctionTransformer(func=outlier_treatment_iqr))\n",
    "])\n",
    "\n",
    "# Combine the preprocessing steps for categorical and numerical data\n",
    "preprocessor = ColumnTransformer(transformers=[\n",
    "    ('cat', categorical_transformer, ['Address', 'Cuisines', 'Has Table booking', 'Has Online delivery', 'Is delivering now','Switch to order menu','Rating color','Rating text']),\n",
    "    ('num', numerical_transformer, ['Restaurant ID', 'Country Code', 'Longitude','Latitude','Average Cost for two','Price range','Aggregate rating','Votes'])\n",
    "])\n"
   ]
  },
  {
   "cell_type": "markdown",
   "id": "fa95a8b2",
   "metadata": {},
   "source": [
    "## Visualizing Through Pipeline"
   ]
  },
  {
   "cell_type": "code",
   "execution_count": 39,
   "id": "69b48fc6",
   "metadata": {},
   "outputs": [
    {
     "data": {
      "text/plain": [
       "<matplotlib.patches.FancyArrow at 0x187e8498b80>"
      ]
     },
     "execution_count": 39,
     "metadata": {},
     "output_type": "execute_result"
    },
    {
     "data": {
      "image/png": "[encoded data removed]",
      "text/plain": [
       "<Figure size 720x432 with 1 Axes>"
      ]
     },
     "metadata": {
      "needs_background": "light"
     },
     "output_type": "display_data"
    }
   ],
   "source": [
    "import matplotlib.pyplot as plt\n",
    "\n",
    "# Define the flowchart elements\n",
    "data_collection = \"Data Collection\"\n",
    "data_preprocessing = \"Data Preprocessing\"\n",
    "categorical_preprocessing = \"Categorical\\nPreprocessing\"\n",
    "numerical_preprocessing = \"Numerical\\nPreprocessing\"\n",
    "cuisine_imputer = \"Cuisine\\nImputer\"\n",
    "label_encoder = \"Label\\nEncoder\"\n",
    "avg_cost_imputer = \"Average Cost\\nImputer\"\n",
    "price_imputer = \"Price\\nImputer\"\n",
    "outlier_treatment = \"Outlier\\nTreatment\"\n",
    "cat_cols = ['Address', 'Cuisines', 'Has Table booking', 'Has Online delivery', 'Is delivering now','Switch to order menu','Rating color','Rating text']\n",
    "num_cols = ['Restaurant ID', 'Country Code', 'Longitude','Latitude','Average Cost for two','Price range','Aggregate rating','Votes']\n",
    "\n",
    "# Define the flowchart layout\n",
    "fig, ax = plt.subplots(figsize=(10, 6))\n",
    "ax.set_title(\"Machine Learning Pipeline\")\n",
    "\n",
    "# Define the flowchart elements\n",
    "ax.text(0.1, 0.8, data_collection, fontsize=14, ha=\"center\", va=\"center\", bbox=dict(facecolor='white', edgecolor='gray', pad=8.0))\n",
    "ax.text(0.5, 0.8, data_preprocessing, fontsize=14, ha=\"center\", va=\"center\", bbox=dict(facecolor='white', edgecolor='gray', pad=8.0))\n",
    "ax.text(0.5, 0.6, categorical_preprocessing, fontsize=12, ha=\"center\", va=\"center\", bbox=dict(facecolor='white', edgecolor='gray', pad=8.0))\n",
    "ax.text(0.5, 0.4, numerical_preprocessing, fontsize=12, ha=\"center\", va=\"center\", bbox=dict(facecolor='white', edgecolor='gray', pad=8.0))\n",
    "ax.text(0.2, 0.6, cuisine_imputer, fontsize=12, ha=\"center\", va=\"center\", bbox=dict(facecolor='white', edgecolor='gray', pad=8.0))\n",
    "ax.text(0.8, 0.6, label_encoder, fontsize=12, ha=\"center\", va=\"center\", bbox=dict(facecolor='white', edgecolor='gray', pad=8.0))\n",
    "ax.text(0.2, 0.4, avg_cost_imputer, fontsize=12, ha=\"center\", va=\"center\", bbox=dict(facecolor='white', edgecolor='gray', pad=8.0))\n",
    "ax.text(0.5, 0.3, price_imputer, fontsize=12, ha=\"center\", va=\"center\", bbox=dict(facecolor='white', edgecolor='gray', pad=8.0))\n",
    "ax.text(0.8, 0.4, outlier_treatment, fontsize=12, ha=\"center\", va=\"center\", bbox=dict(facecolor='white', edgecolor='gray', pad=8.0))\n",
    "\n",
    "# Define the flowchart arrows\n",
    "ax.arrow(0.1, 0.75, 0.4, 0, length_includes_head=True, head_width=0.02, head_length=0.02, fc='gray', ec='gray')\n",
    "ax.arrow(0.5, 0.75, 0, -0.2, length_includes_head=True, head_width=0.02, head_length=0.02, fc='gray', ec='gray')\n"
   ]
  },
  {
   "cell_type": "markdown",
   "id": "de946899",
   "metadata": {},
   "source": [
    "## Model building Through pipeline"
   ]
  },
  {
   "cell_type": "code",
   "execution_count": 8,
   "id": "39cbc1f1",
   "metadata": {},
   "outputs": [],
   "source": [
    "X = df.drop('Aggregate rating', axis=1).values\n",
    "y = df['Aggregate rating'].values\n",
    "n_train = math.floor(0.8 * X.shape[0])\n",
    "n_test = math.ceil((1-0.8) * X.shape[0])\n",
    "X_train = X[:n_train]\n",
    "y_train = y[:n_train]\n",
    "X_test = X[n_train:]\n",
    "y_test = y[n_train:]"
   ]
  },
  {
   "cell_type": "code",
   "execution_count": 9,
   "id": "73e835c5",
   "metadata": {},
   "outputs": [],
   "source": [
    "# Define the random forest regressor\n",
    "rf = RandomForestRegressor(n_estimators=100)\n",
    "\n",
    "# Define the pipeline\n",
    "pipeline = Pipeline([\n",
    "    ('preprocessor', preprocessor),\n",
    "    ('regressor', rf)\n",
    "])"
   ]
  },
  {
   "cell_type": "code",
   "execution_count": 10,
   "id": "cbab011a",
   "metadata": {},
   "outputs": [],
   "source": [
    "# Fit the pipeline on the training data\n",
    "rf.fit(X_train, y_train)\n"
   ]
  },
  {
   "cell_type": "code",
   "execution_count": 11,
   "id": "df46b1db",
   "metadata": {},
   "outputs": [],
   "source": [
    "# Use the pipeline to make predictions on the test data\n",
    "y_pred = rf.predict(X_test)"
   ]
  },
  {
   "cell_type": "code",
   "execution_count": 17,
   "id": "423acbe9",
   "metadata": {},
   "outputs": [
    {
     "name": "stdout",
     "output_type": "stream",
     "text": [
      "R2 score for perfect model is 0.989014908365663\n"
     ]
    }
   ],
   "source": [
    "# Calculate the mean of y_test\n",
    "y_mean = np.mean(y_test)\n",
    "\n",
    "# Calculate the sum of squared residuals and total sum of squares\n",
    "SS_res = sum((y_test - y_pred) ** 2)\n",
    "SS_tot = sum((y_test - y_mean) ** 2)\n",
    "\n",
    "# Calculate the R2 score\n",
    "r2 = 1 - (SS_res / SS_tot)\n",
    "\n",
    "print('R2 score for perfect model is', r2)\n"
   ]
  },
  {
   "cell_type": "code",
   "execution_count": 20,
   "id": "1f3075e9",
   "metadata": {},
   "outputs": [],
   "source": [
    "param_grid = {'max_depth': [100, 200, 300, 400], 'min_samples_split': [20, 30, 40, 50]}\n",
    "\n",
    "#from sklearn.tree import RandomForestRegressor\n",
    "\n",
    "estimator = RandomForestRegressor\n",
    "cv = 3\n",
    "\n",
    "grid_search = GridSearchCV(estimator, param_grid, cv=cv)\n",
    "\n",
    "\n",
    "grid_search.fit(X_train,y_train)\n",
    "y_pred=grid_search.predict(X_test)\n",
    "best_estimator = grid_search.best_estimator_"
   ]
  },
  {
   "cell_type": "code",
   "execution_count": 46,
   "id": "57be45fd",
   "metadata": {},
   "outputs": [],
   "source": [
    "def r2_score(y_test, y_pred):\n",
    "    mean_y_test = sum(y_test) / len(y_test)\n",
    "    sst = sum([(y - mean_y_test)**2 for y in y_test])\n",
    "    ssr = sum([(y - yp)**2 for y, yp in zip(y_test, y_pred)])\n",
    "    r2 = 1 - (ssr / sst)\n",
    "    return r2"
   ]
  },
  {
   "cell_type": "code",
   "execution_count": 47,
   "id": "39e1d248",
   "metadata": {},
   "outputs": [],
   "source": [
    "# Define pipeline\n",
    "def pipeline(X_train, y_train):\n",
    "    rf.fit(X_train, y_train)\n",
    "    y_pred = rf.predict(X_test)\n",
    "    r2_score= r2_score(y_test, y_pred)\n",
    "    return r2_score\n",
    "\n"
   ]
  },
  {
   "cell_type": "code",
   "execution_count": 48,
   "id": "97d8c821",
   "metadata": {},
   "outputs": [],
   "source": [
    "# Run pipeline on dataset using decision tree\n",
    "grid = GridSearchCV(estimator, param_grid, cv=cv)\n"
   ]
  },
  {
   "cell_type": "code",
   "execution_count": 49,
   "id": "1d37d5e8",
   "metadata": {},
   "outputs": [
    {
     "name": "stdout",
     "output_type": "stream",
     "text": [
      "Best hyperparameters: RandomForestRegressor(max_depth=200, min_samples_split=50)\n",
      "Validation R2 score: 0.9088284796091817\n"
     ]
    }
   ],
   "source": [
    "print(\"Best hyperparameters:\", best_estimator)\n",
    "print(\"Validation R2 score:\", r2)"
   ]
  }
 ],
 "metadata": {
  "kernelspec": {
   "display_name": "Python 3 (ipykernel)",
   "language": "python",
   "name": "python3"
  },
  "language_info": {
   "codemirror_mode": {
    "name": "ipython",
    "version": 3
   },
   "file_extension": ".py",
   "mimetype": "text/x-python",
   "name": "python",
   "nbconvert_exporter": "python",
   "pygments_lexer": "ipython3",
   "version": "3.9.7"
  }
 },
 "nbformat": 4,
 "nbformat_minor": 5
}
