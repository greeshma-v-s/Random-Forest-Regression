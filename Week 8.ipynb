{
 "cells": [
  {
   "cell_type": "code",
   "execution_count": 1,
   "id": "920676f6",
   "metadata": {},
   "outputs": [],
   "source": [
    "import numpy as np\n",
    "import pandas as pd\n",
    "from sklearn.ensemble import RandomForestRegressor\n",
    "from sklearn.pipeline import Pipeline\n",
    "from sklearn.impute import SimpleImputer\n",
    "from sklearn.preprocessing import StandardScaler, LabelEncoder\n",
    "from sklearn.compose import ColumnTransformer\n",
    "from sklearn.model_selection import GridSearchCV\n",
    "from scipy import stats\n",
    "from sklearn import set_config\n",
    "from sklearn.preprocessing import FunctionTransformer\n",
    "set_config(display='diagram')\n",
    "\n",
    "# load data\n",
    "df = pd.read_csv('Big Basket Food Delivery.csv', encoding='latin-1')\n",
    "df = df.drop(['Restaurant Name', 'City', 'Locality', 'Locality Verbose'], axis=1)\n",
    "\n",
    "# Impute missing values in the 'Cuisines' column with the mode value\n",
    "cuisine_imputer = SimpleImputer(strategy='most_frequent')\n",
    "df['Cuisines'] = cuisine_imputer.fit_transform(df[['Cuisines']])\n",
    "\n",
    "# Replace special characters with NaN\n",
    "df['Average Cost for two'] = df['Average Cost for two'].replace({'\\$': '', ',': ''}, regex=True)\n",
    "df['Average Cost for two'] = pd.to_numeric(df['Average Cost for two'], errors='coerce')\n",
    "df['Price range'] = df['Price range'].replace({'\\₹': ''}, regex=True)\n",
    "df['Price range'] = pd.to_numeric(df['Price range'], errors='coerce')\n",
    "\n",
    "# Impute median value for NaN\n",
    "avg_cost_imputer = SimpleImputer(strategy='median')\n",
    "df['Average Cost for two'] = avg_cost_imputer.fit_transform(df[['Average Cost for two']])\n",
    "price_imputer = SimpleImputer(strategy='median')\n",
    "df['Price range'] = price_imputer.fit_transform(df[['Price range']])\n",
    "\n",
    "# Outlier treatment using the IQR method\n",
    "def outlier_treatment_iqr(column):\n",
    "    q1, q3 = np.percentile(column, [25, 75])\n",
    "    iqr = q3 - q1\n",
    "    lower_bound = q1 - (1.5 * iqr)\n",
    "    upper_bound = q3 + (1.5 * iqr)\n",
    "    return np.clip(column, lower_bound, upper_bound)\n",
    "\n",
    "# Convert non-numeric columns to numeric using label encoding\n",
    "label_encoder = LabelEncoder()\n",
    "for col in df.columns:\n",
    "    if df[col].dtype == 'object':\n",
    "        df[col] = label_encoder.fit_transform(df[col])"
   ]
  },
  {
   "cell_type": "code",
   "execution_count": 2,
   "id": "624a2a06",
   "metadata": {},
   "outputs": [],
   "source": [
    "# Define the preprocessor\n",
    "numeric_transformer = Pipeline(steps=[\n",
    "    ('imputer', SimpleImputer(strategy='median')),\n",
    "    ('outlier_treatment', FunctionTransformer(func=outlier_treatment_iqr))\n",
    "])\n",
    "\n",
    "preprocessor = ColumnTransformer(transformers=[\n",
    "    ('num', numeric_transformer, df.select_dtypes(include=[np.number]).columns)\n",
    "])"
   ]
  },
  {
   "cell_type": "code",
   "execution_count": 3,
   "id": "2bfffd18",
   "metadata": {},
   "outputs": [
    {
     "data": {
      "text/html": [
       "<style>#sk-67bac111-587f-4a48-a2cc-82f177a8ca88 {color: black;background-color: white;}#sk-67bac111-587f-4a48-a2cc-82f177a8ca88 pre{padding: 0;}#sk-67bac111-587f-4a48-a2cc-82f177a8ca88 div.sk-toggleable {background-color: white;}#sk-67bac111-587f-4a48-a2cc-82f177a8ca88 label.sk-toggleable__label {cursor: pointer;display: block;width: 100%;margin-bottom: 0;padding: 0.2em 0.3em;box-sizing: border-box;text-align: center;}#sk-67bac111-587f-4a48-a2cc-82f177a8ca88 div.sk-toggleable__content {max-height: 0;max-width: 0;overflow: hidden;text-align: left;background-color: #f0f8ff;}#sk-67bac111-587f-4a48-a2cc-82f177a8ca88 div.sk-toggleable__content pre {margin: 0.2em;color: black;border-radius: 0.25em;background-color: #f0f8ff;}#sk-67bac111-587f-4a48-a2cc-82f177a8ca88 input.sk-toggleable__control:checked~div.sk-toggleable__content {max-height: 200px;max-width: 100%;overflow: auto;}#sk-67bac111-587f-4a48-a2cc-82f177a8ca88 div.sk-estimator input.sk-toggleable__control:checked~label.sk-toggleable__label {background-color: #d4ebff;}#sk-67bac111-587f-4a48-a2cc-82f177a8ca88 div.sk-label input.sk-toggleable__control:checked~label.sk-toggleable__label {background-color: #d4ebff;}#sk-67bac111-587f-4a48-a2cc-82f177a8ca88 input.sk-hidden--visually {border: 0;clip: rect(1px 1px 1px 1px);clip: rect(1px, 1px, 1px, 1px);height: 1px;margin: -1px;overflow: hidden;padding: 0;position: absolute;width: 1px;}#sk-67bac111-587f-4a48-a2cc-82f177a8ca88 div.sk-estimator {font-family: monospace;background-color: #f0f8ff;margin: 0.25em 0.25em;border: 1px dotted black;border-radius: 0.25em;box-sizing: border-box;}#sk-67bac111-587f-4a48-a2cc-82f177a8ca88 div.sk-estimator:hover {background-color: #d4ebff;}#sk-67bac111-587f-4a48-a2cc-82f177a8ca88 div.sk-parallel-item::after {content: \"\";width: 100%;border-bottom: 1px solid gray;flex-grow: 1;}#sk-67bac111-587f-4a48-a2cc-82f177a8ca88 div.sk-label:hover label.sk-toggleable__label {background-color: #d4ebff;}#sk-67bac111-587f-4a48-a2cc-82f177a8ca88 div.sk-serial::before {content: \"\";position: absolute;border-left: 1px solid gray;box-sizing: border-box;top: 2em;bottom: 0;left: 50%;}#sk-67bac111-587f-4a48-a2cc-82f177a8ca88 div.sk-serial {display: flex;flex-direction: column;align-items: center;background-color: white;}#sk-67bac111-587f-4a48-a2cc-82f177a8ca88 div.sk-item {z-index: 1;}#sk-67bac111-587f-4a48-a2cc-82f177a8ca88 div.sk-parallel {display: flex;align-items: stretch;justify-content: center;background-color: white;}#sk-67bac111-587f-4a48-a2cc-82f177a8ca88 div.sk-parallel-item {display: flex;flex-direction: column;position: relative;background-color: white;}#sk-67bac111-587f-4a48-a2cc-82f177a8ca88 div.sk-parallel-item:first-child::after {align-self: flex-end;width: 50%;}#sk-67bac111-587f-4a48-a2cc-82f177a8ca88 div.sk-parallel-item:last-child::after {align-self: flex-start;width: 50%;}#sk-67bac111-587f-4a48-a2cc-82f177a8ca88 div.sk-parallel-item:only-child::after {width: 0;}#sk-67bac111-587f-4a48-a2cc-82f177a8ca88 div.sk-dashed-wrapped {border: 1px dashed gray;margin: 0.2em;box-sizing: border-box;padding-bottom: 0.1em;background-color: white;position: relative;}#sk-67bac111-587f-4a48-a2cc-82f177a8ca88 div.sk-label label {font-family: monospace;font-weight: bold;background-color: white;display: inline-block;line-height: 1.2em;}#sk-67bac111-587f-4a48-a2cc-82f177a8ca88 div.sk-label-container {position: relative;z-index: 2;text-align: center;}#sk-67bac111-587f-4a48-a2cc-82f177a8ca88 div.sk-container {display: inline-block;position: relative;}</style><div id=\"sk-67bac111-587f-4a48-a2cc-82f177a8ca88\" class\"sk-top-container\"><div class=\"sk-container\"><div class=\"sk-item sk-dashed-wrapped\"><div class=\"sk-label-container\"><div class=\"sk-label sk-toggleable\"><input class=\"sk-toggleable__control sk-hidden--visually\" id=\"d1ea2931-b93d-4dda-9c11-8327135996bf\" type=\"checkbox\" ><label class=\"sk-toggleable__label\" for=\"d1ea2931-b93d-4dda-9c11-8327135996bf\">Pipeline</label><div class=\"sk-toggleable__content\"><pre>Pipeline(steps=[('imputer', SimpleImputer(strategy='median')),\n",
       "                ('outlier_treatment',\n",
       "                 FunctionTransformer(func=<function outlier_treatment_iqr at 0x000002361AF19CA0>))])</pre></div></div></div><div class=\"sk-serial\"><div class=\"sk-item\"><div class=\"sk-estimator sk-toggleable\"><input class=\"sk-toggleable__control sk-hidden--visually\" id=\"85fcd886-7f4a-4303-a128-ac801ad762f1\" type=\"checkbox\" ><label class=\"sk-toggleable__label\" for=\"85fcd886-7f4a-4303-a128-ac801ad762f1\">SimpleImputer</label><div class=\"sk-toggleable__content\"><pre>SimpleImputer(strategy='median')</pre></div></div></div><div class=\"sk-item\"><div class=\"sk-estimator sk-toggleable\"><input class=\"sk-toggleable__control sk-hidden--visually\" id=\"43e6b3c7-18c0-4415-b651-7486abe4d26c\" type=\"checkbox\" ><label class=\"sk-toggleable__label\" for=\"43e6b3c7-18c0-4415-b651-7486abe4d26c\">FunctionTransformer</label><div class=\"sk-toggleable__content\"><pre>FunctionTransformer(func=<function outlier_treatment_iqr at 0x000002361AF19CA0>)</pre></div></div></div></div></div></div></div>"
      ],
      "text/plain": [
       "Pipeline(steps=[('imputer', SimpleImputer(strategy='median')),\n",
       "                ('outlier_treatment',\n",
       "                 FunctionTransformer(func=<function outlier_treatment_iqr at 0x000002361AF19CA0>))])"
      ]
     },
     "execution_count": 3,
     "metadata": {},
     "output_type": "execute_result"
    }
   ],
   "source": [
    "numeric_transformer"
   ]
  },
  {
   "cell_type": "code",
   "execution_count": 4,
   "id": "98d12788",
   "metadata": {},
   "outputs": [
    {
     "data": {
      "text/html": [
       "<style>#sk-5f08ecaa-1ff5-4704-a22d-c405110e1487 {color: black;background-color: white;}#sk-5f08ecaa-1ff5-4704-a22d-c405110e1487 pre{padding: 0;}#sk-5f08ecaa-1ff5-4704-a22d-c405110e1487 div.sk-toggleable {background-color: white;}#sk-5f08ecaa-1ff5-4704-a22d-c405110e1487 label.sk-toggleable__label {cursor: pointer;display: block;width: 100%;margin-bottom: 0;padding: 0.2em 0.3em;box-sizing: border-box;text-align: center;}#sk-5f08ecaa-1ff5-4704-a22d-c405110e1487 div.sk-toggleable__content {max-height: 0;max-width: 0;overflow: hidden;text-align: left;background-color: #f0f8ff;}#sk-5f08ecaa-1ff5-4704-a22d-c405110e1487 div.sk-toggleable__content pre {margin: 0.2em;color: black;border-radius: 0.25em;background-color: #f0f8ff;}#sk-5f08ecaa-1ff5-4704-a22d-c405110e1487 input.sk-toggleable__control:checked~div.sk-toggleable__content {max-height: 200px;max-width: 100%;overflow: auto;}#sk-5f08ecaa-1ff5-4704-a22d-c405110e1487 div.sk-estimator input.sk-toggleable__control:checked~label.sk-toggleable__label {background-color: #d4ebff;}#sk-5f08ecaa-1ff5-4704-a22d-c405110e1487 div.sk-label input.sk-toggleable__control:checked~label.sk-toggleable__label {background-color: #d4ebff;}#sk-5f08ecaa-1ff5-4704-a22d-c405110e1487 input.sk-hidden--visually {border: 0;clip: rect(1px 1px 1px 1px);clip: rect(1px, 1px, 1px, 1px);height: 1px;margin: -1px;overflow: hidden;padding: 0;position: absolute;width: 1px;}#sk-5f08ecaa-1ff5-4704-a22d-c405110e1487 div.sk-estimator {font-family: monospace;background-color: #f0f8ff;margin: 0.25em 0.25em;border: 1px dotted black;border-radius: 0.25em;box-sizing: border-box;}#sk-5f08ecaa-1ff5-4704-a22d-c405110e1487 div.sk-estimator:hover {background-color: #d4ebff;}#sk-5f08ecaa-1ff5-4704-a22d-c405110e1487 div.sk-parallel-item::after {content: \"\";width: 100%;border-bottom: 1px solid gray;flex-grow: 1;}#sk-5f08ecaa-1ff5-4704-a22d-c405110e1487 div.sk-label:hover label.sk-toggleable__label {background-color: #d4ebff;}#sk-5f08ecaa-1ff5-4704-a22d-c405110e1487 div.sk-serial::before {content: \"\";position: absolute;border-left: 1px solid gray;box-sizing: border-box;top: 2em;bottom: 0;left: 50%;}#sk-5f08ecaa-1ff5-4704-a22d-c405110e1487 div.sk-serial {display: flex;flex-direction: column;align-items: center;background-color: white;}#sk-5f08ecaa-1ff5-4704-a22d-c405110e1487 div.sk-item {z-index: 1;}#sk-5f08ecaa-1ff5-4704-a22d-c405110e1487 div.sk-parallel {display: flex;align-items: stretch;justify-content: center;background-color: white;}#sk-5f08ecaa-1ff5-4704-a22d-c405110e1487 div.sk-parallel-item {display: flex;flex-direction: column;position: relative;background-color: white;}#sk-5f08ecaa-1ff5-4704-a22d-c405110e1487 div.sk-parallel-item:first-child::after {align-self: flex-end;width: 50%;}#sk-5f08ecaa-1ff5-4704-a22d-c405110e1487 div.sk-parallel-item:last-child::after {align-self: flex-start;width: 50%;}#sk-5f08ecaa-1ff5-4704-a22d-c405110e1487 div.sk-parallel-item:only-child::after {width: 0;}#sk-5f08ecaa-1ff5-4704-a22d-c405110e1487 div.sk-dashed-wrapped {border: 1px dashed gray;margin: 0.2em;box-sizing: border-box;padding-bottom: 0.1em;background-color: white;position: relative;}#sk-5f08ecaa-1ff5-4704-a22d-c405110e1487 div.sk-label label {font-family: monospace;font-weight: bold;background-color: white;display: inline-block;line-height: 1.2em;}#sk-5f08ecaa-1ff5-4704-a22d-c405110e1487 div.sk-label-container {position: relative;z-index: 2;text-align: center;}#sk-5f08ecaa-1ff5-4704-a22d-c405110e1487 div.sk-container {display: inline-block;position: relative;}</style><div id=\"sk-5f08ecaa-1ff5-4704-a22d-c405110e1487\" class\"sk-top-container\"><div class=\"sk-container\"><div class=\"sk-item sk-dashed-wrapped\"><div class=\"sk-label-container\"><div class=\"sk-label sk-toggleable\"><input class=\"sk-toggleable__control sk-hidden--visually\" id=\"1d1c2f6c-2368-4066-8df6-1b60a8ac7f03\" type=\"checkbox\" ><label class=\"sk-toggleable__label\" for=\"1d1c2f6c-2368-4066-8df6-1b60a8ac7f03\">ColumnTransformer</label><div class=\"sk-toggleable__content\"><pre>ColumnTransformer(transformers=[('num',\n",
       "                                 Pipeline(steps=[('imputer',\n",
       "                                                  SimpleImputer(strategy='median')),\n",
       "                                                 ('outlier_treatment',\n",
       "                                                  FunctionTransformer(func=<function outlier_treatment_iqr at 0x000002361AF19CA0>))]),\n",
       "                                 Index(['Restaurant ID', 'Country Code', 'Address', 'Longitude', 'Latitude',\n",
       "       'Cuisines', 'Average Cost for two', 'Currency', 'Has Table booking',\n",
       "       'Has Online delivery', 'Is delivering now', 'Switch to order menu',\n",
       "       'Price range', 'Aggregate rating', 'Rating color', 'Rating text',\n",
       "       'Votes'],\n",
       "      dtype='object'))])</pre></div></div></div><div class=\"sk-parallel\"><div class=\"sk-parallel-item\"><div class=\"sk-item\"><div class=\"sk-label-container\"><div class=\"sk-label sk-toggleable\"><input class=\"sk-toggleable__control sk-hidden--visually\" id=\"a81b68ac-d12b-42a6-8a81-94df0f485dad\" type=\"checkbox\" ><label class=\"sk-toggleable__label\" for=\"a81b68ac-d12b-42a6-8a81-94df0f485dad\">num</label><div class=\"sk-toggleable__content\"><pre>Index(['Restaurant ID', 'Country Code', 'Address', 'Longitude', 'Latitude',\n",
       "       'Cuisines', 'Average Cost for two', 'Currency', 'Has Table booking',\n",
       "       'Has Online delivery', 'Is delivering now', 'Switch to order menu',\n",
       "       'Price range', 'Aggregate rating', 'Rating color', 'Rating text',\n",
       "       'Votes'],\n",
       "      dtype='object')</pre></div></div></div><div class=\"sk-serial\"><div class=\"sk-item\"><div class=\"sk-serial\"><div class=\"sk-item\"><div class=\"sk-estimator sk-toggleable\"><input class=\"sk-toggleable__control sk-hidden--visually\" id=\"f18f1ff6-2d89-4a82-b93c-6c5065a55846\" type=\"checkbox\" ><label class=\"sk-toggleable__label\" for=\"f18f1ff6-2d89-4a82-b93c-6c5065a55846\">SimpleImputer</label><div class=\"sk-toggleable__content\"><pre>SimpleImputer(strategy='median')</pre></div></div></div><div class=\"sk-item\"><div class=\"sk-estimator sk-toggleable\"><input class=\"sk-toggleable__control sk-hidden--visually\" id=\"088d12d8-1699-40f6-9f23-3a7ccdac6cd7\" type=\"checkbox\" ><label class=\"sk-toggleable__label\" for=\"088d12d8-1699-40f6-9f23-3a7ccdac6cd7\">FunctionTransformer</label><div class=\"sk-toggleable__content\"><pre>FunctionTransformer(func=<function outlier_treatment_iqr at 0x000002361AF19CA0>)</pre></div></div></div></div></div></div></div></div></div></div></div></div>"
      ],
      "text/plain": [
       "ColumnTransformer(transformers=[('num',\n",
       "                                 Pipeline(steps=[('imputer',\n",
       "                                                  SimpleImputer(strategy='median')),\n",
       "                                                 ('outlier_treatment',\n",
       "                                                  FunctionTransformer(func=<function outlier_treatment_iqr at 0x000002361AF19CA0>))]),\n",
       "                                 Index(['Restaurant ID', 'Country Code', 'Address', 'Longitude', 'Latitude',\n",
       "       'Cuisines', 'Average Cost for two', 'Currency', 'Has Table booking',\n",
       "       'Has Online delivery', 'Is delivering now', 'Switch to order menu',\n",
       "       'Price range', 'Aggregate rating', 'Rating color', 'Rating text',\n",
       "       'Votes'],\n",
       "      dtype='object'))])"
      ]
     },
     "execution_count": 4,
     "metadata": {},
     "output_type": "execute_result"
    }
   ],
   "source": [
    "preprocessor"
   ]
  },
  {
   "cell_type": "code",
   "execution_count": 5,
   "id": "ed54264c",
   "metadata": {},
   "outputs": [],
   "source": [
    "# Fit the pipeline\n",
    "X = df.drop(['Aggregate rating'], axis=1)\n",
    "y = df['Aggregate rating']"
   ]
  },
  {
   "cell_type": "code",
   "execution_count": 6,
   "id": "d339f08e",
   "metadata": {},
   "outputs": [],
   "source": [
    "from sklearn.model_selection import train_test_split\n",
    "X_train,X_test,y_train,y_test=train_test_split(X,y,test_size=0.2)"
   ]
  },
  {
   "cell_type": "code",
   "execution_count": 7,
   "id": "1c1d0b00",
   "metadata": {},
   "outputs": [],
   "source": [
    "# Define the random forest regressor\n",
    "rf = RandomForestRegressor(n_estimators=100, random_state=42)\n",
    "\n",
    "# Define the pipeline\n",
    "pipeline = Pipeline([\n",
    "    ('preprocessor', preprocessor),\n",
    "    ('regressor', rf)\n",
    "])"
   ]
  },
  {
   "cell_type": "code",
   "execution_count": 8,
   "id": "ff9a0ed6",
   "metadata": {},
   "outputs": [
    {
     "data": {
      "text/html": [
       "<style>#sk-2ef2696c-3af4-41c8-82dd-d4f02dd22ff8 {color: black;background-color: white;}#sk-2ef2696c-3af4-41c8-82dd-d4f02dd22ff8 pre{padding: 0;}#sk-2ef2696c-3af4-41c8-82dd-d4f02dd22ff8 div.sk-toggleable {background-color: white;}#sk-2ef2696c-3af4-41c8-82dd-d4f02dd22ff8 label.sk-toggleable__label {cursor: pointer;display: block;width: 100%;margin-bottom: 0;padding: 0.2em 0.3em;box-sizing: border-box;text-align: center;}#sk-2ef2696c-3af4-41c8-82dd-d4f02dd22ff8 div.sk-toggleable__content {max-height: 0;max-width: 0;overflow: hidden;text-align: left;background-color: #f0f8ff;}#sk-2ef2696c-3af4-41c8-82dd-d4f02dd22ff8 div.sk-toggleable__content pre {margin: 0.2em;color: black;border-radius: 0.25em;background-color: #f0f8ff;}#sk-2ef2696c-3af4-41c8-82dd-d4f02dd22ff8 input.sk-toggleable__control:checked~div.sk-toggleable__content {max-height: 200px;max-width: 100%;overflow: auto;}#sk-2ef2696c-3af4-41c8-82dd-d4f02dd22ff8 div.sk-estimator input.sk-toggleable__control:checked~label.sk-toggleable__label {background-color: #d4ebff;}#sk-2ef2696c-3af4-41c8-82dd-d4f02dd22ff8 div.sk-label input.sk-toggleable__control:checked~label.sk-toggleable__label {background-color: #d4ebff;}#sk-2ef2696c-3af4-41c8-82dd-d4f02dd22ff8 input.sk-hidden--visually {border: 0;clip: rect(1px 1px 1px 1px);clip: rect(1px, 1px, 1px, 1px);height: 1px;margin: -1px;overflow: hidden;padding: 0;position: absolute;width: 1px;}#sk-2ef2696c-3af4-41c8-82dd-d4f02dd22ff8 div.sk-estimator {font-family: monospace;background-color: #f0f8ff;margin: 0.25em 0.25em;border: 1px dotted black;border-radius: 0.25em;box-sizing: border-box;}#sk-2ef2696c-3af4-41c8-82dd-d4f02dd22ff8 div.sk-estimator:hover {background-color: #d4ebff;}#sk-2ef2696c-3af4-41c8-82dd-d4f02dd22ff8 div.sk-parallel-item::after {content: \"\";width: 100%;border-bottom: 1px solid gray;flex-grow: 1;}#sk-2ef2696c-3af4-41c8-82dd-d4f02dd22ff8 div.sk-label:hover label.sk-toggleable__label {background-color: #d4ebff;}#sk-2ef2696c-3af4-41c8-82dd-d4f02dd22ff8 div.sk-serial::before {content: \"\";position: absolute;border-left: 1px solid gray;box-sizing: border-box;top: 2em;bottom: 0;left: 50%;}#sk-2ef2696c-3af4-41c8-82dd-d4f02dd22ff8 div.sk-serial {display: flex;flex-direction: column;align-items: center;background-color: white;}#sk-2ef2696c-3af4-41c8-82dd-d4f02dd22ff8 div.sk-item {z-index: 1;}#sk-2ef2696c-3af4-41c8-82dd-d4f02dd22ff8 div.sk-parallel {display: flex;align-items: stretch;justify-content: center;background-color: white;}#sk-2ef2696c-3af4-41c8-82dd-d4f02dd22ff8 div.sk-parallel-item {display: flex;flex-direction: column;position: relative;background-color: white;}#sk-2ef2696c-3af4-41c8-82dd-d4f02dd22ff8 div.sk-parallel-item:first-child::after {align-self: flex-end;width: 50%;}#sk-2ef2696c-3af4-41c8-82dd-d4f02dd22ff8 div.sk-parallel-item:last-child::after {align-self: flex-start;width: 50%;}#sk-2ef2696c-3af4-41c8-82dd-d4f02dd22ff8 div.sk-parallel-item:only-child::after {width: 0;}#sk-2ef2696c-3af4-41c8-82dd-d4f02dd22ff8 div.sk-dashed-wrapped {border: 1px dashed gray;margin: 0.2em;box-sizing: border-box;padding-bottom: 0.1em;background-color: white;position: relative;}#sk-2ef2696c-3af4-41c8-82dd-d4f02dd22ff8 div.sk-label label {font-family: monospace;font-weight: bold;background-color: white;display: inline-block;line-height: 1.2em;}#sk-2ef2696c-3af4-41c8-82dd-d4f02dd22ff8 div.sk-label-container {position: relative;z-index: 2;text-align: center;}#sk-2ef2696c-3af4-41c8-82dd-d4f02dd22ff8 div.sk-container {display: inline-block;position: relative;}</style><div id=\"sk-2ef2696c-3af4-41c8-82dd-d4f02dd22ff8\" class\"sk-top-container\"><div class=\"sk-container\"><div class=\"sk-item sk-dashed-wrapped\"><div class=\"sk-label-container\"><div class=\"sk-label sk-toggleable\"><input class=\"sk-toggleable__control sk-hidden--visually\" id=\"27ffdd45-d460-4a75-8f7e-a0108d4324aa\" type=\"checkbox\" ><label class=\"sk-toggleable__label\" for=\"27ffdd45-d460-4a75-8f7e-a0108d4324aa\">Pipeline</label><div class=\"sk-toggleable__content\"><pre>Pipeline(steps=[('preprocessor',\n",
       "                 ColumnTransformer(transformers=[('num',\n",
       "                                                  Pipeline(steps=[('imputer',\n",
       "                                                                   SimpleImputer(strategy='median')),\n",
       "                                                                  ('outlier_treatment',\n",
       "                                                                   FunctionTransformer(func=<function outlier_treatment_iqr at 0x000002361AF19CA0>))]),\n",
       "                                                  Index(['Restaurant ID', 'Country Code', 'Address', 'Longitude', 'Latitude',\n",
       "       'Cuisines', 'Average Cost for two', 'Currency', 'Has Table booking',\n",
       "       'Has Online delivery', 'Is delivering now', 'Switch to order menu',\n",
       "       'Price range', 'Aggregate rating', 'Rating color', 'Rating text',\n",
       "       'Votes'],\n",
       "      dtype='object'))])),\n",
       "                ('regressor', RandomForestRegressor(random_state=42))])</pre></div></div></div><div class=\"sk-serial\"><div class=\"sk-item sk-dashed-wrapped\"><div class=\"sk-label-container\"><div class=\"sk-label sk-toggleable\"><input class=\"sk-toggleable__control sk-hidden--visually\" id=\"4483e8c7-c4b0-4ac0-a414-d0d448dd7f0e\" type=\"checkbox\" ><label class=\"sk-toggleable__label\" for=\"4483e8c7-c4b0-4ac0-a414-d0d448dd7f0e\">preprocessor: ColumnTransformer</label><div class=\"sk-toggleable__content\"><pre>ColumnTransformer(transformers=[('num',\n",
       "                                 Pipeline(steps=[('imputer',\n",
       "                                                  SimpleImputer(strategy='median')),\n",
       "                                                 ('outlier_treatment',\n",
       "                                                  FunctionTransformer(func=<function outlier_treatment_iqr at 0x000002361AF19CA0>))]),\n",
       "                                 Index(['Restaurant ID', 'Country Code', 'Address', 'Longitude', 'Latitude',\n",
       "       'Cuisines', 'Average Cost for two', 'Currency', 'Has Table booking',\n",
       "       'Has Online delivery', 'Is delivering now', 'Switch to order menu',\n",
       "       'Price range', 'Aggregate rating', 'Rating color', 'Rating text',\n",
       "       'Votes'],\n",
       "      dtype='object'))])</pre></div></div></div><div class=\"sk-parallel\"><div class=\"sk-parallel-item\"><div class=\"sk-item\"><div class=\"sk-label-container\"><div class=\"sk-label sk-toggleable\"><input class=\"sk-toggleable__control sk-hidden--visually\" id=\"b909e499-06ce-4cdb-876f-ee245b1e8016\" type=\"checkbox\" ><label class=\"sk-toggleable__label\" for=\"b909e499-06ce-4cdb-876f-ee245b1e8016\">num</label><div class=\"sk-toggleable__content\"><pre>Index(['Restaurant ID', 'Country Code', 'Address', 'Longitude', 'Latitude',\n",
       "       'Cuisines', 'Average Cost for two', 'Currency', 'Has Table booking',\n",
       "       'Has Online delivery', 'Is delivering now', 'Switch to order menu',\n",
       "       'Price range', 'Aggregate rating', 'Rating color', 'Rating text',\n",
       "       'Votes'],\n",
       "      dtype='object')</pre></div></div></div><div class=\"sk-serial\"><div class=\"sk-item\"><div class=\"sk-serial\"><div class=\"sk-item\"><div class=\"sk-estimator sk-toggleable\"><input class=\"sk-toggleable__control sk-hidden--visually\" id=\"1c99b6d0-bd44-4a98-8d18-d2a16d16efae\" type=\"checkbox\" ><label class=\"sk-toggleable__label\" for=\"1c99b6d0-bd44-4a98-8d18-d2a16d16efae\">SimpleImputer</label><div class=\"sk-toggleable__content\"><pre>SimpleImputer(strategy='median')</pre></div></div></div><div class=\"sk-item\"><div class=\"sk-estimator sk-toggleable\"><input class=\"sk-toggleable__control sk-hidden--visually\" id=\"1d26f2c6-d2db-4609-bafc-5c6e455be0b8\" type=\"checkbox\" ><label class=\"sk-toggleable__label\" for=\"1d26f2c6-d2db-4609-bafc-5c6e455be0b8\">FunctionTransformer</label><div class=\"sk-toggleable__content\"><pre>FunctionTransformer(func=<function outlier_treatment_iqr at 0x000002361AF19CA0>)</pre></div></div></div></div></div></div></div></div></div></div><div class=\"sk-item\"><div class=\"sk-estimator sk-toggleable\"><input class=\"sk-toggleable__control sk-hidden--visually\" id=\"b362f096-c7f6-4d38-8a31-844f06c75a1d\" type=\"checkbox\" ><label class=\"sk-toggleable__label\" for=\"b362f096-c7f6-4d38-8a31-844f06c75a1d\">RandomForestRegressor</label><div class=\"sk-toggleable__content\"><pre>RandomForestRegressor(random_state=42)</pre></div></div></div></div></div></div></div>"
      ],
      "text/plain": [
       "Pipeline(steps=[('preprocessor',\n",
       "                 ColumnTransformer(transformers=[('num',\n",
       "                                                  Pipeline(steps=[('imputer',\n",
       "                                                                   SimpleImputer(strategy='median')),\n",
       "                                                                  ('outlier_treatment',\n",
       "                                                                   FunctionTransformer(func=<function outlier_treatment_iqr at 0x000002361AF19CA0>))]),\n",
       "                                                  Index(['Restaurant ID', 'Country Code', 'Address', 'Longitude', 'Latitude',\n",
       "       'Cuisines', 'Average Cost for two', 'Currency', 'Has Table booking',\n",
       "       'Has Online delivery', 'Is delivering now', 'Switch to order menu',\n",
       "       'Price range', 'Aggregate rating', 'Rating color', 'Rating text',\n",
       "       'Votes'],\n",
       "      dtype='object'))])),\n",
       "                ('regressor', RandomForestRegressor(random_state=42))])"
      ]
     },
     "execution_count": 8,
     "metadata": {},
     "output_type": "execute_result"
    }
   ],
   "source": [
    "pipeline"
   ]
  },
  {
   "cell_type": "code",
   "execution_count": 9,
   "id": "590bc233",
   "metadata": {},
   "outputs": [
    {
     "data": {
      "text/html": [
       "<style>#sk-842a2125-4270-4d89-ac07-98e894c76d5b {color: black;background-color: white;}#sk-842a2125-4270-4d89-ac07-98e894c76d5b pre{padding: 0;}#sk-842a2125-4270-4d89-ac07-98e894c76d5b div.sk-toggleable {background-color: white;}#sk-842a2125-4270-4d89-ac07-98e894c76d5b label.sk-toggleable__label {cursor: pointer;display: block;width: 100%;margin-bottom: 0;padding: 0.2em 0.3em;box-sizing: border-box;text-align: center;}#sk-842a2125-4270-4d89-ac07-98e894c76d5b div.sk-toggleable__content {max-height: 0;max-width: 0;overflow: hidden;text-align: left;background-color: #f0f8ff;}#sk-842a2125-4270-4d89-ac07-98e894c76d5b div.sk-toggleable__content pre {margin: 0.2em;color: black;border-radius: 0.25em;background-color: #f0f8ff;}#sk-842a2125-4270-4d89-ac07-98e894c76d5b input.sk-toggleable__control:checked~div.sk-toggleable__content {max-height: 200px;max-width: 100%;overflow: auto;}#sk-842a2125-4270-4d89-ac07-98e894c76d5b div.sk-estimator input.sk-toggleable__control:checked~label.sk-toggleable__label {background-color: #d4ebff;}#sk-842a2125-4270-4d89-ac07-98e894c76d5b div.sk-label input.sk-toggleable__control:checked~label.sk-toggleable__label {background-color: #d4ebff;}#sk-842a2125-4270-4d89-ac07-98e894c76d5b input.sk-hidden--visually {border: 0;clip: rect(1px 1px 1px 1px);clip: rect(1px, 1px, 1px, 1px);height: 1px;margin: -1px;overflow: hidden;padding: 0;position: absolute;width: 1px;}#sk-842a2125-4270-4d89-ac07-98e894c76d5b div.sk-estimator {font-family: monospace;background-color: #f0f8ff;margin: 0.25em 0.25em;border: 1px dotted black;border-radius: 0.25em;box-sizing: border-box;}#sk-842a2125-4270-4d89-ac07-98e894c76d5b div.sk-estimator:hover {background-color: #d4ebff;}#sk-842a2125-4270-4d89-ac07-98e894c76d5b div.sk-parallel-item::after {content: \"\";width: 100%;border-bottom: 1px solid gray;flex-grow: 1;}#sk-842a2125-4270-4d89-ac07-98e894c76d5b div.sk-label:hover label.sk-toggleable__label {background-color: #d4ebff;}#sk-842a2125-4270-4d89-ac07-98e894c76d5b div.sk-serial::before {content: \"\";position: absolute;border-left: 1px solid gray;box-sizing: border-box;top: 2em;bottom: 0;left: 50%;}#sk-842a2125-4270-4d89-ac07-98e894c76d5b div.sk-serial {display: flex;flex-direction: column;align-items: center;background-color: white;}#sk-842a2125-4270-4d89-ac07-98e894c76d5b div.sk-item {z-index: 1;}#sk-842a2125-4270-4d89-ac07-98e894c76d5b div.sk-parallel {display: flex;align-items: stretch;justify-content: center;background-color: white;}#sk-842a2125-4270-4d89-ac07-98e894c76d5b div.sk-parallel-item {display: flex;flex-direction: column;position: relative;background-color: white;}#sk-842a2125-4270-4d89-ac07-98e894c76d5b div.sk-parallel-item:first-child::after {align-self: flex-end;width: 50%;}#sk-842a2125-4270-4d89-ac07-98e894c76d5b div.sk-parallel-item:last-child::after {align-self: flex-start;width: 50%;}#sk-842a2125-4270-4d89-ac07-98e894c76d5b div.sk-parallel-item:only-child::after {width: 0;}#sk-842a2125-4270-4d89-ac07-98e894c76d5b div.sk-dashed-wrapped {border: 1px dashed gray;margin: 0.2em;box-sizing: border-box;padding-bottom: 0.1em;background-color: white;position: relative;}#sk-842a2125-4270-4d89-ac07-98e894c76d5b div.sk-label label {font-family: monospace;font-weight: bold;background-color: white;display: inline-block;line-height: 1.2em;}#sk-842a2125-4270-4d89-ac07-98e894c76d5b div.sk-label-container {position: relative;z-index: 2;text-align: center;}#sk-842a2125-4270-4d89-ac07-98e894c76d5b div.sk-container {display: inline-block;position: relative;}</style><div id=\"sk-842a2125-4270-4d89-ac07-98e894c76d5b\" class\"sk-top-container\"><div class=\"sk-container\"><div class=\"sk-item\"><div class=\"sk-estimator sk-toggleable\"><input class=\"sk-toggleable__control sk-hidden--visually\" id=\"8db595a1-da49-4b66-92e3-01ffc677139f\" type=\"checkbox\" checked><label class=\"sk-toggleable__label\" for=\"8db595a1-da49-4b66-92e3-01ffc677139f\">RandomForestRegressor</label><div class=\"sk-toggleable__content\"><pre>RandomForestRegressor(random_state=42)</pre></div></div></div></div></div>"
      ],
      "text/plain": [
       "RandomForestRegressor(random_state=42)"
      ]
     },
     "execution_count": 9,
     "metadata": {},
     "output_type": "execute_result"
    }
   ],
   "source": [
    "# Fit the pipeline on the training data\n",
    "rf.fit(X_train, y_train)"
   ]
  },
  {
   "cell_type": "code",
   "execution_count": 10,
   "id": "1eb958d2",
   "metadata": {},
   "outputs": [],
   "source": [
    "# Use the pipeline to make predictions on the test data\n",
    "y_pred = rf.predict(X_test)"
   ]
  },
  {
   "cell_type": "code",
   "execution_count": 11,
   "id": "0f00330d",
   "metadata": {},
   "outputs": [
    {
     "name": "stdout",
     "output_type": "stream",
     "text": [
      "R-squared Score: 0.9887856721666696\n"
     ]
    }
   ],
   "source": [
    "from sklearn.metrics import r2_score\n",
    "\n",
    "# Calculate the R-squared score of the predictions\n",
    "r2 = r2_score(y_test, y_pred)\n",
    "print('R-squared Score:', r2)"
   ]
  },
  {
   "cell_type": "code",
   "execution_count": 12,
   "id": "d04d86da",
   "metadata": {},
   "outputs": [
    {
     "name": "stdout",
     "output_type": "stream",
     "text": [
      "Fitting 5 folds for each of 108 candidates, totalling 540 fits\n"
     ]
    },
    {
     "data": {
      "text/html": [
       "<style>#sk-2f6bedf3-33df-490b-8766-654a7212e5e2 {color: black;background-color: white;}#sk-2f6bedf3-33df-490b-8766-654a7212e5e2 pre{padding: 0;}#sk-2f6bedf3-33df-490b-8766-654a7212e5e2 div.sk-toggleable {background-color: white;}#sk-2f6bedf3-33df-490b-8766-654a7212e5e2 label.sk-toggleable__label {cursor: pointer;display: block;width: 100%;margin-bottom: 0;padding: 0.2em 0.3em;box-sizing: border-box;text-align: center;}#sk-2f6bedf3-33df-490b-8766-654a7212e5e2 div.sk-toggleable__content {max-height: 0;max-width: 0;overflow: hidden;text-align: left;background-color: #f0f8ff;}#sk-2f6bedf3-33df-490b-8766-654a7212e5e2 div.sk-toggleable__content pre {margin: 0.2em;color: black;border-radius: 0.25em;background-color: #f0f8ff;}#sk-2f6bedf3-33df-490b-8766-654a7212e5e2 input.sk-toggleable__control:checked~div.sk-toggleable__content {max-height: 200px;max-width: 100%;overflow: auto;}#sk-2f6bedf3-33df-490b-8766-654a7212e5e2 div.sk-estimator input.sk-toggleable__control:checked~label.sk-toggleable__label {background-color: #d4ebff;}#sk-2f6bedf3-33df-490b-8766-654a7212e5e2 div.sk-label input.sk-toggleable__control:checked~label.sk-toggleable__label {background-color: #d4ebff;}#sk-2f6bedf3-33df-490b-8766-654a7212e5e2 input.sk-hidden--visually {border: 0;clip: rect(1px 1px 1px 1px);clip: rect(1px, 1px, 1px, 1px);height: 1px;margin: -1px;overflow: hidden;padding: 0;position: absolute;width: 1px;}#sk-2f6bedf3-33df-490b-8766-654a7212e5e2 div.sk-estimator {font-family: monospace;background-color: #f0f8ff;margin: 0.25em 0.25em;border: 1px dotted black;border-radius: 0.25em;box-sizing: border-box;}#sk-2f6bedf3-33df-490b-8766-654a7212e5e2 div.sk-estimator:hover {background-color: #d4ebff;}#sk-2f6bedf3-33df-490b-8766-654a7212e5e2 div.sk-parallel-item::after {content: \"\";width: 100%;border-bottom: 1px solid gray;flex-grow: 1;}#sk-2f6bedf3-33df-490b-8766-654a7212e5e2 div.sk-label:hover label.sk-toggleable__label {background-color: #d4ebff;}#sk-2f6bedf3-33df-490b-8766-654a7212e5e2 div.sk-serial::before {content: \"\";position: absolute;border-left: 1px solid gray;box-sizing: border-box;top: 2em;bottom: 0;left: 50%;}#sk-2f6bedf3-33df-490b-8766-654a7212e5e2 div.sk-serial {display: flex;flex-direction: column;align-items: center;background-color: white;}#sk-2f6bedf3-33df-490b-8766-654a7212e5e2 div.sk-item {z-index: 1;}#sk-2f6bedf3-33df-490b-8766-654a7212e5e2 div.sk-parallel {display: flex;align-items: stretch;justify-content: center;background-color: white;}#sk-2f6bedf3-33df-490b-8766-654a7212e5e2 div.sk-parallel-item {display: flex;flex-direction: column;position: relative;background-color: white;}#sk-2f6bedf3-33df-490b-8766-654a7212e5e2 div.sk-parallel-item:first-child::after {align-self: flex-end;width: 50%;}#sk-2f6bedf3-33df-490b-8766-654a7212e5e2 div.sk-parallel-item:last-child::after {align-self: flex-start;width: 50%;}#sk-2f6bedf3-33df-490b-8766-654a7212e5e2 div.sk-parallel-item:only-child::after {width: 0;}#sk-2f6bedf3-33df-490b-8766-654a7212e5e2 div.sk-dashed-wrapped {border: 1px dashed gray;margin: 0.2em;box-sizing: border-box;padding-bottom: 0.1em;background-color: white;position: relative;}#sk-2f6bedf3-33df-490b-8766-654a7212e5e2 div.sk-label label {font-family: monospace;font-weight: bold;background-color: white;display: inline-block;line-height: 1.2em;}#sk-2f6bedf3-33df-490b-8766-654a7212e5e2 div.sk-label-container {position: relative;z-index: 2;text-align: center;}#sk-2f6bedf3-33df-490b-8766-654a7212e5e2 div.sk-container {display: inline-block;position: relative;}</style><div id=\"sk-2f6bedf3-33df-490b-8766-654a7212e5e2\" class\"sk-top-container\"><div class=\"sk-container\"><div class=\"sk-item sk-dashed-wrapped\"><div class=\"sk-label-container\"><div class=\"sk-label sk-toggleable\"><input class=\"sk-toggleable__control sk-hidden--visually\" id=\"309e7354-3a84-448c-941b-5e9efb65e9b7\" type=\"checkbox\" ><label class=\"sk-toggleable__label\" for=\"309e7354-3a84-448c-941b-5e9efb65e9b7\">GridSearchCV</label><div class=\"sk-toggleable__content\"><pre>GridSearchCV(cv=5,\n",
       "             estimator=Pipeline(steps=[('regressor',\n",
       "                                        RandomForestRegressor(random_state=42))]),\n",
       "             n_jobs=-1,\n",
       "             param_grid={'regressor__max_depth': [5, 10, 15, None],\n",
       "                         'regressor__min_samples_leaf': [1, 2, 4],\n",
       "                         'regressor__min_samples_split': [2, 5, 10],\n",
       "                         'regressor__n_estimators': [100, 200, 300]},\n",
       "             verbose=2)</pre></div></div></div><div class=\"sk-parallel\"><div class=\"sk-parallel-item\"><div class=\"sk-item\"><div class=\"sk-serial\"><div class=\"sk-item\"><div class=\"sk-serial\"><div class=\"sk-item\"><div class=\"sk-estimator sk-toggleable\"><input class=\"sk-toggleable__control sk-hidden--visually\" id=\"5ad8df88-d348-4bd2-9c88-f907decce9f8\" type=\"checkbox\" ><label class=\"sk-toggleable__label\" for=\"5ad8df88-d348-4bd2-9c88-f907decce9f8\">RandomForestRegressor</label><div class=\"sk-toggleable__content\"><pre>RandomForestRegressor(random_state=42)</pre></div></div></div></div></div></div></div></div></div></div></div></div>"
      ],
      "text/plain": [
       "GridSearchCV(cv=5,\n",
       "             estimator=Pipeline(steps=[('regressor',\n",
       "                                        RandomForestRegressor(random_state=42))]),\n",
       "             n_jobs=-1,\n",
       "             param_grid={'regressor__max_depth': [5, 10, 15, None],\n",
       "                         'regressor__min_samples_leaf': [1, 2, 4],\n",
       "                         'regressor__min_samples_split': [2, 5, 10],\n",
       "                         'regressor__n_estimators': [100, 200, 300]},\n",
       "             verbose=2)"
      ]
     },
     "execution_count": 12,
     "metadata": {},
     "output_type": "execute_result"
    }
   ],
   "source": [
    "# Create a pipeline\n",
    "pipeline = Pipeline([\n",
    "    ('regressor', RandomForestRegressor(random_state=42))\n",
    "])\n",
    "\n",
    "# Define the grid search parameters\n",
    "param_grid = {\n",
    "    'regressor__n_estimators': [100, 200, 300],\n",
    "    'regressor__max_depth': [5, 10, 15, None],\n",
    "    'regressor__min_samples_split': [2, 5, 10],\n",
    "    'regressor__min_samples_leaf': [1, 2, 4],\n",
    "}\n",
    "\n",
    "# Instantiate the grid search object\n",
    "grid_search = GridSearchCV(\n",
    "    pipeline, param_grid=param_grid, cv=5, n_jobs=-1, verbose=2)\n",
    "\n",
    "# Fit the pipeline on the training data\n",
    "grid_search.fit(X_train, y_train)\n"
   ]
  },
  {
   "cell_type": "code",
   "execution_count": 13,
   "id": "f7c3d49a",
   "metadata": {},
   "outputs": [
    {
     "name": "stdout",
     "output_type": "stream",
     "text": [
      "Best parameters:  {'regressor__max_depth': 15, 'regressor__min_samples_leaf': 4, 'regressor__min_samples_split': 10, 'regressor__n_estimators': 300}\n",
      "Best score:  0.9881109895053124\n"
     ]
    }
   ],
   "source": [
    "print(\"Best parameters: \", grid_search.best_params_)\n",
    "print(\"Best score: \", grid_search.best_score_)"
   ]
  },
  {
   "cell_type": "code",
   "execution_count": null,
   "id": "e733935a",
   "metadata": {},
   "outputs": [],
   "source": []
  }
 ],
 "metadata": {
  "kernelspec": {
   "display_name": "Python 3 (ipykernel)",
   "language": "python",
   "name": "python3"
  },
  "language_info": {
   "codemirror_mode": {
    "name": "ipython",
    "version": 3
   },
   "file_extension": ".py",
   "mimetype": "text/x-python",
   "name": "python",
   "nbconvert_exporter": "python",
   "pygments_lexer": "ipython3",
   "version": "3.9.7"
  }
 },
 "nbformat": 4,
 "nbformat_minor": 5
}
